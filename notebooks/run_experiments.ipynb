{
  "nbformat": 4,
  "nbformat_minor": 0,
  "metadata": {
    "colab": {
      "provenance": []
    },
    "kernelspec": {
      "name": "python3",
      "display_name": "Python 3"
    },
    "language_info": {
      "name": "python"
    },
    "accelerator": "GPU",
    "gpuClass": "standard"
  },
  "cells": [
    {
      "cell_type": "code",
      "source": [
        "# # check GPU\n",
        "!nvidia-smi"
      ],
      "metadata": {
        "colab": {
          "base_uri": "https://localhost:8080/"
        },
        "id": "-V6b2WzGJy25",
        "outputId": "a4b55344-2236-4c46-dc5f-b6626923178f"
      },
      "execution_count": 1,
      "outputs": [
        {
          "output_type": "stream",
          "name": "stdout",
          "text": [
            "NVIDIA-SMI has failed because it couldn't communicate with the NVIDIA driver. Make sure that the latest NVIDIA driver is installed and running.\n",
            "\n"
          ]
        }
      ]
    },
    {
      "cell_type": "code",
      "source": [
        "!rm -rf mode_connectivity\n",
        "# # pulls repo to colab\n",
        "!git clone https://github.com/char-tan/mode_connectivity.git\n",
        "\n",
        "\n",
        "# # checkout specific branch if needed\n",
        "!cd mode_connectivity"
      ],
      "metadata": {
        "colab": {
          "base_uri": "https://localhost:8080/"
        },
        "id": "YMEi7rs6Jywp",
        "outputId": "569e0d5c-d948-4c23-9fcf-eac5ffffd84b"
      },
      "execution_count": 2,
      "outputs": [
        {
          "output_type": "stream",
          "name": "stdout",
          "text": [
            "Cloning into 'mode_connectivity'...\n",
            "remote: Enumerating objects: 1063, done.\u001b[K\n",
            "remote: Counting objects: 100% (273/273), done.\u001b[K\n",
            "remote: Compressing objects: 100% (155/155), done.\u001b[K\n",
            "remote: Total 1063 (delta 146), reused 182 (delta 118), pack-reused 790\u001b[K\n",
            "Receiving objects: 100% (1063/1063), 38.76 MiB | 22.82 MiB/s, done.\n",
            "Resolving deltas: 100% (624/624), done.\n"
          ]
        }
      ]
    },
    {
      "cell_type": "code",
      "source": [
        "!cd mode_connectivity; git lfs pull -I \"model_files/mlp*\"\n",
        "!cd mode_connectivity; git lfs pull -I \"model_files/resnet*\""
      ],
      "metadata": {
        "id": "A7TF3dS8Jypp"
      },
      "execution_count": null,
      "outputs": []
    },
    {
      "cell_type": "code",
      "source": [
        "# allows you to change the .py files and have the imports updated\n",
        "%load_ext autoreload\n",
        "%autoreload 2"
      ],
      "metadata": {
        "id": "tEN4J9gFJygc"
      },
      "execution_count": null,
      "outputs": []
    },
    {
      "cell_type": "code",
      "source": [
        "import sys, os\n",
        "SCRIPT_DIR = os.path.dirname(os.path.abspath('.'))\n",
        "sys.path.append(os.path.dirname(SCRIPT_DIR))\n",
        "\n",
        "sys.path.append(\"mode_connectivity\")"
      ],
      "metadata": {
        "id": "ciEX9kIdKjxN"
      },
      "execution_count": null,
      "outputs": []
    },
    {
      "cell_type": "markdown",
      "source": [
        "# RUN AND SAVE EXPERIMENTS CONVENIENTLY"
      ],
      "metadata": {
        "id": "jd-gbfxLKgSS"
      }
    },
    {
      "cell_type": "code",
      "execution_count": 1,
      "metadata": {
        "colab": {
          "base_uri": "https://localhost:8080/",
          "height": 318
        },
        "id": "8j4m3IAcJCmp",
        "outputId": "640ce8df-f4c6-48a5-c001-646c21569f48"
      },
      "outputs": [
        {
          "output_type": "error",
          "ename": "ModuleNotFoundError",
          "evalue": "ignored",
          "traceback": [
            "\u001b[0;31m---------------------------------------------------------------------------\u001b[0m",
            "\u001b[0;31mModuleNotFoundError\u001b[0m                       Traceback (most recent call last)",
            "\u001b[0;32m<ipython-input-1-00bed3ea3582>\u001b[0m in \u001b[0;36m<module>\u001b[0;34m\u001b[0m\n\u001b[0;32m----> 1\u001b[0;31m \u001b[0;32mfrom\u001b[0m \u001b[0mmode_connectivity\u001b[0m\u001b[0;34m.\u001b[0m\u001b[0mexperiments\u001b[0m \u001b[0;32mimport\u001b[0m \u001b[0mmlp_config\u001b[0m\u001b[0;34m,\u001b[0m \u001b[0mresnet_config\u001b[0m\u001b[0;34m,\u001b[0m \u001b[0mrun_experiment\u001b[0m\u001b[0;34m\u001b[0m\u001b[0;34m\u001b[0m\u001b[0m\n\u001b[0m",
            "\u001b[0;31mModuleNotFoundError\u001b[0m: No module named 'mode_connectivity'",
            "",
            "\u001b[0;31m---------------------------------------------------------------------------\u001b[0;32m\nNOTE: If your import is failing due to a missing package, you can\nmanually install dependencies using either !pip or !apt.\n\nTo view examples of installing some common dependencies, click the\n\"Open Examples\" button below.\n\u001b[0;31m---------------------------------------------------------------------------\u001b[0m\n"
          ],
          "errorDetails": {
            "actions": [
              {
                "action": "open_url",
                "actionText": "Open Examples",
                "url": "/notebooks/snippets/importing_libraries.ipynb"
              }
            ]
          }
        }
      ],
      "source": [
        "from mode_connectivity.experiments import mlp_config, resnet_config, run_experiment"
      ]
    },
    {
      "cell_type": "code",
      "source": [
        "comparison, fig, fig2 = run_experiment(\n",
        "    resnet_config(2),\n",
        "    n_points = 20,\n",
        "    permute = True,\n",
        "    geodesic_opt_lr = 1e-1,\n",
        "    geodesic_opt_epochs = 2,\n",
        "    plot_figsize=(12,5),\n",
        "    plot_relative_x=True,\n",
        "    distance_metrics={\n",
        "        \"index\": index_distance,\n",
        "        \"sq.euclidean\": euclid_dist,\n",
        "        \"JSD\": sqrt_JSD_loss\n",
        "    },\n",
        "    save_path = \"mode_connectivity/experiments/\",\n",
        "    experiment_name = \"test\"\n",
        ")"
      ],
      "metadata": {
        "id": "IqWipGUeJD4T"
      },
      "execution_count": null,
      "outputs": []
    }
  ]
}