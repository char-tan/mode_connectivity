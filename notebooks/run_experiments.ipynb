{
  "cells": [
    {
      "cell_type": "code",
      "execution_count": 1,
      "metadata": {
        "colab": {
          "base_uri": "https://localhost:8080/"
        },
        "id": "-V6b2WzGJy25",
        "outputId": "a4b55344-2236-4c46-dc5f-b6626923178f"
      },
      "outputs": [
        {
          "name": "stdout",
          "output_type": "stream",
          "text": [
            "NVIDIA-SMI has failed because it couldn't communicate with the NVIDIA driver. Make sure that the latest NVIDIA driver is installed and running.\n",
            "\n"
          ]
        }
      ],
      "source": [
        "# # check GPU\n",
        "!nvidia-smi"
      ]
    },
    {
      "cell_type": "code",
      "execution_count": 2,
      "metadata": {
        "colab": {
          "base_uri": "https://localhost:8080/"
        },
        "id": "YMEi7rs6Jywp",
        "outputId": "569e0d5c-d948-4c23-9fcf-eac5ffffd84b"
      },
      "outputs": [
        {
          "name": "stdout",
          "output_type": "stream",
          "text": [
            "Cloning into 'mode_connectivity'...\n",
            "remote: Enumerating objects: 1063, done.\u001b[K\n",
            "remote: Counting objects: 100% (273/273), done.\u001b[K\n",
            "remote: Compressing objects: 100% (155/155), done.\u001b[K\n",
            "remote: Total 1063 (delta 146), reused 182 (delta 118), pack-reused 790\u001b[K\n",
            "Receiving objects: 100% (1063/1063), 38.76 MiB | 22.82 MiB/s, done.\n",
            "Resolving deltas: 100% (624/624), done.\n"
          ]
        }
      ],
      "source": [
        "!rm -rf mode_connectivity\n",
        "# # pulls repo to colab\n",
        "!git clone https://github.com/char-tan/mode_connectivity.git\n",
        "\n",
        "\n",
        "# # checkout specific branch if needed\n",
        "!cd mode_connectivity"
      ]
    },
    {
      "cell_type": "code",
      "execution_count": null,
      "metadata": {
        "id": "A7TF3dS8Jypp"
      },
      "outputs": [],
      "source": [
        "!cd mode_connectivity; git lfs pull -I \"model_files/mlp*\"\n",
        "!cd mode_connectivity; git lfs pull -I \"model_files/resnet*\""
      ]
    },
    {
      "cell_type": "code",
      "execution_count": null,
      "metadata": {
        "id": "tEN4J9gFJygc"
      },
      "outputs": [],
      "source": [
        "# allows you to change the .py files and have the imports updated\n",
        "%load_ext autoreload\n",
        "%autoreload 2"
      ]
    },
    {
      "cell_type": "code",
      "execution_count": null,
      "metadata": {
        "id": "ciEX9kIdKjxN"
      },
      "outputs": [],
      "source": [
        "import sys, os\n",
        "SCRIPT_DIR = os.path.dirname(os.path.abspath('.'))\n",
        "sys.path.append(os.path.dirname(SCRIPT_DIR))\n",
        "\n",
        "sys.path.append(\"mode_connectivity\")"
      ]
    },
    {
      "cell_type": "markdown",
      "metadata": {
        "id": "jd-gbfxLKgSS"
      },
      "source": [
        "# RUN AND SAVE EXPERIMENTS CONVENIENTLY"
      ]
    },
    {
      "cell_type": "code",
      "execution_count": 1,
      "metadata": {
        "colab": {
          "base_uri": "https://localhost:8080/",
          "height": 318
        },
        "id": "8j4m3IAcJCmp",
        "outputId": "640ce8df-f4c6-48a5-c001-646c21569f48"
      },
      "outputs": [
        {
          "ename": "ModuleNotFoundError",
          "evalue": "ignored",
          "output_type": "error",
          "traceback": [
            "\u001b[0;31m---------------------------------------------------------------------------\u001b[0m",
            "\u001b[0;31mModuleNotFoundError\u001b[0m                       Traceback (most recent call last)",
            "\u001b[0;32m<ipython-input-1-00bed3ea3582>\u001b[0m in \u001b[0;36m<module>\u001b[0;34m\u001b[0m\n\u001b[0;32m----> 1\u001b[0;31m \u001b[0;32mfrom\u001b[0m \u001b[0mmode_connectivity\u001b[0m\u001b[0;34m.\u001b[0m\u001b[0mexperiments\u001b[0m \u001b[0;32mimport\u001b[0m \u001b[0mmlp_config\u001b[0m\u001b[0;34m,\u001b[0m \u001b[0mresnet_config\u001b[0m\u001b[0;34m,\u001b[0m \u001b[0mrun_experiment\u001b[0m\u001b[0;34m\u001b[0m\u001b[0;34m\u001b[0m\u001b[0m\n\u001b[0m",
            "\u001b[0;31mModuleNotFoundError\u001b[0m: No module named 'mode_connectivity'",
            "",
            "\u001b[0;31m---------------------------------------------------------------------------\u001b[0;32m\nNOTE: If your import is failing due to a missing package, you can\nmanually install dependencies using either !pip or !apt.\n\nTo view examples of installing some common dependencies, click the\n\"Open Examples\" button below.\n\u001b[0;31m---------------------------------------------------------------------------\u001b[0m\n"
          ]
        }
      ],
      "source": [
        "from mode_connectivity.experiments import mlp_config, resnet_config, run_experiment\n",
        "from mode_connectivity.utils.metrics import index_distance, euclid_dist, sqrt_JSD_loss\n",
        "\n",
        "import torch\n",
        "from google.colab import files"
      ]
    },
    {
      "cell_type": "code",
      "execution_count": null,
      "metadata": {
        "id": "IqWipGUeJD4T"
      },
      "outputs": [],
      "source": [
        "expt_configs = {\n",
        "    'config' : mlp_config,\n",
        "    'n_points' : 20,\n",
        "    'permute' : True,\n",
        "    'geodesic_opt_lr' : 1e-1,\n",
        "    'geodesic_opt_epochs' : 2,\n",
        "    'noise_var' : 0,\n",
        "    'plot_figsize' : (12,5),\n",
        "    'plot_relative_x' : True,\n",
        "    'distance_metrics': {\n",
        "        \"index\": index_distance,\n",
        "        \"sq.euclidean\": euclid_dist,\n",
        "        \"JSD\": sqrt_JSD_loss\n",
        "    },\n",
        "    'save_path' : \"mode_connectivity/experiments/\",\n",
        "    'experiment_name' : \"test\",\n",
        "}\n",
        "save_path = expt_configs['save_path']\n",
        "experiment_name = expt_configs['experiment_name']\n",
        "\n",
        "torch.save(expt_configs, save_path + experiment_name + '_expt_configs.pt')\n",
        "files.save(save_path + experiment_name + '_expt_configs.pt')\n",
        "\n",
        "comparison, fig, fig2 = run_experiment(\n",
        "    expt_configs['config'],\n",
        "    n_points = expt_configs['n_points'],\n",
        "    permute = expt_configs['permute'],\n",
        "    geodesic_opt_lr = expt_configs['geodesic_opt_lr'],\n",
        "    geodesic_opt_epochs = expt_configs['geodesic_opt_epochs'],\n",
        "    noise_var = expt_configs['noise_var'],\n",
        "    plot_figsize=expt_configs['plot_figsize'],\n",
        "    plot_relative_x=expt_configs['plot_relative_x'],\n",
        "    distance_metrics=expt_configs['distance_metrics'],\n",
        "    save_path = expt_configs['save_path'],\n",
        "    experiment_name = expt_configs['experiment_name']\n",
        ")"
      ]
    },
    {
      "cell_type": "code",
      "execution_count": null,
      "metadata": {},
      "outputs": [],
      "source": []
    }
  ],
  "metadata": {
    "accelerator": "GPU",
    "colab": {
      "provenance": []
    },
    "gpuClass": "standard",
    "kernelspec": {
      "display_name": "todl_final",
      "language": "python",
      "name": "python3"
    },
    "language_info": {
      "name": "python",
      "version": "3.10.0 (default, Mar  3 2022, 03:57:21) [Clang 12.0.0 ]"
    },
    "vscode": {
      "interpreter": {
        "hash": "8e77cb7a68e5fa4d7a6800023ccae82086d278e47813e8f0f0e440986cb02acd"
      }
    }
  },
  "nbformat": 4,
  "nbformat_minor": 0
}
