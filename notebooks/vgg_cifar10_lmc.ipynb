{
 "cells": [
  {
   "cell_type": "markdown",
   "id": "OHd3WZjq7pQB",
   "metadata": {
    "id": "OHd3WZjq7pQB"
   },
   "source": [
    "# Setup"
   ]
  },
  {
   "cell_type": "code",
   "execution_count": null,
   "id": "fSdnaEXm8ad9",
   "metadata": {
    "colab": {
     "base_uri": "https://localhost:8080/"
    },
    "id": "fSdnaEXm8ad9",
    "outputId": "a7c355c3-50a2-4b42-ee63-6bb80da133ff"
   },
   "outputs": [],
   "source": [
    "# check GPU\n",
    "!nvidia-smi"
   ]
  },
  {
   "cell_type": "code",
   "execution_count": null,
   "id": "999c2bc6",
   "metadata": {
    "colab": {
     "base_uri": "https://localhost:8080/"
    },
    "id": "999c2bc6",
    "outputId": "4495d0fc-8c29-4c91-9106-c75635186ed4"
   },
   "outputs": [],
   "source": [
    "# pulls repo to colab\n",
    "!git clone https://github.com/char-tan/mode_connectivity.git\n",
    "\n",
    "# checkout specific branch if needed\n",
    "!cd mode_connectivity; git checkout vgg_perm_spec"
   ]
  },
  {
   "cell_type": "code",
   "execution_count": null,
   "id": "nhw2DqG-_8Vb",
   "metadata": {
    "id": "nhw2DqG-_8Vb"
   },
   "outputs": [],
   "source": [
    "# allows you to change the .py files and have the imports updated\n",
    "%load_ext autoreload\n",
    "%autoreload 2"
   ]
  },
  {
   "cell_type": "code",
   "execution_count": null,
   "id": "fe1fb111",
   "metadata": {
    "id": "fe1fb111"
   },
   "outputs": [],
   "source": [
    "import sys, os\n",
    "SCRIPT_DIR = os.path.dirname(os.path.abspath('.'))\n",
    "sys.path.append(os.path.dirname(SCRIPT_DIR))\n",
    "\n",
    "from mode_connectivity.training import *\n",
    "from mode_connectivity.lmc import *\n",
    "from mode_connectivity.training_config import *\n",
    "\n",
    "from mode_connectivity.models.mlp import MLP\n",
    "from mode_connectivity.models.vgg import VGG\n",
    "from mode_connectivity.models.resnet import ResNet\n",
    "\n",
    "from mode_connectivity.utils import weight_matching, data, training_utils, plot, utils\n",
    "\n",
    "import torch\n",
    "from torchvision import transforms\n",
    "import copy\n",
    "from tqdm import tqdm\n",
    "import matplotlib.pyplot as plt\n",
    "import numpy as np"
   ]
  },
  {
   "cell_type": "markdown",
   "id": "u1WMQgF68xZA",
   "metadata": {
    "id": "u1WMQgF68xZA"
   },
   "source": [
    "# VGG LMC"
   ]
  },
  {
   "cell_type": "code",
   "execution_count": null,
   "id": "QAdC8I8TVVOx",
   "metadata": {
    "id": "QAdC8I8TVVOx"
   },
   "outputs": [],
   "source": [
    "# pull the required model files\n",
    "!cd mode_connectivity && git lfs pull -I model_files/vgg_wm1_a.pt \n",
    "!cd mode_connectivity && git lfs pull -I model_files/vgg_wm1_b.pt\n",
    "!cd mode_connectivity && git lfs pull -I model_files/vgg_wm2_a.pt \n",
    "!cd mode_connectivity && git lfs pull -I model_files/vgg_wm2_b.pt\n",
    "!cd mode_connectivity && git lfs pull -I model_files/vgg_wm4_a.pt \n",
    "!cd mode_connectivity && git lfs pull -I model_files/vgg_wm4_b.pt"
   ]
  },
  {
   "cell_type": "code",
   "execution_count": null,
   "id": "c4151e8c",
   "metadata": {
    "colab": {
     "base_uri": "https://localhost:8080/"
    },
    "id": "c4151e8c",
    "outputId": "465fc7a5-0817-426e-a051-a1491107b662",
    "scrolled": false
   },
   "outputs": [],
   "source": [
    "n_points = 20\n",
    "lambdas = torch.linspace(0, 1, steps=n_points)\n",
    "\n",
    "for wm in [4]:\n",
    "\n",
    "  model_a = VGG(width_multiplier=wm)\n",
    "  model_b = VGG(width_multiplier=wm)\n",
    "\n",
    "  (\n",
    "      permuted_params,\n",
    "      train_acc_naive,\n",
    "      test_acc_naive,\n",
    "      train_acc_perm,\n",
    "      test_acc_perm,\n",
    "  ) = linear_mode_connect(\n",
    "      VGG, \n",
    "      {'width_multiplier': wm},\n",
    "      f'mode_connectivity/model_files/vgg_wm{wm}_a.pt', \n",
    "      f'mode_connectivity/model_files/vgg_wm{wm}_b.pt', \n",
    "      'cifar10', \n",
    "      n_points=n_points, \n",
    "      verbose=2, \n",
    "      max_iter=30,\n",
    "  )\n",
    "\n",
    "  torch.save(permuted_params, f'mode_connectivity/model_files/vgg_wm{wm}_b_permuted.pt')\n",
    "\n",
    "  print(train_acc_naive)\n",
    "  print(test_acc_naive)\n",
    "  print(train_acc_perm)\n",
    "  print(test_acc_perm)"
   ]
  }
 ],
 "metadata": {
  "accelerator": "GPU",
  "colab": {
   "provenance": []
  },
  "gpuClass": "standard",
  "kernelspec": {
   "display_name": "Python 3",
   "language": "python",
   "name": "python3"
  },
  "language_info": {
   "codemirror_mode": {
    "name": "ipython",
    "version": 3
   },
   "file_extension": ".py",
   "mimetype": "text/x-python",
   "name": "python",
   "nbconvert_exporter": "python",
   "pygments_lexer": "ipython3",
   "version": "3.8.8"
  },
  "vscode": {
   "interpreter": {
    "hash": "533dc1b5f6751e9c738350df3cd1b0ef5f569dd461507537431de13a6c09381e"
   }
  }
 },
 "nbformat": 4,
 "nbformat_minor": 5
}
