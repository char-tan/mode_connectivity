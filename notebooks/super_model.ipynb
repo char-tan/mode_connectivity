{
  "cells": [
    {
      "cell_type": "markdown",
      "source": [
        "## Setup"
      ],
      "metadata": {
        "id": "qwtnx1_IOqO0"
      }
    },
    {
      "cell_type": "code",
      "execution_count": 101,
      "metadata": {
        "colab": {
          "base_uri": "https://localhost:8080/"
        },
        "id": "ZEh32oOkZtQt",
        "outputId": "69c3bf66-2532-4120-d4f7-115d5a2eaf8f"
      },
      "outputs": [
        {
          "output_type": "stream",
          "name": "stdout",
          "text": [
            "Fri Jan 13 17:44:05 2023       \n",
            "+-----------------------------------------------------------------------------+\n",
            "| NVIDIA-SMI 460.32.03    Driver Version: 460.32.03    CUDA Version: 11.2     |\n",
            "|-------------------------------+----------------------+----------------------+\n",
            "| GPU  Name        Persistence-M| Bus-Id        Disp.A | Volatile Uncorr. ECC |\n",
            "| Fan  Temp  Perf  Pwr:Usage/Cap|         Memory-Usage | GPU-Util  Compute M. |\n",
            "|                               |                      |               MIG M. |\n",
            "|===============================+======================+======================|\n",
            "|   0  Tesla T4            Off  | 00000000:00:04.0 Off |                    0 |\n",
            "| N/A   59C    P0    28W /  70W |   1386MiB / 15109MiB |      0%      Default |\n",
            "|                               |                      |                  N/A |\n",
            "+-------------------------------+----------------------+----------------------+\n",
            "                                                                               \n",
            "+-----------------------------------------------------------------------------+\n",
            "| Processes:                                                                  |\n",
            "|  GPU   GI   CI        PID   Type   Process name                  GPU Memory |\n",
            "|        ID   ID                                                   Usage      |\n",
            "|=============================================================================|\n",
            "+-----------------------------------------------------------------------------+\n"
          ]
        }
      ],
      "source": [
        "# # check GPU\n",
        "!nvidia-smi"
      ]
    },
    {
      "cell_type": "code",
      "execution_count": 102,
      "metadata": {
        "colab": {
          "base_uri": "https://localhost:8080/"
        },
        "id": "y9yk_NPrZtQx",
        "outputId": "21c76bd3-92cc-4e5c-9ed7-3f449fe4cd65"
      },
      "outputs": [
        {
          "output_type": "stream",
          "name": "stdout",
          "text": [
            "fatal: destination path 'mode_connectivity' already exists and is not an empty directory.\n",
            "M\tgeodesic_opt.py\n",
            "Already on 'super_model'\n",
            "Your branch is up to date with 'origin/super_model'.\n"
          ]
        }
      ],
      "source": [
        "# # pulls repo to colab\n",
        "!git clone https://github.com/char-tan/mode_connectivity.git\n",
        "\n",
        "# # checkout specific branch if needed\n",
        "!cd mode_connectivity; git checkout super_model"
      ]
    },
    {
      "cell_type": "code",
      "execution_count": 103,
      "metadata": {
        "id": "EEagJfsuZtQy",
        "colab": {
          "base_uri": "https://localhost:8080/"
        },
        "outputId": "e4e5175c-a266-4a19-cfd2-821d257d041d"
      },
      "outputs": [
        {
          "output_type": "stream",
          "name": "stdout",
          "text": [
            "The autoreload extension is already loaded. To reload it, use:\n",
            "  %reload_ext autoreload\n"
          ]
        }
      ],
      "source": [
        "# allows you to change the .py files and have the imports updated\n",
        "%load_ext autoreload\n",
        "%autoreload 2"
      ]
    },
    {
      "cell_type": "code",
      "execution_count": 104,
      "metadata": {
        "id": "g2nsNvKcZtQy"
      },
      "outputs": [],
      "source": [
        "import sys, os\n",
        "SCRIPT_DIR = os.path.dirname(os.path.abspath('.'))\n",
        "sys.path.append(os.path.dirname(SCRIPT_DIR))\n",
        "\n",
        "sys.path.append(\"mode_connectivity\")"
      ]
    },
    {
      "cell_type": "code",
      "execution_count": 105,
      "metadata": {
        "id": "1ckm3AjjZtQz"
      },
      "outputs": [],
      "source": [
        "import torch\n",
        "from torchvision import transforms, datasets\n",
        "import copy\n",
        "from tqdm import tqdm\n",
        "import matplotlib.pyplot as plt\n",
        "import numpy as np\n",
        "\n",
        "from mode_connectivity.utils import weight_matching, data, training_utils, plot, utils\n",
        "from mode_connectivity.training_config import *\n",
        "from mode_connectivity.lmc import *\n",
        "from mode_connectivity.training import *\n",
        "\n",
        "from mode_connectivity.models.mlp import MLP"
      ]
    },
    {
      "cell_type": "markdown",
      "metadata": {
        "id": "IUjuW--LZtQ0"
      },
      "source": [
        "# Training MLP models"
      ]
    },
    {
      "cell_type": "code",
      "execution_count": 106,
      "metadata": {
        "colab": {
          "base_uri": "https://localhost:8080/"
        },
        "id": "jeM42k04ZtQ1",
        "outputId": "b8019724-2ac6-4fbf-f9d4-69c9b5206305"
      },
      "outputs": [
        {
          "output_type": "stream",
          "name": "stdout",
          "text": [
            "Train Epoch: 1, Train Accuracy: (90%) \n",
            "Average loss: 0.1301, Accuracy: (96%)\n",
            "Train Epoch: 2, Train Accuracy: (97%) \n",
            "Average loss: 0.0942, Accuracy: (97%)\n",
            "Train Epoch: 3, Train Accuracy: (98%) \n",
            "Average loss: 0.0708, Accuracy: (98%)\n",
            "Train Epoch: 4, Train Accuracy: (99%) \n",
            "Average loss: 0.0864, Accuracy: (97%)\n",
            "Train Epoch: 5, Train Accuracy: (99%) \n",
            "Average loss: 0.0811, Accuracy: (97%)\n",
            "Train Epoch: 6, Train Accuracy: (99%) \n",
            "Average loss: 0.0794, Accuracy: (98%)\n",
            "Train Epoch: 7, Train Accuracy: (99%) \n",
            "Average loss: 0.0721, Accuracy: (98%)\n",
            "Train Epoch: 8, Train Accuracy: (99%) \n",
            "Average loss: 0.0732, Accuracy: (98%)\n",
            "Train Epoch: 9, Train Accuracy: (99%) \n",
            "Average loss: 0.0811, Accuracy: (98%)\n",
            "Train Epoch: 10, Train Accuracy: (99%) \n",
            "Average loss: 0.0778, Accuracy: (98%)\n",
            "Train Epoch: 1, Train Accuracy: (90%) \n",
            "Average loss: 0.1392, Accuracy: (96%)\n",
            "Train Epoch: 2, Train Accuracy: (97%) \n",
            "Average loss: 0.0911, Accuracy: (97%)\n",
            "Train Epoch: 3, Train Accuracy: (98%) \n",
            "Average loss: 0.0784, Accuracy: (98%)\n",
            "Train Epoch: 4, Train Accuracy: (98%) \n",
            "Average loss: 0.0707, Accuracy: (98%)\n",
            "Train Epoch: 5, Train Accuracy: (99%) \n",
            "Average loss: 0.0840, Accuracy: (98%)\n",
            "Train Epoch: 6, Train Accuracy: (99%) \n",
            "Average loss: 0.0713, Accuracy: (98%)\n",
            "Train Epoch: 7, Train Accuracy: (99%) \n",
            "Average loss: 0.0814, Accuracy: (98%)\n",
            "Train Epoch: 8, Train Accuracy: (99%) \n",
            "Average loss: 0.0892, Accuracy: (98%)\n",
            "Train Epoch: 9, Train Accuracy: (99%) \n",
            "Average loss: 0.0936, Accuracy: (98%)\n",
            "Train Epoch: 10, Train Accuracy: (99%) \n",
            "Average loss: 0.0868, Accuracy: (98%)\n"
          ]
        }
      ],
      "source": [
        "training_config = MLP_MNIST_DEFAULT\n",
        "training_config.epochs = 10\n",
        "training_config.seed = 7\n",
        "\n",
        "# train model a\n",
        "# model_a_noisy = train_model(*setup_train(training_config, additional_train_transforms = [AddGaussianNoise(0., 0.1)]), verbose = 1)\n",
        "model_a = train_model(*setup_train(training_config), verbose = 1)\n",
        "torch.save(model_a.state_dict(), 'mlp_mnist_model_a.pt')\n",
        "\n",
        "# change seed to get different model\n",
        "training_config.seed = 42\n",
        "\n",
        "# train model b\n",
        "# model_b_noisy = train_model(*setup_train(training_config, additional_train_transforms = [AddGaussianNoise(0., 0.1)]), verbose = 1)\n",
        "model_b = train_model(*setup_train(training_config), verbose = 1)\n",
        "torch.save(model_b.state_dict(), 'mlp_mnist_model_b.pt')  "
      ]
    },
    {
      "cell_type": "markdown",
      "metadata": {
        "id": "Kj3dmuKMZtQ2"
      },
      "source": [
        "# LMC in param space"
      ]
    },
    {
      "cell_type": "code",
      "execution_count": 111,
      "metadata": {
        "colab": {
          "base_uri": "https://localhost:8080/"
        },
        "id": "eDGQnKHGZtQ3",
        "outputId": "13599ac6-5298-4e98-d656-aa3515e596e9"
      },
      "outputs": [
        {
          "output_type": "stream",
          "name": "stdout",
          "text": [
            "\n",
            "performing naive interpolation\n",
            "Average loss: 0.0121, Accuracy: (100%)\n",
            "Average loss: 0.0778, Accuracy: (98%)\n",
            "Average loss: 0.0247, Accuracy: (99%)\n",
            "Average loss: 0.0675, Accuracy: (98%)\n",
            "Average loss: 0.1182, Accuracy: (99%)\n",
            "Average loss: 0.1445, Accuracy: (98%)\n",
            "Average loss: 0.5454, Accuracy: (98%)\n",
            "Average loss: 0.5576, Accuracy: (97%)\n",
            "Average loss: 1.1875, Accuracy: (92%)\n",
            "Average loss: 1.1905, Accuracy: (91%)\n",
            "Average loss: 1.1521, Accuracy: (93%)\n",
            "Average loss: 1.1534, Accuracy: (92%)\n",
            "Average loss: 0.4856, Accuracy: (98%)\n",
            "Average loss: 0.5025, Accuracy: (96%)\n",
            "Average loss: 0.0991, Accuracy: (99%)\n",
            "Average loss: 0.1331, Accuracy: (97%)\n",
            "Average loss: 0.0231, Accuracy: (99%)\n",
            "Average loss: 0.0718, Accuracy: (98%)\n",
            "Average loss: 0.0156, Accuracy: (99%)\n",
            "Average loss: 0.0868, Accuracy: (98%)\n",
            "point 10/10. \n",
            "permuting model\n",
            "\n",
            "performing permuted interpolation\n",
            "Average loss: 0.0121, Accuracy: (100%)\n",
            "Average loss: 0.0778, Accuracy: (98%)\n",
            "Average loss: 0.0111, Accuracy: (100%)\n",
            "Average loss: 0.0669, Accuracy: (98%)\n",
            "Average loss: 0.0121, Accuracy: (100%)\n",
            "Average loss: 0.0614, Accuracy: (98%)\n",
            "Average loss: 0.0142, Accuracy: (100%)\n",
            "Average loss: 0.0595, Accuracy: (98%)\n",
            "Average loss: 0.0159, Accuracy: (100%)\n",
            "Average loss: 0.0597, Accuracy: (98%)\n",
            "Average loss: 0.0160, Accuracy: (100%)\n",
            "Average loss: 0.0609, Accuracy: (98%)\n",
            "Average loss: 0.0143, Accuracy: (100%)\n",
            "Average loss: 0.0625, Accuracy: (98%)\n",
            "Average loss: 0.0125, Accuracy: (100%)\n",
            "Average loss: 0.0662, Accuracy: (98%)\n",
            "Average loss: 0.0124, Accuracy: (100%)\n",
            "Average loss: 0.0733, Accuracy: (98%)\n",
            "Average loss: 0.0156, Accuracy: (99%)\n",
            "Average loss: 0.0868, Accuracy: (98%)\n"
          ]
        }
      ],
      "source": [
        "n_points = 10\n",
        "(\n",
        "    permuted_params,\n",
        "    train_acc_naive,\n",
        "    test_acc_naive,\n",
        "    train_acc_perm,\n",
        "    test_acc_perm,\n",
        ") = linear_mode_connect(\n",
        "    MLP, \"mlp_mnist_model_a.pt\", \"mlp_mnist_model_b.pt\", \"mnist\", n_points=n_points, verbose=1\n",
        ")\n",
        "torch.save(permuted_params, 'mlp_mnist_model_pb.pt') "
      ]
    },
    {
      "cell_type": "code",
      "execution_count": 112,
      "metadata": {
        "colab": {
          "base_uri": "https://localhost:8080/",
          "height": 297
        },
        "id": "ZZ1O9CFsLOkV",
        "outputId": "0c409287-3b2d-4512-9e9a-0b64b05b5f42"
      },
      "outputs": [
        {
          "output_type": "display_data",
          "data": {
            "text/plain": [
              "<Figure size 432x288 with 1 Axes>"
            ],
            "image/png": "[encoded data removed]"
          },
          "metadata": {
            "needs_background": "light"
          }
        }
      ],
      "source": [
        "# First we do the basic linear interpolation plot\n",
        "lambdas = torch.linspace(0, 1, steps=n_points)\n",
        "fig = plot.plot_interp_metric(\"accuracy\", lambdas, train_acc_naive, test_acc_naive, train_acc_perm, test_acc_perm)"
      ]
    },
    {
      "cell_type": "markdown",
      "metadata": {
        "id": "_hBFD8pmh989"
      },
      "source": [
        "# Geodesic MC in functional space"
      ]
    },
    {
      "cell_type": "code",
      "execution_count": 166,
      "metadata": {
        "id": "H4thgfQ-xWyf"
      },
      "outputs": [],
      "source": [
        "# load in model state_dicts\n",
        "model_file_path = 'mode_connectivity/model_files/' # use this path in colab\n",
        "\n",
        "weights_a = torch.load(model_file_path + \"mlp_mnist_model_a.pt\", map_location=device)\n",
        "weights_b = torch.load(model_file_path + \"mlp_mnist_model_b.pt\", map_location=device)\n",
        "weights_pb = torch.load(model_file_path + \"mlp_mnist_model_pb.pt\", map_location=device)"
      ]
    },
    {
      "cell_type": "code",
      "execution_count": 167,
      "metadata": {
        "id": "137cFJ4oYep_"
      },
      "outputs": [],
      "source": [
        "train_kwargs = {\"batch_size\": 128, 'num_workers': 0, 'pin_memory': False}\n",
        "test_kwargs = {\"batch_size\": 128, 'num_workers': 0, 'pin_memory': False}\n",
        "\n",
        "train_loader, test_loader = data.get_data_loaders(\n",
        "    dataset=\"mnist\", train_kwargs=train_kwargs, test_kwargs=test_kwargs, eval_only=True,\n",
        ")"
      ]
    },
    {
      "cell_type": "code",
      "source": [
        "a = state_dict_to_torch_tensor(weights_a)\n",
        "b = state_dict_to_torch_tensor(weights_pb)\n",
        "\n",
        "print('checking sq euclidean distance', ((a - b)**2).sum())"
      ],
      "metadata": {
        "id": "vUHmbjyjXHcv",
        "outputId": "45ab26e5-2306-4648-afd0-dde582fa65c9",
        "colab": {
          "base_uri": "https://localhost:8080/"
        }
      },
      "execution_count": 172,
      "outputs": [
        {
          "output_type": "stream",
          "name": "stdout",
          "text": [
            "checking sq euclidean distance tensor(1248.0438, device='cuda:0')\n"
          ]
        }
      ]
    },
    {
      "cell_type": "markdown",
      "source": [
        "### Optimise for geodesic"
      ],
      "metadata": {
        "id": "cyV1X4z6-9MG"
      }
    },
    {
      "cell_type": "code",
      "source": [
        "from super import SuperModel\n",
        "from mode_connectivity.geodesic_opt import optimise_for_geodesic\n",
        "\n",
        "N = 10\n",
        "\n",
        "super_model = SuperModel(MLP, N, weights_a, weights_pb).to(device)\n",
        "\n",
        "a = state_dict_to_torch_tensor(super_model.models[0].state_dict())\n",
        "b = state_dict_to_torch_tensor(super_model.models[-1].state_dict())\n",
        "\n",
        "print('checking sq euclidean distance', ((a - b)**2).sum())\n",
        "\n",
        "path_lengths, sq_euc_dists  = optimise_for_geodesic(\n",
        "         super_model,\n",
        "         train_loader,\n",
        "         lr = 1e-1,\n",
        "         verbose=1,\n",
        "         num_epochs=30,)\n",
        "\n",
        "a = state_dict_to_torch_tensor(super_model.models[0].state_dict())\n",
        "b = state_dict_to_torch_tensor(super_model.models[-1].state_dict())\n",
        "\n",
        "print('checking sq euclidean distance', ((a - b)**2).sum())"
      ],
      "metadata": {
        "colab": {
          "base_uri": "https://localhost:8080/"
        },
        "id": "Zj2eqCA5Pn-_",
        "outputId": "ba23817c-7bf8-4e8f-b2ea-932c028bad99"
      },
      "execution_count": 175,
      "outputs": [
        {
          "output_type": "stream",
          "name": "stdout",
          "text": [
            "checking sq euclidean distance tensor(1248.0438, device='cuda:0')\n",
            "Optimising geodesic ...\n",
            "epoch 0 | path length 0.0002954492053343554 | sq euc dist 138.6814470433477\n",
            "epoch 1 | path length 0.0002288685566690935 | sq euc dist 138.69410648630625\n",
            "epoch 2 | path length 0.0001906892682902121 | sq euc dist 138.70653757882948\n",
            "epoch 3 | path length 0.00016527062699624986 | sq euc dist 138.71810316886985\n",
            "epoch 4 | path length 0.00014687776147009665 | sq euc dist 138.72874840449677\n",
            "epoch 5 | path length 0.00013282271755449347 | sq euc dist 138.73855776810527\n",
            "epoch 6 | path length 0.00012166331523702038 | sq euc dist 138.74762890130472\n",
            "epoch 7 | path length 0.00011254632147689831 | sq euc dist 138.7560556773692\n",
            "epoch 8 | path length 0.00010492883026822369 | sq euc dist 138.76392230205812\n",
            "epoch 9 | path length 9.845030145835504e-05 | sq euc dist 138.7712993369682\n",
            "epoch 10 | path length 9.285931222094592e-05 | sq euc dist 138.77824740808217\n",
            "epoch 11 | path length 8.79750923008124e-05 | sq euc dist 138.78481644913077\n",
            "epoch 12 | path length 8.366447035432861e-05 | sq euc dist 138.79104781186012\n",
            "epoch 13 | path length 7.982646219539648e-05 | sq euc dist 138.79697718461983\n",
            "epoch 14 | path length 7.638310960087894e-05 | sq euc dist 138.80263510936527\n",
            "epoch 15 | path length 7.327320295418636e-05 | sq euc dist 138.80804770333427\n",
            "epoch 16 | path length 7.044808798495857e-05 | sq euc dist 138.81323772120862\n",
            "epoch 17 | path length 6.786831878128801e-05 | sq euc dist 138.81822401786465\n",
            "epoch 18 | path length 6.550155897306592e-05 | sq euc dist 138.82302347533619\n",
            "epoch 19 | path length 6.332088848494929e-05 | sq euc dist 138.82765080791546\n",
            "epoch 20 | path length 6.130411909111518e-05 | sq euc dist 138.83211899152298\n",
            "epoch 21 | path length 5.943245260666736e-05 | sq euc dist 138.836439278727\n",
            "epoch 22 | path length 5.768996687280349e-05 | sq euc dist 138.8406221335487\n",
            "epoch 23 | path length 5.606308593022907e-05 | sq euc dist 138.84467676402664\n",
            "epoch 24 | path length 5.454010476545967e-05 | sq euc dist 138.84861164019816\n",
            "epoch 25 | path length 5.3110859727826695e-05 | sq euc dist 138.85243421557382\n",
            "epoch 26 | path length 5.1766569304473123e-05 | sq euc dist 138.85615123467716\n",
            "epoch 27 | path length 5.0499502038772356e-05 | sq euc dist 138.85976895260586\n",
            "epoch 28 | path length 4.9302888723416856e-05 | sq euc dist 138.8632928693867\n",
            "epoch 29 | path length 4.817072111548066e-05 | sq euc dist 138.8667281638161\n",
            "checking sq euclidean distance tensor(1248.0438, device='cuda:0')\n"
          ]
        }
      ]
    },
    {
      "cell_type": "code",
      "execution_count": 176,
      "metadata": {
        "id": "AGoj2e_w_Fs9",
        "outputId": "8125641f-fb3c-4342-9746-759395585b08",
        "colab": {
          "base_uri": "https://localhost:8080/",
          "height": 319
        }
      },
      "outputs": [
        {
          "output_type": "execute_result",
          "data": {
            "text/plain": [
              "Text(0, 0.5, 'path action via (squared) euclid dist')"
            ]
          },
          "metadata": {},
          "execution_count": 176
        },
        {
          "output_type": "display_data",
          "data": {
            "text/plain": [
              "<Figure size 432x288 with 2 Axes>"
            ],
            "image/png": "[encoded data removed]"
          },
          "metadata": {
            "needs_background": "light"
          }
        }
      ],
      "source": [
        "def rolling_mean(x, window):\n",
        "    return np.convolve(x, np.ones(window), 'valid') / window\n",
        "\n",
        "fig, ax = plt.subplots()\n",
        "\n",
        "# CURRENTLY SET TO DO ROLLING MEAN\n",
        "rolling_mean_length = rolling_mean(path_lengths, 50)\n",
        "\n",
        "loss_type = 'JSD loss'\n",
        "\n",
        "ax.plot(rolling_mean_length, color = 'red')\n",
        "ax.set_xlabel('GD iteration', fontsize = 14)\n",
        "ax.set_ylabel('path action via ' + loss_type, color = 'red', fontsize = 14)\n",
        "\n",
        "ax2=ax.twinx()\n",
        "ax2.plot(sq_euc_dists, color = 'blue')\n",
        "ax2.set_ylabel('path action via (squared) euclid dist', color = 'blue', fontsize = 14)"
      ]
    },
    {
      "cell_type": "code",
      "source": [
        "from geodesic_opt import evaluate_geodesic\n",
        "\n",
        "# path_lengths are per step, acc is per model\n",
        "train_path_length, train_acc = evaluate_geodesic(super_model, train_loader, verbose=0)\n",
        "test_path_length, test_acc = evaluate_geodesic(super_model, test_loader, verbose=0)"
      ],
      "metadata": {
        "id": "f265KCVxAd5s",
        "outputId": "c937fada-d1d3-4055-db71-e0a4f2c65999",
        "colab": {
          "base_uri": "https://localhost:8080/"
        }
      },
      "execution_count": 177,
      "outputs": [
        {
          "output_type": "stream",
          "name": "stdout",
          "text": [
            "Calculating path length and acc over geodesic:\n",
            "Calculating path length and acc over geodesic:\n"
          ]
        }
      ]
    },
    {
      "cell_type": "code",
      "source": [
        "np.set_printoptions(precision=3, linewidth=150)\n",
        "print('train', train_path_length)\n",
        "print('test', test_path_length)"
      ],
      "metadata": {
        "id": "e52SAtVnUXP6",
        "outputId": "cb4329d6-d556-4320-a018-d87bbf6643ed",
        "colab": {
          "base_uri": "https://localhost:8080/"
        }
      },
      "execution_count": 178,
      "outputs": [
        {
          "output_type": "stream",
          "name": "stdout",
          "text": [
            "train [5.902e-04 6.018e-04 5.352e-04 3.740e-04 2.667e-04 3.400e-04 4.854e-04 1.815e-03 1.573e-05]\n",
            "test [6.692e-04 6.308e-04 5.572e-04 4.085e-04 3.116e-04 3.757e-04 5.098e-04 1.838e-03 6.928e-05]\n"
          ]
        }
      ]
    }
  ],
  "metadata": {
    "accelerator": "GPU",
    "colab": {
      "collapsed_sections": [
        "IUjuW--LZtQ0",
        "Kj3dmuKMZtQ2"
      ],
      "provenance": []
    },
    "gpuClass": "standard",
    "kernelspec": {
      "display_name": "todl_final",
      "language": "python",
      "name": "python3"
    },
    "language_info": {
      "codemirror_mode": {
        "name": "ipython",
        "version": 3
      },
      "file_extension": ".py",
      "mimetype": "text/x-python",
      "name": "python",
      "nbconvert_exporter": "python",
      "pygments_lexer": "ipython3",
      "version": "3.10.0"
    },
    "vscode": {
      "interpreter": {
        "hash": "8e77cb7a68e5fa4d7a6800023ccae82086d278e47813e8f0f0e440986cb02acd"
      }
    }
  },
  "nbformat": 4,
  "nbformat_minor": 0
}