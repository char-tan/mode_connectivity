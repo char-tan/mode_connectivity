{
  "cells": [
    {
      "cell_type": "code",
      "execution_count": 22,
      "metadata": {
        "colab": {
          "base_uri": "https://localhost:8080/"
        },
        "id": "ZEh32oOkZtQt",
        "outputId": "4f525652-c3a3-4432-e268-743d589aa37d"
      },
      "outputs": [
        {
          "output_type": "stream",
          "name": "stdout",
          "text": [
            "Fri Jan 13 16:25:24 2023       \n",
            "+-----------------------------------------------------------------------------+\n",
            "| NVIDIA-SMI 460.32.03    Driver Version: 460.32.03    CUDA Version: 11.2     |\n",
            "|-------------------------------+----------------------+----------------------+\n",
            "| GPU  Name        Persistence-M| Bus-Id        Disp.A | Volatile Uncorr. ECC |\n",
            "| Fan  Temp  Perf  Pwr:Usage/Cap|         Memory-Usage | GPU-Util  Compute M. |\n",
            "|                               |                      |               MIG M. |\n",
            "|===============================+======================+======================|\n",
            "|   0  Tesla T4            Off  | 00000000:00:04.0 Off |                    0 |\n",
            "| N/A   77C    P0    32W /  70W |   1020MiB / 15109MiB |      0%      Default |\n",
            "|                               |                      |                  N/A |\n",
            "+-------------------------------+----------------------+----------------------+\n",
            "                                                                               \n",
            "+-----------------------------------------------------------------------------+\n",
            "| Processes:                                                                  |\n",
            "|  GPU   GI   CI        PID   Type   Process name                  GPU Memory |\n",
            "|        ID   ID                                                   Usage      |\n",
            "|=============================================================================|\n",
            "+-----------------------------------------------------------------------------+\n"
          ]
        }
      ],
      "source": [
        "# # check GPU\n",
        "!nvidia-smi"
      ]
    },
    {
      "cell_type": "code",
      "execution_count": 23,
      "metadata": {
        "colab": {
          "base_uri": "https://localhost:8080/"
        },
        "id": "y9yk_NPrZtQx",
        "outputId": "7b9533d6-6eba-4296-cd5c-428634ca80e5"
      },
      "outputs": [
        {
          "output_type": "stream",
          "name": "stdout",
          "text": [
            "fatal: destination path 'mode_connectivity' already exists and is not an empty directory.\n",
            "M\tgeodesic_opt.py\n",
            "Already on 'super_model'\n",
            "Your branch is up to date with 'origin/super_model'.\n"
          ]
        }
      ],
      "source": [
        "# # pulls repo to colab\n",
        "!git clone https://github.com/char-tan/mode_connectivity.git\n",
        "\n",
        "# # checkout specific branch if needed\n",
        "!cd mode_connectivity; git checkout super_model"
      ]
    },
    {
      "cell_type": "code",
      "execution_count": 24,
      "metadata": {
        "id": "EEagJfsuZtQy",
        "colab": {
          "base_uri": "https://localhost:8080/"
        },
        "outputId": "56956d66-203b-4b40-b4bd-d6305516912f"
      },
      "outputs": [
        {
          "output_type": "stream",
          "name": "stdout",
          "text": [
            "The autoreload extension is already loaded. To reload it, use:\n",
            "  %reload_ext autoreload\n"
          ]
        }
      ],
      "source": [
        "# allows you to change the .py files and have the imports updated\n",
        "%load_ext autoreload\n",
        "%autoreload 2"
      ]
    },
    {
      "cell_type": "code",
      "execution_count": 25,
      "metadata": {
        "id": "g2nsNvKcZtQy"
      },
      "outputs": [],
      "source": [
        "import sys, os\n",
        "SCRIPT_DIR = os.path.dirname(os.path.abspath('.'))\n",
        "sys.path.append(os.path.dirname(SCRIPT_DIR))\n",
        "\n",
        "sys.path.append(\"mode_connectivity\")"
      ]
    },
    {
      "cell_type": "code",
      "execution_count": 26,
      "metadata": {
        "id": "1ckm3AjjZtQz"
      },
      "outputs": [],
      "source": [
        "import torch\n",
        "from torchvision import transforms, datasets\n",
        "import copy\n",
        "from tqdm import tqdm\n",
        "import matplotlib.pyplot as plt\n",
        "import numpy as np\n",
        "\n",
        "from mode_connectivity.utils import weight_matching, data, training_utils, plot, utils\n",
        "from mode_connectivity.training_config import *\n",
        "from mode_connectivity.lmc import *\n",
        "from mode_connectivity.training import *\n",
        "\n",
        "from mode_connectivity.models.mlp import MLP"
      ]
    },
    {
      "cell_type": "code",
      "execution_count": 27,
      "metadata": {
        "colab": {
          "base_uri": "https://localhost:8080/"
        },
        "id": "g36u5BhicWcY",
        "outputId": "6a89c667-93a3-4f40-d2b0-6130fa729d55"
      },
      "outputs": [
        {
          "output_type": "stream",
          "name": "stdout",
          "text": [
            "Using cuda device\n"
          ]
        }
      ],
      "source": [
        "device = \"cuda\" if torch.cuda.is_available() else \"cpu\"\n",
        "print(f\"Using {device} device\")"
      ]
    },
    {
      "cell_type": "markdown",
      "metadata": {
        "id": "IUjuW--LZtQ0"
      },
      "source": [
        "# Training MLP models"
      ]
    },
    {
      "cell_type": "code",
      "execution_count": 28,
      "metadata": {
        "colab": {
          "base_uri": "https://localhost:8080/"
        },
        "id": "jeM42k04ZtQ1",
        "outputId": "1326d5bc-30f0-48a2-9e1b-75bcc768ecdd"
      },
      "outputs": [
        {
          "output_type": "stream",
          "name": "stdout",
          "text": [
            "Train Epoch: 1, Train Accuracy: (90%) \n",
            "Average loss: 0.1301, Accuracy: (96%)\n",
            "Train Epoch: 2, Train Accuracy: (97%) \n",
            "Average loss: 0.0942, Accuracy: (97%)\n",
            "Train Epoch: 3, Train Accuracy: (98%) \n",
            "Average loss: 0.0708, Accuracy: (98%)\n",
            "Train Epoch: 4, Train Accuracy: (99%) \n",
            "Average loss: 0.0864, Accuracy: (97%)\n",
            "Train Epoch: 5, Train Accuracy: (99%) \n",
            "Average loss: 0.0811, Accuracy: (97%)\n",
            "Train Epoch: 1, Train Accuracy: (90%) \n",
            "Average loss: 0.1392, Accuracy: (96%)\n",
            "Train Epoch: 2, Train Accuracy: (97%) \n",
            "Average loss: 0.0911, Accuracy: (97%)\n",
            "Train Epoch: 3, Train Accuracy: (98%) \n",
            "Average loss: 0.0784, Accuracy: (98%)\n",
            "Train Epoch: 4, Train Accuracy: (98%) \n",
            "Average loss: 0.0707, Accuracy: (98%)\n",
            "Train Epoch: 5, Train Accuracy: (99%) \n",
            "Average loss: 0.0840, Accuracy: (98%)\n"
          ]
        }
      ],
      "source": [
        "training_config = MLP_MNIST_DEFAULT\n",
        "training_config.epochs = 5\n",
        "training_config.seed = 7\n",
        "\n",
        "# train model a\n",
        "# model_a_noisy = train_model(*setup_train(training_config, additional_train_transforms = [AddGaussianNoise(0., 0.1)]), verbose = 1)\n",
        "model_a = train_model(*setup_train(training_config), verbose = 1)\n",
        "torch.save(model_a.state_dict(), 'mlp_mnist_model_a.pt')\n",
        "\n",
        "# change seed to get different model\n",
        "training_config.seed = 42\n",
        "\n",
        "# train model b\n",
        "# model_b_noisy = train_model(*setup_train(training_config, additional_train_transforms = [AddGaussianNoise(0., 0.1)]), verbose = 1)\n",
        "model_b = train_model(*setup_train(training_config), verbose = 1)\n",
        "torch.save(model_b.state_dict(), 'mlp_mnist_model_b.pt')  "
      ]
    },
    {
      "cell_type": "markdown",
      "metadata": {
        "id": "Kj3dmuKMZtQ2"
      },
      "source": [
        "# LMC in param space"
      ]
    },
    {
      "cell_type": "code",
      "execution_count": 29,
      "metadata": {
        "colab": {
          "base_uri": "https://localhost:8080/"
        },
        "id": "eDGQnKHGZtQ3",
        "outputId": "29b6c5f2-0efa-4051-81ab-7a0526999fda"
      },
      "outputs": [
        {
          "output_type": "stream",
          "name": "stdout",
          "text": [
            "\n",
            "performing naive interpolation\n",
            "Average loss: 0.0334, Accuracy: (99%)\n",
            "Average loss: 0.0811, Accuracy: (97%)\n",
            "Average loss: 0.2660, Accuracy: (98%)\n",
            "Average loss: 0.2797, Accuracy: (97%)\n",
            "Average loss: 1.3403, Accuracy: (91%)\n",
            "Average loss: 1.3384, Accuracy: (90%)\n",
            "Average loss: 0.2538, Accuracy: (98%)\n",
            "Average loss: 0.2732, Accuracy: (97%)\n",
            "Average loss: 0.0343, Accuracy: (99%)\n",
            "Average loss: 0.0840, Accuracy: (98%)\n",
            "point 5/5. \n",
            "permuting model\n",
            "\n",
            "performing permuted interpolation\n",
            "Average loss: 0.0334, Accuracy: (99%)\n",
            "Average loss: 0.0811, Accuracy: (97%)\n",
            "Average loss: 0.0390, Accuracy: (99%)\n",
            "Average loss: 0.0728, Accuracy: (98%)\n",
            "Average loss: 0.0466, Accuracy: (99%)\n",
            "Average loss: 0.0755, Accuracy: (98%)\n",
            "Average loss: 0.0390, Accuracy: (99%)\n",
            "Average loss: 0.0745, Accuracy: (98%)\n",
            "Average loss: 0.0343, Accuracy: (99%)\n",
            "Average loss: 0.0840, Accuracy: (98%)\n"
          ]
        }
      ],
      "source": [
        "n_points = 5\n",
        "(\n",
        "    permuted_params,\n",
        "    train_acc_naive,\n",
        "    test_acc_naive,\n",
        "    train_acc_perm,\n",
        "    test_acc_perm,\n",
        ") = linear_mode_connect(\n",
        "    MLP, \"mlp_mnist_model_a.pt\", \"mlp_mnist_model_b.pt\", \"mnist\", n_points=n_points, verbose=1\n",
        ")\n",
        "torch.save(permuted_params, 'mlp_mnist_model_pb.pt') "
      ]
    },
    {
      "cell_type": "code",
      "execution_count": 34,
      "metadata": {
        "colab": {
          "base_uri": "https://localhost:8080/",
          "height": 297
        },
        "id": "ZZ1O9CFsLOkV",
        "outputId": "2af86a1a-4662-476f-811c-b1bef568dcfb"
      },
      "outputs": [
        {
          "output_type": "display_data",
          "data": {
            "text/plain": [
              "<Figure size 432x288 with 1 Axes>"
            ],
            "image/png": "[encoded data removed]"
          },
          "metadata": {
            "needs_background": "light"
          }
        }
      ],
      "source": [
        "# First we do the basic linear interpolation plot\n",
        "lambdas = torch.linspace(0, 1, steps=n_points)\n",
        "fig = plot.plot_interp_metric(\"accuracy\", lambdas, train_acc_naive, test_acc_naive, train_acc_perm, test_acc_perm)"
      ]
    },
    {
      "cell_type": "markdown",
      "metadata": {
        "id": "_hBFD8pmh989"
      },
      "source": [
        "# Geodesic MC in functional space"
      ]
    },
    {
      "cell_type": "code",
      "execution_count": 35,
      "metadata": {
        "id": "mxewKgcIwyPN"
      },
      "outputs": [],
      "source": [
        "from mode_connectivity.geodesic_opt import optimise_for_geodesic, metric_path_length"
      ]
    },
    {
      "cell_type": "code",
      "execution_count": 36,
      "metadata": {
        "id": "H4thgfQ-xWyf"
      },
      "outputs": [],
      "source": [
        "# load in model state_dicts\n",
        "model_file_path = 'mode_connectivity/model_files/' # use this path in colab\n",
        "\n",
        "weights_a = torch.load(model_file_path + \"mlp_mnist_model_a.pt\", map_location=device)\n",
        "weights_b = torch.load(model_file_path + \"mlp_mnist_model_b.pt\", map_location=device)\n",
        "weights_pb = torch.load(model_file_path + \"mlp_mnist_model_pb.pt\", map_location=device)"
      ]
    },
    {
      "cell_type": "code",
      "execution_count": 37,
      "metadata": {
        "id": "137cFJ4oYep_"
      },
      "outputs": [],
      "source": [
        "train_kwargs = {\"batch_size\":128, 'num_workers': 0, 'pin_memory': False}\n",
        "test_kwargs = {\"batch_size\":512, 'num_workers': 0, 'pin_memory': False}\n",
        "\n",
        "train_loader, test_loader = data.get_data_loaders(\n",
        "    dataset=\"mnist\", train_kwargs=train_kwargs, test_kwargs=test_kwargs\n",
        ")"
      ]
    },
    {
      "cell_type": "markdown",
      "source": [
        "### Optimise for geodesic"
      ],
      "metadata": {
        "id": "cyV1X4z6-9MG"
      }
    },
    {
      "cell_type": "code",
      "source": [
        "from super import SuperModel\n",
        "\n",
        "N = 10\n",
        "\n",
        "super_model = SuperModel(MLP, N, weights_a, weights_pb).to(device)\n",
        "\n",
        "path_lengths, sq_euc_dists  = optimise_for_geodesic(\n",
        "         super_model,\n",
        "         train_loader,\n",
        "         lr = 1e-1,\n",
        "         verbose=1,\n",
        "         num_epochs=2,\n",
        "     )"
      ],
      "metadata": {
        "colab": {
          "base_uri": "https://localhost:8080/"
        },
        "id": "Zj2eqCA5Pn-_",
        "outputId": "6644f2f0-2787-4ef1-d396-d5a052f8e22d"
      },
      "execution_count": 62,
      "outputs": [
        {
          "output_type": "stream",
          "name": "stdout",
          "text": [
            "Optimising geodesic ...\n",
            "epoch 0 | path length 0.0031744035233660086 | sq euc dist 138.67666638990454\n",
            "epoch 1 | path length 0.0029475467663922553 | sq euc dist 138.68196805453758\n"
          ]
        }
      ]
    },
    {
      "cell_type": "code",
      "execution_count": 68,
      "metadata": {
        "id": "AGoj2e_w_Fs9",
        "outputId": "bc9c917e-dfb9-483e-8964-039f901113cf",
        "colab": {
          "base_uri": "https://localhost:8080/",
          "height": 319
        }
      },
      "outputs": [
        {
          "output_type": "execute_result",
          "data": {
            "text/plain": [
              "Text(0, 0.5, 'path action via (squared) euclid dist')"
            ]
          },
          "metadata": {},
          "execution_count": 68
        },
        {
          "output_type": "display_data",
          "data": {
            "text/plain": [
              "<Figure size 432x288 with 2 Axes>"
            ],
            "image/png": "[encoded data removed]"
          },
          "metadata": {
            "needs_background": "light"
          }
        }
      ],
      "source": [
        "def rolling_mean(x, window):\n",
        "    return np.convolve(x, np.ones(window), 'valid') / window\n",
        "\n",
        "fig, ax = plt.subplots()\n",
        "\n",
        "# CURRENTLY SET TO DO ROLLING MEAN\n",
        "rolling_mean_length = rolling_mean(path_lengths, 50)\n",
        "\n",
        "loss_type = 'JSD loss'\n",
        "\n",
        "ax.plot(rolling_mean_length, color = 'red')\n",
        "ax.set_xlabel('GD iteration', fontsize = 14)\n",
        "ax.set_ylabel('path action via ' + loss_type, color = 'red', fontsize = 14)\n",
        "\n",
        "ax2=ax.twinx()\n",
        "ax2.plot(sq_euc_dists, color = 'blue')\n",
        "ax2.set_ylabel('path action via (squared) euclid dist', color = 'blue', fontsize = 14)"
      ]
    },
    {
      "cell_type": "code",
      "source": [
        "from geodesic_opt import evaluate_geodesic\n",
        "\n",
        "# path_lengths are per step, acc is per model\n",
        "train_path_length, train_acc = evaluate_geodesic(super_model, train_loader, verbose=0)\n",
        "test_path_length, test_acc = evaluate_geodesic(super_model, test_loader, verbose=0)"
      ],
      "metadata": {
        "id": "f265KCVxAd5s",
        "outputId": "df769b55-8e5a-4cb2-aac9-485df97dc7d3",
        "colab": {
          "base_uri": "https://localhost:8080/"
        }
      },
      "execution_count": 99,
      "outputs": [
        {
          "output_type": "stream",
          "name": "stdout",
          "text": [
            "Calculating path length and acc over geodesic:\n",
            "Calculating path length and acc over geodesic:\n",
            "[0.00035396 0.00032585 0.00026236 0.00020912 0.00017839 0.00021244\n",
            " 0.00028218 0.00036001 0.0003961 ] [99.031624 99.11825  99.1349   99.10492  99.07327  99.0716   99.06328\n",
            " 99.04995  98.991646 98.86783 ]\n",
            "[0.00042949 0.00037465 0.00029751 0.00024436 0.00022845 0.00027677\n",
            " 0.00035211 0.00044461 0.00050173] [97.82399  97.91188  98.03768  98.027916 97.98885  97.94979  97.921646\n",
            " 97.76769  97.57985  97.38454 ]\n"
          ]
        }
      ]
    },
    {
      "cell_type": "code",
      "source": [
        "!cd mode_connectivity && git status"
      ],
      "metadata": {
        "id": "itSj-9FhMy3L",
        "outputId": "2763cee2-a85e-4131-bdfc-c2d097c937d5",
        "colab": {
          "base_uri": "https://localhost:8080/"
        }
      },
      "execution_count": 100,
      "outputs": [
        {
          "output_type": "stream",
          "name": "stdout",
          "text": [
            "On branch super_model\n",
            "Your branch is up to date with 'origin/super_model'.\n",
            "\n",
            "Changes not staged for commit:\n",
            "  (use \"git add <file>...\" to update what will be committed)\n",
            "  (use \"git checkout -- <file>...\" to discard changes in working directory)\n",
            "\n",
            "\t\u001b[31mmodified:   geodesic_opt.py\u001b[m\n",
            "\n",
            "no changes added to commit (use \"git add\" and/or \"git commit -a\")\n"
          ]
        }
      ]
    }
  ],
  "metadata": {
    "accelerator": "GPU",
    "colab": {
      "collapsed_sections": [
        "IUjuW--LZtQ0",
        "Kj3dmuKMZtQ2"
      ],
      "provenance": []
    },
    "gpuClass": "standard",
    "kernelspec": {
      "display_name": "todl_final",
      "language": "python",
      "name": "python3"
    },
    "language_info": {
      "codemirror_mode": {
        "name": "ipython",
        "version": 3
      },
      "file_extension": ".py",
      "mimetype": "text/x-python",
      "name": "python",
      "nbconvert_exporter": "python",
      "pygments_lexer": "ipython3",
      "version": "3.10.0"
    },
    "vscode": {
      "interpreter": {
        "hash": "8e77cb7a68e5fa4d7a6800023ccae82086d278e47813e8f0f0e440986cb02acd"
      }
    }
  },
  "nbformat": 4,
  "nbformat_minor": 0
}