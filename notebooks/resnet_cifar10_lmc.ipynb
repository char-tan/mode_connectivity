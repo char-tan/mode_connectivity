{
  "cells": [
    {
      "cell_type": "markdown",
      "id": "OHd3WZjq7pQB",
      "metadata": {
        "id": "OHd3WZjq7pQB"
      },
      "source": [
        "# Setup"
      ]
    },
    {
      "cell_type": "code",
      "execution_count": 1,
      "id": "fSdnaEXm8ad9",
      "metadata": {
        "colab": {
          "base_uri": "https://localhost:8080/"
        },
        "id": "fSdnaEXm8ad9",
        "outputId": "21bfdc9d-116c-47dd-b679-15388b5a93ff"
      },
      "outputs": [
        {
          "output_type": "stream",
          "name": "stdout",
          "text": [
            "Sat Jan 14 03:09:49 2023       \n",
            "+-----------------------------------------------------------------------------+\n",
            "| NVIDIA-SMI 460.32.03    Driver Version: 460.32.03    CUDA Version: 11.2     |\n",
            "|-------------------------------+----------------------+----------------------+\n",
            "| GPU  Name        Persistence-M| Bus-Id        Disp.A | Volatile Uncorr. ECC |\n",
            "| Fan  Temp  Perf  Pwr:Usage/Cap|         Memory-Usage | GPU-Util  Compute M. |\n",
            "|                               |                      |               MIG M. |\n",
            "|===============================+======================+======================|\n",
            "|   0  Tesla T4            Off  | 00000000:00:04.0 Off |                    0 |\n",
            "| N/A   40C    P8     9W /  70W |      0MiB / 15109MiB |      0%      Default |\n",
            "|                               |                      |                  N/A |\n",
            "+-------------------------------+----------------------+----------------------+\n",
            "                                                                               \n",
            "+-----------------------------------------------------------------------------+\n",
            "| Processes:                                                                  |\n",
            "|  GPU   GI   CI        PID   Type   Process name                  GPU Memory |\n",
            "|        ID   ID                                                   Usage      |\n",
            "|=============================================================================|\n",
            "|  No running processes found                                                 |\n",
            "+-----------------------------------------------------------------------------+\n"
          ]
        }
      ],
      "source": [
        "# check GPU\n",
        "!nvidia-smi"
      ]
    },
    {
      "cell_type": "code",
      "execution_count": 2,
      "id": "999c2bc6",
      "metadata": {
        "colab": {
          "base_uri": "https://localhost:8080/"
        },
        "id": "999c2bc6",
        "outputId": "40c2bee3-557b-4aa1-be04-4fe4bed7a2e5"
      },
      "outputs": [
        {
          "output_type": "stream",
          "name": "stdout",
          "text": [
            "Cloning into 'mode_connectivity'...\n",
            "remote: Enumerating objects: 882, done.\u001b[K\n",
            "remote: Counting objects: 100% (497/497), done.\u001b[K\n",
            "remote: Compressing objects: 100% (286/286), done.\u001b[K\n",
            "remote: Total 882 (delta 275), reused 382 (delta 210), pack-reused 385\u001b[K\n",
            "Receiving objects: 100% (882/882), 37.72 MiB | 25.91 MiB/s, done.\n",
            "Resolving deltas: 100% (519/519), done.\n",
            "Branch 'resnet_perm_spec' set up to track remote branch 'resnet_perm_spec' from 'origin'.\n",
            "Switched to a new branch 'resnet_perm_spec'\n"
          ]
        }
      ],
      "source": [
        "# pulls repo to colab\n",
        "!git clone https://github.com/char-tan/mode_connectivity.git\n",
        "\n",
        "# checkout specific branch if needed\n",
        "!cd mode_connectivity; git checkout resnet_perm_spec"
      ]
    },
    {
      "cell_type": "code",
      "execution_count": 3,
      "id": "nhw2DqG-_8Vb",
      "metadata": {
        "id": "nhw2DqG-_8Vb"
      },
      "outputs": [],
      "source": [
        "# allows you to change the .py files and have the imports updated\n",
        "%load_ext autoreload\n",
        "%autoreload 2"
      ]
    },
    {
      "cell_type": "code",
      "execution_count": 4,
      "id": "fe1fb111",
      "metadata": {
        "id": "fe1fb111"
      },
      "outputs": [],
      "source": [
        "import sys, os\n",
        "SCRIPT_DIR = os.path.dirname(os.path.abspath('.'))\n",
        "sys.path.append(os.path.dirname(SCRIPT_DIR))\n",
        "\n",
        "from mode_connectivity.training import *\n",
        "from mode_connectivity.lmc import *\n",
        "from mode_connectivity.training_config import *\n",
        "\n",
        "from mode_connectivity.models.mlp import MLP\n",
        "from mode_connectivity.models.vgg import VGG\n",
        "from mode_connectivity.models.resnet import ResNet\n",
        "\n",
        "from mode_connectivity.utils import weight_matching, data, training_utils, plot, utils\n",
        "\n",
        "import torch\n",
        "from torchvision import transforms\n",
        "import copy\n",
        "from tqdm import tqdm\n",
        "import matplotlib.pyplot as plt\n",
        "import numpy as np"
      ]
    },
    {
      "cell_type": "markdown",
      "id": "u1WMQgF68xZA",
      "metadata": {
        "id": "u1WMQgF68xZA"
      },
      "source": [
        "# VGG LMC"
      ]
    },
    {
      "cell_type": "code",
      "execution_count": 5,
      "id": "QAdC8I8TVVOx",
      "metadata": {
        "id": "QAdC8I8TVVOx",
        "colab": {
          "base_uri": "https://localhost:8080/"
        },
        "outputId": "f2cae743-e13c-4ec6-94a3-533bfbf64eee"
      },
      "outputs": [
        {
          "output_type": "stream",
          "name": "stdout",
          "text": [
            "Git LFS: (1 of 1 files) 1.06 MB / 1.06 MB\n",
            "Git LFS: (1 of 1 files) 1.06 MB / 1.06 MB\n",
            "Git LFS: (1 of 1 files) 16.53 MB / 16.53 MB\n",
            "Git LFS: (1 of 1 files) 1.06 MB / 1.06 MB\n"
          ]
        }
      ],
      "source": [
        "# pull the required model files\n",
        "!cd mode_connectivity && git lfs pull -I model_files/resnet_wm1_a.pt \n",
        "!cd mode_connectivity && git lfs pull -I model_files/resnet_wm1_b.pt\n",
        "!cd mode_connectivity && git lfs pull -I model_files/resnet_wm4_a.pt \n",
        "!cd mode_connectivity && git lfs pull -I model_files/resnet_wm4_b.pt"
      ]
    },
    {
      "cell_type": "code",
      "source": [
        "model = ResNet()\n",
        "\n",
        "ax = model.permutation_spec.axes_to_perm\n",
        "\n",
        "ps = model.permutation_spec.perm_to_axes\n",
        "\n",
        "for i, j in ax.items():\n",
        "    print(i, j)\n",
        "\n",
        "print()\n",
        "\n",
        "for i, j in ps.items():\n",
        "    print(i, j)"
      ],
      "metadata": {
        "id": "AYqsG0IVRu6G",
        "outputId": "071dfacb-f806-4a4e-9f98-be44d1ddbc4d",
        "colab": {
          "base_uri": "https://localhost:8080/"
        }
      },
      "id": "AYqsG0IVRu6G",
      "execution_count": 15,
      "outputs": [
        {
          "output_type": "stream",
          "name": "stdout",
          "text": [
            "conv1.weight ('P_BG_0', None, None, None)\n",
            "norm1.weight ('P_BG_0',)\n",
            "norm1.bias ('P_BG_0',)\n",
            "block_groups.0.blocks.0.conv1.weight ('P_BG_0_IN_0', 'P_BG_0', None, None)\n",
            "block_groups.0.blocks.0.norm1.weight ('P_BG_0_IN_0',)\n",
            "block_groups.0.blocks.0.norm1.bias ('P_BG_0_IN_0',)\n",
            "block_groups.0.blocks.0.conv2.weight ('P_BG_0', 'P_BG_0_IN_0', None, None)\n",
            "block_groups.0.blocks.0.norm2.weight ('P_BG_0',)\n",
            "block_groups.0.blocks.0.norm2.bias ('P_BG_0',)\n",
            "block_groups.0.blocks.1.conv1.weight ('P_BG_0_IN_1', 'P_BG_0', None, None)\n",
            "block_groups.0.blocks.1.norm1.weight ('P_BG_0_IN_1',)\n",
            "block_groups.0.blocks.1.norm1.bias ('P_BG_0_IN_1',)\n",
            "block_groups.0.blocks.1.conv2.weight ('P_BG_0', 'P_BG_0_IN_1', None, None)\n",
            "block_groups.0.blocks.1.norm2.weight ('P_BG_0',)\n",
            "block_groups.0.blocks.1.norm2.bias ('P_BG_0',)\n",
            "block_groups.0.blocks.2.conv1.weight ('P_BG_0_IN_2', 'P_BG_0', None, None)\n",
            "block_groups.0.blocks.2.norm1.weight ('P_BG_0_IN_2',)\n",
            "block_groups.0.blocks.2.norm1.bias ('P_BG_0_IN_2',)\n",
            "block_groups.0.blocks.2.conv2.weight ('P_BG_0', 'P_BG_0_IN_2', None, None)\n",
            "block_groups.0.blocks.2.norm2.weight ('P_BG_0',)\n",
            "block_groups.0.blocks.2.norm2.bias ('P_BG_0',)\n",
            "block_groups.1.blocks.0.conv1.weight ('P_BG_1_IN_0', 'P_BG_0', None, None)\n",
            "block_groups.1.blocks.0.norm1.weight ('P_BG_1_IN_0',)\n",
            "block_groups.1.blocks.0.norm1.bias ('P_BG_1_IN_0',)\n",
            "block_groups.1.blocks.0.conv2.weight ('P_BG_1', 'P_BG_1_IN_0', None, None)\n",
            "block_groups.1.blocks.0.norm2.weight ('P_BG_1',)\n",
            "block_groups.1.blocks.0.norm2.bias ('P_BG_1',)\n",
            "block_groups.1.blocks.0.shortcut.0.weight ('P_BG_1', 'P_BG_0', None, None)\n",
            "block_groups.1.blocks.0.shortcut.1.weight ('P_BG_1',)\n",
            "block_groups.1.blocks.0.shortcut.1.bias ('P_BG_1',)\n",
            "block_groups.1.blocks.1.conv1.weight ('P_BG_1_IN_1', 'P_BG_1', None, None)\n",
            "block_groups.1.blocks.1.norm1.weight ('P_BG_1_IN_1',)\n",
            "block_groups.1.blocks.1.norm1.bias ('P_BG_1_IN_1',)\n",
            "block_groups.1.blocks.1.conv2.weight ('P_BG_1', 'P_BG_1_IN_1', None, None)\n",
            "block_groups.1.blocks.1.norm2.weight ('P_BG_1',)\n",
            "block_groups.1.blocks.1.norm2.bias ('P_BG_1',)\n",
            "block_groups.1.blocks.2.conv1.weight ('P_BG_1_IN_2', 'P_BG_1', None, None)\n",
            "block_groups.1.blocks.2.norm1.weight ('P_BG_1_IN_2',)\n",
            "block_groups.1.blocks.2.norm1.bias ('P_BG_1_IN_2',)\n",
            "block_groups.1.blocks.2.conv2.weight ('P_BG_1', 'P_BG_1_IN_2', None, None)\n",
            "block_groups.1.blocks.2.norm2.weight ('P_BG_1',)\n",
            "block_groups.1.blocks.2.norm2.bias ('P_BG_1',)\n",
            "block_groups.2.blocks.0.conv1.weight ('P_BG_2_IN_0', 'P_BG_1', None, None)\n",
            "block_groups.2.blocks.0.norm1.weight ('P_BG_2_IN_0',)\n",
            "block_groups.2.blocks.0.norm1.bias ('P_BG_2_IN_0',)\n",
            "block_groups.2.blocks.0.conv2.weight ('P_BG_2', 'P_BG_2_IN_0', None, None)\n",
            "block_groups.2.blocks.0.norm2.weight ('P_BG_2',)\n",
            "block_groups.2.blocks.0.norm2.bias ('P_BG_2',)\n",
            "block_groups.2.blocks.0.shortcut.0.weight ('P_BG_2', 'P_BG_1', None, None)\n",
            "block_groups.2.blocks.0.shortcut.1.weight ('P_BG_2',)\n",
            "block_groups.2.blocks.0.shortcut.1.bias ('P_BG_2',)\n",
            "block_groups.2.blocks.1.conv1.weight ('P_BG_2_IN_1', 'P_BG_2', None, None)\n",
            "block_groups.2.blocks.1.norm1.weight ('P_BG_2_IN_1',)\n",
            "block_groups.2.blocks.1.norm1.bias ('P_BG_2_IN_1',)\n",
            "block_groups.2.blocks.1.conv2.weight ('P_BG_2', 'P_BG_2_IN_1', None, None)\n",
            "block_groups.2.blocks.1.norm2.weight ('P_BG_2',)\n",
            "block_groups.2.blocks.1.norm2.bias ('P_BG_2',)\n",
            "block_groups.2.blocks.2.conv1.weight ('P_BG_2_IN_2', 'P_BG_2', None, None)\n",
            "block_groups.2.blocks.2.norm1.weight ('P_BG_2_IN_2',)\n",
            "block_groups.2.blocks.2.norm1.bias ('P_BG_2_IN_2',)\n",
            "block_groups.2.blocks.2.conv2.weight ('P_BG_2', 'P_BG_2_IN_2', None, None)\n",
            "block_groups.2.blocks.2.norm2.weight ('P_BG_2',)\n",
            "block_groups.2.blocks.2.norm2.bias ('P_BG_2',)\n",
            "linear.weight (None, 'P_BG_2')\n",
            "linear.bias (None,)\n",
            "\n",
            "P_BG_0 [('conv1.weight', 0), ('norm1.weight', 0), ('norm1.bias', 0), ('block_groups.0.blocks.0.conv1.weight', 1), ('block_groups.0.blocks.0.conv2.weight', 0), ('block_groups.0.blocks.0.norm2.weight', 0), ('block_groups.0.blocks.0.norm2.bias', 0), ('block_groups.0.blocks.1.conv1.weight', 1), ('block_groups.0.blocks.1.conv2.weight', 0), ('block_groups.0.blocks.1.norm2.weight', 0), ('block_groups.0.blocks.1.norm2.bias', 0), ('block_groups.0.blocks.2.conv1.weight', 1), ('block_groups.0.blocks.2.conv2.weight', 0), ('block_groups.0.blocks.2.norm2.weight', 0), ('block_groups.0.blocks.2.norm2.bias', 0), ('block_groups.1.blocks.0.conv1.weight', 1), ('block_groups.1.blocks.0.shortcut.0.weight', 1)]\n",
            "P_BG_0_IN_0 [('block_groups.0.blocks.0.conv1.weight', 0), ('block_groups.0.blocks.0.norm1.weight', 0), ('block_groups.0.blocks.0.norm1.bias', 0), ('block_groups.0.blocks.0.conv2.weight', 1)]\n",
            "P_BG_0_IN_1 [('block_groups.0.blocks.1.conv1.weight', 0), ('block_groups.0.blocks.1.norm1.weight', 0), ('block_groups.0.blocks.1.norm1.bias', 0), ('block_groups.0.blocks.1.conv2.weight', 1)]\n",
            "P_BG_0_IN_2 [('block_groups.0.blocks.2.conv1.weight', 0), ('block_groups.0.blocks.2.norm1.weight', 0), ('block_groups.0.blocks.2.norm1.bias', 0), ('block_groups.0.blocks.2.conv2.weight', 1)]\n",
            "P_BG_1_IN_0 [('block_groups.1.blocks.0.conv1.weight', 0), ('block_groups.1.blocks.0.norm1.weight', 0), ('block_groups.1.blocks.0.norm1.bias', 0), ('block_groups.1.blocks.0.conv2.weight', 1)]\n",
            "P_BG_1 [('block_groups.1.blocks.0.conv2.weight', 0), ('block_groups.1.blocks.0.norm2.weight', 0), ('block_groups.1.blocks.0.norm2.bias', 0), ('block_groups.1.blocks.0.shortcut.0.weight', 0), ('block_groups.1.blocks.0.shortcut.1.weight', 0), ('block_groups.1.blocks.0.shortcut.1.bias', 0), ('block_groups.1.blocks.1.conv1.weight', 1), ('block_groups.1.blocks.1.conv2.weight', 0), ('block_groups.1.blocks.1.norm2.weight', 0), ('block_groups.1.blocks.1.norm2.bias', 0), ('block_groups.1.blocks.2.conv1.weight', 1), ('block_groups.1.blocks.2.conv2.weight', 0), ('block_groups.1.blocks.2.norm2.weight', 0), ('block_groups.1.blocks.2.norm2.bias', 0), ('block_groups.2.blocks.0.conv1.weight', 1), ('block_groups.2.blocks.0.shortcut.0.weight', 1)]\n",
            "P_BG_1_IN_1 [('block_groups.1.blocks.1.conv1.weight', 0), ('block_groups.1.blocks.1.norm1.weight', 0), ('block_groups.1.blocks.1.norm1.bias', 0), ('block_groups.1.blocks.1.conv2.weight', 1)]\n",
            "P_BG_1_IN_2 [('block_groups.1.blocks.2.conv1.weight', 0), ('block_groups.1.blocks.2.norm1.weight', 0), ('block_groups.1.blocks.2.norm1.bias', 0), ('block_groups.1.blocks.2.conv2.weight', 1)]\n",
            "P_BG_2_IN_0 [('block_groups.2.blocks.0.conv1.weight', 0), ('block_groups.2.blocks.0.norm1.weight', 0), ('block_groups.2.blocks.0.norm1.bias', 0), ('block_groups.2.blocks.0.conv2.weight', 1)]\n",
            "P_BG_2 [('block_groups.2.blocks.0.conv2.weight', 0), ('block_groups.2.blocks.0.norm2.weight', 0), ('block_groups.2.blocks.0.norm2.bias', 0), ('block_groups.2.blocks.0.shortcut.0.weight', 0), ('block_groups.2.blocks.0.shortcut.1.weight', 0), ('block_groups.2.blocks.0.shortcut.1.bias', 0), ('block_groups.2.blocks.1.conv1.weight', 1), ('block_groups.2.blocks.1.conv2.weight', 0), ('block_groups.2.blocks.1.norm2.weight', 0), ('block_groups.2.blocks.1.norm2.bias', 0), ('block_groups.2.blocks.2.conv1.weight', 1), ('block_groups.2.blocks.2.conv2.weight', 0), ('block_groups.2.blocks.2.norm2.weight', 0), ('block_groups.2.blocks.2.norm2.bias', 0), ('linear.weight', 1)]\n",
            "P_BG_2_IN_1 [('block_groups.2.blocks.1.conv1.weight', 0), ('block_groups.2.blocks.1.norm1.weight', 0), ('block_groups.2.blocks.1.norm1.bias', 0), ('block_groups.2.blocks.1.conv2.weight', 1)]\n",
            "P_BG_2_IN_2 [('block_groups.2.blocks.2.conv1.weight', 0), ('block_groups.2.blocks.2.norm1.weight', 0), ('block_groups.2.blocks.2.norm1.bias', 0), ('block_groups.2.blocks.2.conv2.weight', 1)]\n"
          ]
        }
      ]
    },
    {
      "cell_type": "code",
      "execution_count": 20,
      "id": "c4151e8c",
      "metadata": {
        "colab": {
          "base_uri": "https://localhost:8080/"
        },
        "id": "c4151e8c",
        "outputId": "4e6b4a5b-6b5a-4c4f-c0a2-f9adc4fe483d",
        "scrolled": false
      },
      "outputs": [
        {
          "output_type": "stream",
          "name": "stdout",
          "text": [
            "Files already downloaded and verified\n",
            "Files already downloaded and verified\n",
            "\n",
            "performing naive interpolation\n",
            "Average loss: 0.0101, Accuracy: (100%)\n",
            "Average loss: 0.4141, Accuracy: (90%)\n",
            "point 1/3. lam = 0.0, train loss = 0.01006177074432373, test loss = 0.4141289978027344\n",
            "Average loss: 6.4063, Accuracy: (11%)\n",
            "Average loss: 6.4699, Accuracy: (10%)\n",
            "point 2/3. lam = 0.5, train loss = 6.40631810546875, test loss = 6.4698521484375\n",
            "Average loss: 0.0088, Accuracy: (100%)\n",
            "Average loss: 0.4142, Accuracy: (91%)\n",
            "point 3/3. lam = 1.0, train loss = 0.00883456687927246, test loss = 0.41423408203125\n",
            "\n",
            "permuting model\n",
            "iteration 0 P_BG_1: progress 27.031017303466797\n",
            "tensor(True)\n",
            "iteration 0 P_BG_1_IN_1: progress 10.236968994140625\n",
            "tensor(True)\n",
            "iteration 0 P_BG_2_IN_2: progress 35.703678131103516\n",
            "tensor(True)\n",
            "iteration 0 P_BG_0_IN_0: progress 5.9234819412231445\n",
            "tensor(True)\n",
            "iteration 0 P_BG_2_IN_1: progress 40.28743362426758\n",
            "tensor(True)\n",
            "iteration 0 P_BG_0_IN_2: progress 3.614546775817871\n",
            "tensor(True)\n",
            "iteration 0 P_BG_1_IN_2: progress 6.213512420654297\n",
            "tensor(True)\n",
            "iteration 0 P_BG_1_IN_0: progress 21.965856552124023\n",
            "tensor(True)\n",
            "iteration 0 P_BG_0: progress 14.583824157714844\n",
            "tensor(True)\n",
            "iteration 0 P_BG_0_IN_1: progress 5.353714466094971\n",
            "tensor(True)\n",
            "iteration 0 P_BG_2: progress 87.980224609375\n",
            "tensor(True)\n",
            "iteration 0 P_BG_2_IN_0: progress 32.59741973876953\n",
            "tensor(True)\n",
            "iteration 1 P_BG_0: progress 0.8037490844726562\n",
            "tensor(True)\n",
            "iteration 1 P_BG_2: progress 1.011260986328125\n",
            "tensor(True)\n",
            "iteration 1 P_BG_0_IN_0: progress 11.99221134185791\n",
            "tensor(True)\n",
            "iteration 1 P_BG_1_IN_1: progress 0.0\n",
            "tensor(True)\n",
            "iteration 1 P_BG_2_IN_1: progress 27.055511474609375\n",
            "tensor(True)\n",
            "iteration 1 P_BG_0_IN_2: progress 1.2657418251037598\n",
            "tensor(True)\n",
            "iteration 1 P_BG_1_IN_2: progress 0.0\n",
            "tensor(True)\n",
            "iteration 1 P_BG_2_IN_2: progress 23.88097381591797\n",
            "tensor(True)\n",
            "iteration 1 P_BG_0_IN_1: progress 1.6387710571289062\n",
            "tensor(True)\n",
            "iteration 1 P_BG_1_IN_0: progress 6.8584442138671875\n",
            "tensor(True)\n",
            "iteration 1 P_BG_2_IN_0: progress 2.8558273315429688\n",
            "tensor(True)\n",
            "iteration 1 P_BG_1: progress 0.0\n",
            "tensor(True)\n",
            "iteration 2 P_BG_0_IN_2: progress 0.0\n",
            "tensor(False)\n",
            "iteration 2 P_BG_0: progress 0.12237548828125\n",
            "tensor(True)\n",
            "iteration 2 P_BG_2: progress 2.1854248046875\n",
            "tensor(True)\n",
            "iteration 2 P_BG_0_IN_0: progress 0.09438514709472656\n",
            "tensor(True)\n",
            "iteration 2 P_BG_2_IN_1: progress 3.5027847290039062\n",
            "tensor(True)\n",
            "iteration 2 P_BG_1: progress 0.0\n",
            "tensor(True)\n",
            "iteration 2 P_BG_1_IN_1: progress 0.0\n",
            "tensor(True)\n",
            "iteration 2 P_BG_2_IN_2: progress 3.506927490234375\n",
            "tensor(True)\n",
            "iteration 2 P_BG_1_IN_0: progress 0.30440521240234375\n",
            "tensor(True)\n",
            "iteration 2 P_BG_0_IN_1: progress 0.6347532272338867\n",
            "tensor(True)\n",
            "iteration 2 P_BG_1_IN_2: progress 0.0\n",
            "tensor(True)\n",
            "iteration 2 P_BG_2_IN_0: progress 2.5337066650390625\n",
            "tensor(True)\n",
            "iteration 3 P_BG_0_IN_2: progress 0.4397621154785156\n",
            "tensor(True)\n",
            "iteration 3 P_BG_2_IN_0: progress 0.0\n",
            "tensor(True)\n",
            "iteration 3 P_BG_1: progress 1.7275314331054688\n",
            "tensor(True)\n",
            "iteration 3 P_BG_1_IN_2: progress 3.7609176635742188\n",
            "tensor(True)\n",
            "iteration 3 P_BG_0: progress 0.20819091796875\n",
            "tensor(True)\n",
            "iteration 3 P_BG_2_IN_1: progress 0.0\n",
            "tensor(True)\n",
            "iteration 3 P_BG_0_IN_0: progress 0.02439117431640625\n",
            "tensor(True)\n",
            "iteration 3 P_BG_1_IN_1: progress 4.158931732177734\n",
            "tensor(True)\n",
            "iteration 3 P_BG_0_IN_1: progress 0.09357357025146484\n",
            "tensor(True)\n",
            "iteration 3 P_BG_2_IN_2: progress 0.0\n",
            "tensor(True)\n",
            "iteration 3 P_BG_2: progress 0.2803955078125\n",
            "tensor(True)\n",
            "iteration 3 P_BG_1_IN_0: progress 3.7893409729003906\n",
            "tensor(True)\n",
            "iteration 4 P_BG_2_IN_0: progress 4.036705017089844\n",
            "tensor(True)\n",
            "iteration 4 P_BG_2_IN_2: progress 0.0738677978515625\n",
            "tensor(True)\n",
            "iteration 4 P_BG_1_IN_0: progress 0.0\n",
            "tensor(True)\n",
            "iteration 4 P_BG_0_IN_1: progress 0.0\n",
            "tensor(True)\n",
            "iteration 4 P_BG_2: progress 0.0\n",
            "tensor(True)\n",
            "iteration 4 P_BG_0_IN_0: progress 0.0\n",
            "tensor(True)\n",
            "iteration 4 P_BG_1: progress 2.2632598876953125\n",
            "tensor(True)\n",
            "iteration 4 P_BG_0_IN_2: progress 0.11445236206054688\n",
            "tensor(True)\n",
            "iteration 4 P_BG_2_IN_1: progress 0.44872283935546875\n",
            "tensor(True)\n",
            "iteration 4 P_BG_1_IN_1: progress 4.007226943969727\n",
            "tensor(True)\n",
            "iteration 4 P_BG_1_IN_2: progress 3.644878387451172\n",
            "tensor(True)\n",
            "iteration 4 P_BG_0: progress 0.0\n",
            "tensor(True)\n",
            "iteration 5 P_BG_2_IN_2: progress 0.0\n",
            "tensor(False)\n",
            "iteration 5 P_BG_2: progress 0.0\n",
            "tensor(False)\n",
            "iteration 5 P_BG_1_IN_1: progress 0.0\n",
            "tensor(False)\n",
            "iteration 5 P_BG_1_IN_0: progress 1.5374069213867188\n",
            "tensor(True)\n",
            "iteration 5 P_BG_0_IN_2: progress 0.0\n",
            "tensor(True)\n",
            "iteration 5 P_BG_0_IN_1: progress 0.0\n",
            "tensor(True)\n",
            "iteration 5 P_BG_0: progress 0.0\n",
            "tensor(True)\n",
            "iteration 5 P_BG_1_IN_2: progress 0.0\n",
            "tensor(True)\n",
            "iteration 5 P_BG_2_IN_1: progress 0.0\n",
            "tensor(True)\n",
            "iteration 5 P_BG_0_IN_0: progress 0.0\n",
            "tensor(True)\n",
            "iteration 5 P_BG_1: progress 0.283538818359375\n",
            "tensor(True)\n",
            "iteration 5 P_BG_2_IN_0: progress 10.572395324707031\n",
            "tensor(True)\n",
            "iteration 6 P_BG_2_IN_1: progress 0.0\n",
            "tensor(False)\n",
            "iteration 6 P_BG_1_IN_2: progress 1.3592185974121094\n",
            "tensor(True)\n",
            "iteration 6 P_BG_0_IN_0: progress 0.0\n",
            "tensor(True)\n",
            "iteration 6 P_BG_1: progress 1.0927734375\n",
            "tensor(True)\n",
            "iteration 6 P_BG_0: progress 0.0\n",
            "tensor(True)\n",
            "iteration 6 P_BG_0_IN_2: progress 0.0\n",
            "tensor(True)\n",
            "iteration 6 P_BG_1_IN_0: progress 1.0999603271484375\n",
            "tensor(True)\n",
            "iteration 6 P_BG_2_IN_0: progress 0.5870437622070312\n",
            "tensor(True)\n",
            "iteration 6 P_BG_2: progress 0.0\n",
            "tensor(True)\n",
            "iteration 6 P_BG_0_IN_1: progress 0.0\n",
            "tensor(True)\n",
            "iteration 6 P_BG_1_IN_1: progress 3.583860397338867\n",
            "tensor(True)\n",
            "iteration 6 P_BG_2_IN_2: progress 0.0\n",
            "tensor(True)\n",
            "iteration 7 P_BG_2_IN_1: progress 0.0\n",
            "tensor(False)\n",
            "iteration 7 P_BG_0: progress 0.0\n",
            "tensor(False)\n",
            "iteration 7 P_BG_0_IN_0: progress 0.0\n",
            "tensor(False)\n",
            "iteration 7 P_BG_2_IN_0: progress 0.0\n",
            "tensor(False)\n",
            "iteration 7 P_BG_1_IN_0: progress 0.0\n",
            "tensor(False)\n",
            "iteration 7 P_BG_0_IN_1: progress 0.0\n",
            "tensor(False)\n",
            "iteration 7 P_BG_1_IN_1: progress 0.0\n",
            "tensor(False)\n",
            "iteration 7 P_BG_0_IN_2: progress 0.0\n",
            "tensor(False)\n",
            "iteration 7 P_BG_1_IN_2: progress 0.5206642150878906\n",
            "tensor(True)\n",
            "iteration 7 P_BG_2_IN_2: progress 0.0\n",
            "tensor(True)\n",
            "iteration 7 P_BG_2: progress 0.0\n",
            "tensor(True)\n",
            "iteration 7 P_BG_1: progress 1.1859588623046875\n",
            "tensor(True)\n",
            "iteration 8 P_BG_2: progress 0.0\n",
            "tensor(False)\n",
            "iteration 8 P_BG_2_IN_0: progress 1.54400634765625\n",
            "tensor(True)\n",
            "iteration 8 P_BG_0_IN_0: progress 0.0\n",
            "tensor(True)\n",
            "iteration 8 P_BG_2_IN_2: progress 0.0\n",
            "tensor(True)\n",
            "iteration 8 P_BG_1: progress 0.0\n",
            "tensor(True)\n",
            "iteration 8 P_BG_0_IN_2: progress 0.0\n",
            "tensor(True)\n",
            "iteration 8 P_BG_1_IN_2: progress 0.8539237976074219\n",
            "tensor(True)\n",
            "iteration 8 P_BG_1_IN_1: progress 1.9960517883300781\n",
            "tensor(True)\n",
            "iteration 8 P_BG_1_IN_0: progress 0.0156707763671875\n",
            "tensor(True)\n",
            "iteration 8 P_BG_0_IN_1: progress 0.0\n",
            "tensor(True)\n",
            "iteration 8 P_BG_2_IN_1: progress 0.0\n",
            "tensor(True)\n",
            "iteration 8 P_BG_0: progress 0.0\n",
            "tensor(True)\n",
            "iteration 9 P_BG_2_IN_2: progress 0.0\n",
            "tensor(False)\n",
            "iteration 9 P_BG_2: progress 0.0\n",
            "tensor(False)\n",
            "iteration 9 P_BG_1_IN_2: progress 0.0\n",
            "tensor(False)\n",
            "iteration 9 P_BG_1: progress 0.0\n",
            "tensor(False)\n",
            "iteration 9 P_BG_2_IN_1: progress 0.0\n",
            "tensor(False)\n",
            "iteration 9 P_BG_0_IN_0: progress 0.0\n",
            "tensor(False)\n",
            "iteration 9 P_BG_0_IN_1: progress 0.0\n",
            "tensor(False)\n",
            "iteration 9 P_BG_0_IN_2: progress 0.0\n",
            "tensor(False)\n",
            "iteration 9 P_BG_1_IN_0: progress 0.0\n",
            "tensor(False)\n",
            "iteration 9 P_BG_1_IN_1: progress 0.0\n",
            "tensor(False)\n",
            "iteration 9 P_BG_0: progress 0.0\n",
            "tensor(False)\n",
            "iteration 9 P_BG_2_IN_0: progress 0.0\n",
            "tensor(False)\n",
            "\n",
            "performing permuted interpolation\n",
            "Average loss: 0.0104, Accuracy: (100%)\n",
            "Average loss: 0.4141, Accuracy: (90%)\n",
            "point 1/3. lam = 0.0, train loss = 0.010372499294281006, test loss = 0.4141289978027344\n",
            "Average loss: 2.9139, Accuracy: (42%)\n",
            "Average loss: 3.2733, Accuracy: (39%)\n",
            "point 2/3. lam = 0.5, train loss = 2.9139092333984373, test loss = 3.27330693359375\n",
            "Average loss: 0.0086, Accuracy: (100%)\n",
            "Average loss: 0.4142, Accuracy: (91%)\n",
            "point 3/3. lam = 1.0, train loss = 0.008574058742523193, test loss = 0.414234033203125\n",
            "[99.78, 10.818, 99.792]\n",
            "[90.39, 10.39, 90.78]\n",
            "[99.792, 41.838, 99.806]\n",
            "[90.39, 39.26, 90.78]\n"
          ]
        }
      ],
      "source": [
        "n_points = 3\n",
        "lambdas = torch.linspace(0, 1, steps=n_points)\n",
        "\n",
        "\n",
        "for wm in [1]:\n",
        "\n",
        "  (\n",
        "      permuted_params,\n",
        "      train_acc_naive,\n",
        "      test_acc_naive,\n",
        "      train_acc_perm,\n",
        "      test_acc_perm,\n",
        "  ) = linear_mode_connect(\n",
        "      ResNet, \n",
        "      {'width_multiplier': wm},\n",
        "      f'mode_connectivity/model_files/resnet_wm{wm}_a.pt', \n",
        "      f'mode_connectivity/model_files/resnet_wm{wm}_b.pt', \n",
        "      'cifar10', \n",
        "      n_points=n_points, \n",
        "      verbose=2, \n",
        "      max_iter=30,\n",
        "  )\n",
        "\n",
        "  torch.save(permuted_params, f'mode_connectivity/model_files/resnet_wm{wm}_b_permuted.pt')\n",
        "\n",
        "  print(train_acc_naive)\n",
        "  print(test_acc_naive)\n",
        "  print(train_acc_perm)\n",
        "  print(test_acc_perm)"
      ]
    },
    {
      "cell_type": "code",
      "source": [
        "# First we do the basic linear interpolation plot\n",
        "lambdas = torch.linspace(0, 1, steps=n_points)\n",
        "fig = plot.plot_interp_metric(\"accuracy\", lambdas, train_acc_naive, test_acc_naive, train_acc_perm, test_acc_perm)"
      ],
      "metadata": {
        "colab": {
          "base_uri": "https://localhost:8080/",
          "height": 297
        },
        "id": "_3tc9AyQ9zLL",
        "outputId": "6a322235-4dd2-424f-8283-967204419358"
      },
      "id": "_3tc9AyQ9zLL",
      "execution_count": 21,
      "outputs": [
        {
          "output_type": "display_data",
          "data": {
            "text/plain": [
              "<Figure size 432x288 with 1 Axes>"
            ],
            "image/png": "[encoded data removed]"
          },
          "metadata": {
            "needs_background": "light"
          }
        }
      ]
    },
    {
      "cell_type": "code",
      "source": [
        "# Now we generate the contour plot\n",
        "a_params = torch.load(\"mode_connectivity/model_files/resnet_wm1_a.pt\") \n",
        "b_params = torch.load(\"mode_connectivity/model_files/resnet_wm1_b.pt\") \n",
        "v1, v2, v3 = (\n",
        "    utils.state_dict_to_numpy_array(p) for p in [a_params, b_params, permuted_params]\n",
        ")\n",
        "\n",
        "model_a = ResNet()\n",
        "model_a.load_state_dict(a_params)\n",
        "\n",
        "contour_plane = utils.generate_orthogonal_basis(v1, v2, v3)\n",
        "train_loader, test_loader = data.get_data_loaders(\n",
        "    dataset=\"cifar10\", train_kwargs={\"batch_size\":512}, test_kwargs={\"batch_size\":512}\n",
        ")\n",
        "device, _ = get_device()\n",
        "(\n",
        "    t1s,\n",
        "    t2s,\n",
        "    test_acc_grid,\n",
        "    test_loss_grid,\n",
        "    train_acc_grid,\n",
        "    train_loss_grid,\n",
        ") = utils.generate_loss_landscape_contour(\n",
        "    model_a, device, train_loader, test_loader, contour_plane, granularity=5\n",
        ")"
      ],
      "metadata": {
        "id": "gihTqC8Q-11U",
        "outputId": "29aea0f8-a935-47a8-d956-da185640bb98",
        "colab": {
          "base_uri": "https://localhost:8080/"
        }
      },
      "id": "gihTqC8Q-11U",
      "execution_count": 31,
      "outputs": [
        {
          "output_type": "stream",
          "name": "stdout",
          "text": [
            "Files already downloaded and verified\n",
            "Files already downloaded and verified\n"
          ]
        },
        {
          "output_type": "stream",
          "name": "stderr",
          "text": [
            "3it [02:11, 43.81s/it]\n"
          ]
        }
      ]
    },
    {
      "cell_type": "code",
      "source": [
        "plot.plot_metric_contour(\n",
        "    \"accuracy\",\n",
        "    t1s,\n",
        "    t2s,\n",
        "    test_acc_grid,\n",
        "    model_vectors_dict={\n",
        "        \"A\": utils.projection(v1, contour_plane),\n",
        "        \"B\": utils.projection(v2, contour_plane),\n",
        "        \"B permuted\": utils.projection(v3, contour_plane),\n",
        "    },\n",
        ")"
      ],
      "metadata": {
        "id": "9O_OxCzh-47p",
        "outputId": "164bb75d-96cb-49b6-8b83-865d57f6c31d",
        "colab": {
          "base_uri": "https://localhost:8080/",
          "height": 486
        }
      },
      "id": "9O_OxCzh-47p",
      "execution_count": 32,
      "outputs": [
        {
          "output_type": "display_data",
          "data": {
            "text/plain": [
              "<Figure size 600x500 with 2 Axes>"
            ],
            "image/png": "[encoded data removed]"
          },
          "metadata": {}
        }
      ]
    }
  ],
  "metadata": {
    "accelerator": "GPU",
    "colab": {
      "provenance": []
    },
    "gpuClass": "standard",
    "kernelspec": {
      "display_name": "Python 3 (ipykernel)",
      "language": "python",
      "name": "python3"
    },
    "language_info": {
      "codemirror_mode": {
        "name": "ipython",
        "version": 3
      },
      "file_extension": ".py",
      "mimetype": "text/x-python",
      "name": "python",
      "nbconvert_exporter": "python",
      "pygments_lexer": "ipython3",
      "version": "3.10.8"
    },
    "vscode": {
      "interpreter": {
        "hash": "533dc1b5f6751e9c738350df3cd1b0ef5f569dd461507537431de13a6c09381e"
      }
    }
  },
  "nbformat": 4,
  "nbformat_minor": 5
}