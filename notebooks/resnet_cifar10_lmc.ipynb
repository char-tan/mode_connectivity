{
  "cells": [
    {
      "cell_type": "markdown",
      "id": "OHd3WZjq7pQB",
      "metadata": {
        "id": "OHd3WZjq7pQB"
      },
      "source": [
        "# Setup"
      ]
    },
    {
      "cell_type": "code",
      "execution_count": null,
      "id": "fSdnaEXm8ad9",
      "metadata": {
        "id": "fSdnaEXm8ad9"
      },
      "outputs": [],
      "source": [
        "# check GPU\n",
        "!nvidia-smi"
      ]
    },
    {
      "cell_type": "code",
      "execution_count": null,
      "id": "999c2bc6",
      "metadata": {
        "id": "999c2bc6"
      },
      "outputs": [],
      "source": [
        "# pulls repo to colab\n",
        "!git clone https://github.com/char-tan/mode_connectivity.git\n",
        "\n",
        "# checkout specific branch if needed\n",
        "!cd mode_connectivity; git checkout resnet_perm_spec"
      ]
    },
    {
      "cell_type": "code",
      "execution_count": null,
      "id": "nhw2DqG-_8Vb",
      "metadata": {
        "id": "nhw2DqG-_8Vb"
      },
      "outputs": [],
      "source": [
        "# allows you to change the .py files and have the imports updated\n",
        "%load_ext autoreload\n",
        "%autoreload 2"
      ]
    },
    {
      "cell_type": "code",
      "execution_count": null,
      "id": "fe1fb111",
      "metadata": {
        "id": "fe1fb111"
      },
      "outputs": [],
      "source": [
        "import sys, os\n",
        "SCRIPT_DIR = os.path.dirname(os.path.abspath('.'))\n",
        "sys.path.append(os.path.dirname(SCRIPT_DIR))\n",
        "\n",
        "from mode_connectivity.training import *\n",
        "from mode_connectivity.lmc import *\n",
        "from mode_connectivity.training_config import *\n",
        "\n",
        "from mode_connectivity.models.mlp import MLP\n",
        "from mode_connectivity.models.vgg import VGG\n",
        "from mode_connectivity.models.resnet import ResNet\n",
        "\n",
        "from mode_connectivity.utils import weight_matching, data, training_utils, plot, utils\n",
        "\n",
        "import torch\n",
        "from torchvision import transforms\n",
        "import copy\n",
        "from tqdm import tqdm\n",
        "import matplotlib.pyplot as plt\n",
        "import numpy as np"
      ]
    },
    {
      "cell_type": "markdown",
      "id": "u1WMQgF68xZA",
      "metadata": {
        "id": "u1WMQgF68xZA"
      },
      "source": [
        "# VGG LMC"
      ]
    },
    {
      "cell_type": "code",
      "execution_count": null,
      "id": "QAdC8I8TVVOx",
      "metadata": {
        "id": "QAdC8I8TVVOx"
      },
      "outputs": [],
      "source": [
        "# pull the required model files\n",
        "!cd mode_connectivity && git lfs pull -I model_files/resnet_wm2_a.pt \n",
        "!cd mode_connectivity && git lfs pull -I model_files/resnet_wm2_b.pt"
      ]
    },
    {
      "cell_type": "code",
      "source": [
        "n_points = 20\n",
        "lambdas = torch.linspace(0, 1, steps=n_points)\n",
        "\n",
        "for wm in [2]:\n",
        "\n",
        "  (\n",
        "      permuted_params,\n",
        "      train_acc_naive,\n",
        "      test_acc_naive,\n",
        "      train_acc_perm,\n",
        "      test_acc_perm,\n",
        "  ) = linear_mode_connect(\n",
        "      ResNet, \n",
        "      {'width_multiplier': wm},\n",
        "      f'mode_connectivity/model_files/resnet_wm{wm}_a.pt', \n",
        "      f'mode_connectivity/model_files/resnet_wm{wm}_b.pt', \n",
        "      'cifar10', \n",
        "      n_points=n_points, \n",
        "      verbose=2, \n",
        "      max_iter=30,\n",
        "  )\n",
        "\n",
        "  torch.save(permuted_params, f'mode_connectivity/model_files/resnet_wm{wm}_b_permuted.pt')\n",
        "\n",
        "  print(train_acc_naive)\n",
        "  print(test_acc_naive)\n",
        "  print(train_acc_perm)\n",
        "  print(test_acc_perm)"
      ],
      "metadata": {
        "id": "VkSu_uPDrzNt"
      },
      "id": "VkSu_uPDrzNt",
      "execution_count": null,
      "outputs": []
    },
    {
      "cell_type": "code",
      "source": [
        "# First we do the basic linear interpolation plot\n",
        "lambdas = torch.linspace(0, 1, steps=n_points)\n",
        "fig = plot.plot_interp_metric(\"accuracy\", lambdas, train_acc_naive, test_acc_naive, train_acc_perm, test_acc_perm)"
      ],
      "metadata": {
        "id": "HYOQqwj5r5vG"
      },
      "id": "HYOQqwj5r5vG",
      "execution_count": null,
      "outputs": []
    },
    {
      "cell_type": "code",
      "source": [
        "# Now we generate the contour plot\n",
        "a_params = torch.load(\"mode_connectivity/model_files/resnet_wm{wm}_a.pt\") \n",
        "b_params = torch.load(\"mode_connectivity/model_files/resnet_wm{wm}_b.pt\") \n",
        "v1, v2, v3 = (\n",
        "    utils.state_dict_to_numpy_array(p) for p in [a_params, b_params, permuted_params]\n",
        ")\n",
        "\n",
        "model_a = ResNet(width_multiplier=4)\n",
        "model_a.load_state_dict(a_params)\n",
        "\n",
        "contour_plane = utils.generate_orthogonal_basis(v1, v2, v3)\n",
        "train_loader, test_loader = data.get_data_loaders(\n",
        "    dataset=\"cifar10\", train_kwargs={\"batch_size\":512}, test_kwargs={\"batch_size\":512}\n",
        ")\n",
        "device, _ = get_device()\n",
        "(\n",
        "    t1s,\n",
        "    t2s,\n",
        "    test_acc_grid,\n",
        "    test_loss_grid,\n",
        "    train_acc_grid,\n",
        "    train_loss_grid,\n",
        ") = utils.generate_loss_landscape_contour(\n",
        "    model_a, device, train_loader, test_loader, contour_plane, granularity=10\n",
        ")"
      ],
      "metadata": {
        "id": "AscW7IXSr-Li"
      },
      "id": "AscW7IXSr-Li",
      "execution_count": null,
      "outputs": []
    },
    {
      "cell_type": "code",
      "source": [
        "plot.plot_metric_contour(\n",
        "    \"accuracy\",\n",
        "    t1s,\n",
        "    t2s,\n",
        "    test_acc_grid,\n",
        "    model_vectors_dict={\n",
        "        \"A\": utils.projection(v1, contour_plane),\n",
        "        \"B\": utils.projection(v2, contour_plane),\n",
        "        \"B permuted\": utils.projection(v3, contour_plane),\n",
        "    },\n",
        ")"
      ],
      "metadata": {
        "id": "jcB741IusA-i"
      },
      "id": "jcB741IusA-i",
      "execution_count": null,
      "outputs": []
    },
    {
      "cell_type": "code",
      "source": [
        "np.save('resnet_wm{wm}_test_acc_grid.npy', test_acc_grid)\n",
        "np.save('resnet_wm{wm}_test_loss_grid.npy', test_loss_grid)"
      ],
      "metadata": {
        "id": "vyX8FP4rB3U-"
      },
      "id": "vyX8FP4rB3U-",
      "execution_count": null,
      "outputs": []
    }
  ],
  "metadata": {
    "accelerator": "GPU",
    "colab": {
      "provenance": []
    },
    "gpuClass": "standard",
    "kernelspec": {
      "display_name": "Python 3 (ipykernel)",
      "language": "python",
      "name": "python3"
    },
    "language_info": {
      "codemirror_mode": {
        "name": "ipython",
        "version": 3
      },
      "file_extension": ".py",
      "mimetype": "text/x-python",
      "name": "python",
      "nbconvert_exporter": "python",
      "pygments_lexer": "ipython3",
      "version": "3.10.8"
    },
    "vscode": {
      "interpreter": {
        "hash": "533dc1b5f6751e9c738350df3cd1b0ef5f569dd461507537431de13a6c09381e"
      }
    }
  },
  "nbformat": 4,
  "nbformat_minor": 5
}