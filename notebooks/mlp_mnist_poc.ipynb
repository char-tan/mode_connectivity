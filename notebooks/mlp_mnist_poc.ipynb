{
  "cells": [
    {
      "cell_type": "markdown",
      "source": [
        "# Setup"
      ],
      "metadata": {
        "id": "0ox72K94Tk_f"
      },
      "id": "0ox72K94Tk_f"
    },
    {
      "cell_type": "code",
      "source": [
        "# check GPU\n",
        "!nvidia-smi"
      ],
      "metadata": {
        "id": "EoU7-e4NcM4c",
        "outputId": "ec67b665-4e2f-4c70-f935-2d9755830592",
        "colab": {
          "base_uri": "https://localhost:8080/"
        }
      },
      "id": "EoU7-e4NcM4c",
      "execution_count": 1,
      "outputs": [
        {
          "output_type": "stream",
          "name": "stdout",
          "text": [
            "Sun Dec 18 13:08:23 2022       \n",
            "+-----------------------------------------------------------------------------+\n",
            "| NVIDIA-SMI 460.32.03    Driver Version: 460.32.03    CUDA Version: 11.2     |\n",
            "|-------------------------------+----------------------+----------------------+\n",
            "| GPU  Name        Persistence-M| Bus-Id        Disp.A | Volatile Uncorr. ECC |\n",
            "| Fan  Temp  Perf  Pwr:Usage/Cap|         Memory-Usage | GPU-Util  Compute M. |\n",
            "|                               |                      |               MIG M. |\n",
            "|===============================+======================+======================|\n",
            "|   0  Tesla T4            Off  | 00000000:00:04.0 Off |                    0 |\n",
            "| N/A   67C    P0    29W /  70W |      0MiB / 15109MiB |      0%      Default |\n",
            "|                               |                      |                  N/A |\n",
            "+-------------------------------+----------------------+----------------------+\n",
            "                                                                               \n",
            "+-----------------------------------------------------------------------------+\n",
            "| Processes:                                                                  |\n",
            "|  GPU   GI   CI        PID   Type   Process name                  GPU Memory |\n",
            "|        ID   ID                                                   Usage      |\n",
            "|=============================================================================|\n",
            "|  No running processes found                                                 |\n",
            "+-----------------------------------------------------------------------------+\n"
          ]
        }
      ]
    },
    {
      "cell_type": "code",
      "execution_count": 2,
      "id": "999c2bc6",
      "metadata": {
        "id": "999c2bc6",
        "outputId": "fdc66485-b58f-4ddc-8218-b21532a1139c",
        "colab": {
          "base_uri": "https://localhost:8080/"
        }
      },
      "outputs": [
        {
          "output_type": "stream",
          "name": "stdout",
          "text": [
            "Cloning into 'mode_connectivity'...\n",
            "remote: Enumerating objects: 166, done.\u001b[K\n",
            "remote: Counting objects: 100% (166/166), done.\u001b[K\n",
            "remote: Compressing objects: 100% (92/92), done.\u001b[K\n",
            "remote: Total 166 (delta 88), reused 143 (delta 65), pack-reused 0\u001b[K\n",
            "Receiving objects: 100% (166/166), 101.28 KiB | 12.66 MiB/s, done.\n",
            "Resolving deltas: 100% (88/88), done.\n"
          ]
        }
      ],
      "source": [
        "# pull repo\n",
        "!git clone https://github.com/char-tan/mode_connectivity.git"
      ]
    },
    {
      "cell_type": "code",
      "source": [
        "# change working directory\n",
        "import os\n",
        "os.chdir('mode_connectivity')"
      ],
      "metadata": {
        "id": "FhffvuErVyVk"
      },
      "id": "FhffvuErVyVk",
      "execution_count": 3,
      "outputs": []
    },
    {
      "cell_type": "code",
      "source": [
        "# checkout branch\n",
        "!git checkout wm_experiments"
      ],
      "metadata": {
        "id": "a4K8AFJTcYtt",
        "outputId": "27737f27-3b97-4bdb-d946-121af46be931",
        "colab": {
          "base_uri": "https://localhost:8080/"
        }
      },
      "id": "a4K8AFJTcYtt",
      "execution_count": 4,
      "outputs": [
        {
          "output_type": "stream",
          "name": "stdout",
          "text": [
            "Branch 'wm_experiments' set up to track remote branch 'wm_experiments' from 'origin'.\n",
            "Switched to a new branch 'wm_experiments'\n"
          ]
        }
      ]
    },
    {
      "cell_type": "markdown",
      "source": [
        "# Train models"
      ],
      "metadata": {
        "id": "60VHLDuSVpNe"
      },
      "id": "60VHLDuSVpNe"
    },
    {
      "cell_type": "code",
      "execution_count": 6,
      "id": "fe1fb111",
      "metadata": {
        "id": "fe1fb111",
        "outputId": "9eee8447-9e6c-4cf1-f7d1-cd8cced71179",
        "colab": {
          "base_uri": "https://localhost:8080/"
        }
      },
      "outputs": [
        {
          "output_type": "stream",
          "name": "stdout",
          "text": [
            "Downloading http://yann.lecun.com/exdb/mnist/train-images-idx3-ubyte.gz\n",
            "Downloading http://yann.lecun.com/exdb/mnist/train-images-idx3-ubyte.gz to ./data/MNIST/raw/train-images-idx3-ubyte.gz\n",
            "\r  0% 0/9912422 [00:00<?, ?it/s]\r 50% 4915200/9912422 [00:00<00:00, 49096679.52it/s]\r100% 9912422/9912422 [00:00<00:00, 73586632.05it/s]\n",
            "Extracting ./data/MNIST/raw/train-images-idx3-ubyte.gz to ./data/MNIST/raw\n",
            "\n",
            "Downloading http://yann.lecun.com/exdb/mnist/train-labels-idx1-ubyte.gz\n",
            "Downloading http://yann.lecun.com/exdb/mnist/train-labels-idx1-ubyte.gz to ./data/MNIST/raw/train-labels-idx1-ubyte.gz\n",
            "100% 28881/28881 [00:00<00:00, 115038645.61it/s]\n",
            "Extracting ./data/MNIST/raw/train-labels-idx1-ubyte.gz to ./data/MNIST/raw\n",
            "\n",
            "Downloading http://yann.lecun.com/exdb/mnist/t10k-images-idx3-ubyte.gz\n",
            "Downloading http://yann.lecun.com/exdb/mnist/t10k-images-idx3-ubyte.gz to ./data/MNIST/raw/t10k-images-idx3-ubyte.gz\n",
            "100% 1648877/1648877 [00:00<00:00, 73581140.51it/s]\n",
            "Extracting ./data/MNIST/raw/t10k-images-idx3-ubyte.gz to ./data/MNIST/raw\n",
            "\n",
            "Downloading http://yann.lecun.com/exdb/mnist/t10k-labels-idx1-ubyte.gz\n",
            "Downloading http://yann.lecun.com/exdb/mnist/t10k-labels-idx1-ubyte.gz to ./data/MNIST/raw/t10k-labels-idx1-ubyte.gz\n",
            "100% 4542/4542 [00:00<00:00, 29084776.75it/s]\n",
            "Extracting ./data/MNIST/raw/t10k-labels-idx1-ubyte.gz to ./data/MNIST/raw\n",
            "\n",
            "/content/mode_connectivity/models/mlp.py:20: UserWarning: Implicit dimension choice for log_softmax has been deprecated. Change the call to include dim=X as an argument.\n",
            "  return nn.functional.log_softmax(x)\n",
            "Train Epoch: 1, Train Accuracy: (90%) \n",
            "Average loss: 0.1298, Accuracy: (96%)\n",
            "Train Epoch: 2, Train Accuracy: (97%) \n",
            "Average loss: 0.0944, Accuracy: (97%)\n",
            "Train Epoch: 3, Train Accuracy: (98%) \n",
            "Average loss: 0.0724, Accuracy: (98%)\n",
            "Train Epoch: 4, Train Accuracy: (99%) \n",
            "Average loss: 0.0766, Accuracy: (98%)\n",
            "Train Epoch: 5, Train Accuracy: (99%) \n",
            "Average loss: 0.0804, Accuracy: (98%)\n",
            "Train Epoch: 6, Train Accuracy: (99%) \n",
            "Average loss: 0.0740, Accuracy: (98%)\n",
            "Train Epoch: 7, Train Accuracy: (99%) \n",
            "Average loss: 0.0777, Accuracy: (98%)\n",
            "Train Epoch: 8, Train Accuracy: (99%) \n",
            "Average loss: 0.0788, Accuracy: (98%)\n",
            "Train Epoch: 9, Train Accuracy: (99%) \n",
            "Average loss: 0.0820, Accuracy: (98%)\n",
            "Train Epoch: 10, Train Accuracy: (100%) \n",
            "Average loss: 0.0766, Accuracy: (98%)\n",
            "Train Epoch: 1, Train Accuracy: (90%) \n",
            "Average loss: 0.1377, Accuracy: (96%)\n",
            "Train Epoch: 2, Train Accuracy: (97%) \n",
            "Average loss: 0.0931, Accuracy: (97%)\n",
            "Train Epoch: 3, Train Accuracy: (98%) \n",
            "Average loss: 0.0795, Accuracy: (98%)\n",
            "Train Epoch: 4, Train Accuracy: (98%) \n",
            "Average loss: 0.0713, Accuracy: (98%)\n",
            "Train Epoch: 5, Train Accuracy: (99%) \n",
            "Average loss: 0.0845, Accuracy: (98%)\n",
            "Train Epoch: 6, Train Accuracy: (99%) \n",
            "Average loss: 0.0758, Accuracy: (98%)\n",
            "Train Epoch: 7, Train Accuracy: (99%) \n",
            "Average loss: 0.0911, Accuracy: (98%)\n",
            "Train Epoch: 8, Train Accuracy: (99%) \n",
            "Average loss: 0.0709, Accuracy: (98%)\n",
            "Train Epoch: 9, Train Accuracy: (99%) \n",
            "Average loss: 0.0797, Accuracy: (98%)\n",
            "Train Epoch: 10, Train Accuracy: (99%) \n",
            "Average loss: 0.0821, Accuracy: (98%)\n"
          ]
        }
      ],
      "source": [
        "!python run_train_experiments.py"
      ]
    },
    {
      "cell_type": "markdown",
      "source": [
        "# Weight matching"
      ],
      "metadata": {
        "id": "90zUosb5Vr5x"
      },
      "id": "90zUosb5Vr5x"
    },
    {
      "cell_type": "code",
      "execution_count": 7,
      "id": "c4151e8c",
      "metadata": {
        "id": "c4151e8c",
        "outputId": "ad3b0610-2280-47e3-9eae-69d54ce61505",
        "colab": {
          "base_uri": "https://localhost:8080/",
          "height": 1000
        }
      },
      "outputs": [
        {
          "output_type": "stream",
          "name": "stdout",
          "text": [
            "performing naive interpolation\n",
            "lam = 0.0\n"
          ]
        },
        {
          "output_type": "stream",
          "name": "stderr",
          "text": [
            "/content/mode_connectivity/models/mlp.py:20: UserWarning: Implicit dimension choice for log_softmax has been deprecated. Change the call to include dim=X as an argument.\n",
            "  return nn.functional.log_softmax(x)\n"
          ]
        },
        {
          "output_type": "stream",
          "name": "stdout",
          "text": [
            "Average loss: 0.0067, Accuracy: (100%)\n",
            "Average loss: 0.0766, Accuracy: (98%)\n",
            "lam = 0.1111111119389534\n",
            "Average loss: 0.0185, Accuracy: (100%)\n",
            "Average loss: 0.0664, Accuracy: (98%)\n",
            "lam = 0.2222222238779068\n",
            "Average loss: 0.1042, Accuracy: (99%)\n",
            "Average loss: 0.1353, Accuracy: (98%)\n",
            "lam = 0.3333333432674408\n",
            "Average loss: 0.5118, Accuracy: (98%)\n",
            "Average loss: 0.5258, Accuracy: (96%)\n",
            "lam = 0.4444444477558136\n",
            "Average loss: 1.1631, Accuracy: (93%)\n",
            "Average loss: 1.1653, Accuracy: (92%)\n",
            "lam = 0.5555555820465088\n",
            "Average loss: 1.1807, Accuracy: (92%)\n",
            "Average loss: 1.1804, Accuracy: (91%)\n",
            "lam = 0.6666666865348816\n",
            "Average loss: 0.5427, Accuracy: (97%)\n",
            "Average loss: 0.5539, Accuracy: (96%)\n",
            "lam = 0.7777777910232544\n",
            "Average loss: 0.1219, Accuracy: (99%)\n",
            "Average loss: 0.1507, Accuracy: (97%)\n",
            "lam = 0.8888888955116272\n",
            "Average loss: 0.0279, Accuracy: (99%)\n",
            "Average loss: 0.0724, Accuracy: (98%)\n",
            "lam = 1.0\n",
            "Average loss: 0.0148, Accuracy: (100%)\n",
            "Average loss: 0.0821, Accuracy: (98%)\n",
            "permuting model\n",
            "0/P_2: 36.39011001586914\n",
            "0/P_1: 28.858627319335938\n",
            "0/P_0: 120.21208953857422\n",
            "1/P_0: 0.0\n",
            "1/P_2: 13.657768249511719\n",
            "1/P_1: 51.37534713745117\n",
            "2/P_1: 0.0\n",
            "2/P_2: 27.666488647460938\n",
            "2/P_0: 5.858184814453125\n",
            "3/P_1: 8.687820434570312\n",
            "3/P_0: 1.177947998046875\n",
            "3/P_2: 5.068805694580078\n",
            "4/P_0: 0.0\n",
            "4/P_2: 0.0\n",
            "4/P_1: 0.73095703125\n",
            "5/P_2: 1.273101806640625\n",
            "5/P_0: 0.1404571533203125\n",
            "5/P_1: 0.368988037109375\n",
            "6/P_0: 0.1428985595703125\n",
            "6/P_1: 0.04571533203125\n",
            "6/P_2: 0.468414306640625\n",
            "7/P_1: 0.078826904296875\n",
            "7/P_2: 0.215972900390625\n",
            "7/P_0: 0.064849853515625\n",
            "8/P_2: 0.0\n",
            "8/P_1: 0.03955078125\n",
            "8/P_0: 0.0885772705078125\n",
            "9/P_0: 0.0\n",
            "9/P_1: 0.003875732421875\n",
            "9/P_2: 0.3282928466796875\n",
            "10/P_1: 0.0572662353515625\n",
            "10/P_0: 0.00079345703125\n",
            "10/P_2: 0.1511993408203125\n",
            "11/P_2: 0.0\n",
            "11/P_1: 0.045166015625\n",
            "11/P_0: 0.0040130615234375\n",
            "12/P_1: 0.0\n",
            "12/P_0: 0.0\n",
            "12/P_2: 0.0706787109375\n",
            "13/P_0: 0.0\n",
            "13/P_1: 0.0240020751953125\n",
            "13/P_2: 0.01107025146484375\n",
            "14/P_2: 0.0\n",
            "14/P_0: 0.0025177001953125\n",
            "14/P_1: 0.0\n",
            "15/P_1: 0.0\n",
            "15/P_2: 0.0\n",
            "15/P_0: 0.0\n",
            "performing permuted interpolation\n",
            "lam = 0.0\n",
            "Average loss: 0.0067, Accuracy: (100%)\n",
            "Average loss: 0.0766, Accuracy: (98%)\n",
            "lam = 0.1111111119389534\n",
            "Average loss: 0.0077, Accuracy: (100%)\n",
            "Average loss: 0.0671, Accuracy: (98%)\n",
            "lam = 0.2222222238779068\n",
            "Average loss: 0.0104, Accuracy: (100%)\n",
            "Average loss: 0.0620, Accuracy: (98%)\n",
            "lam = 0.3333333432674408\n",
            "Average loss: 0.0141, Accuracy: (100%)\n",
            "Average loss: 0.0603, Accuracy: (98%)\n",
            "lam = 0.4444444477558136\n",
            "Average loss: 0.0173, Accuracy: (100%)\n",
            "Average loss: 0.0607, Accuracy: (98%)\n",
            "lam = 0.5555555820465088\n",
            "Average loss: 0.0185, Accuracy: (100%)\n",
            "Average loss: 0.0616, Accuracy: (98%)\n",
            "lam = 0.6666666865348816\n",
            "Average loss: 0.0176, Accuracy: (100%)\n",
            "Average loss: 0.0627, Accuracy: (98%)\n",
            "lam = 0.7777777910232544\n",
            "Average loss: 0.0158, Accuracy: (100%)\n",
            "Average loss: 0.0656, Accuracy: (98%)\n",
            "lam = 0.8888888955116272\n",
            "Average loss: 0.0145, Accuracy: (100%)\n",
            "Average loss: 0.0719, Accuracy: (98%)\n",
            "lam = 1.0\n",
            "Average loss: 0.0148, Accuracy: (100%)\n",
            "Average loss: 0.0821, Accuracy: (98%)\n"
          ]
        },
        {
          "output_type": "display_data",
          "data": {
            "text/plain": [
              "<Figure size 432x288 with 1 Axes>"
            ],
            "image/png": "[encoded data removed]"
          },
          "metadata": {
            "needs_background": "light"
          }
        }
      ],
      "source": [
        "from wm_experiments import run_wm_experiment\n",
        "from models.mlp import MLP\n",
        "\n",
        "run_wm_experiment(MLP, 'model_a.pt','model_b.pt', \"mnist\", n_points = 10)"
      ]
    },
    {
      "cell_type": "code",
      "source": [
        "!git status"
      ],
      "metadata": {
        "id": "AJ061SbVZH8o",
        "outputId": "1dc0ffa2-1a66-4a4e-c418-03390ade7db9",
        "colab": {
          "base_uri": "https://localhost:8080/"
        }
      },
      "id": "AJ061SbVZH8o",
      "execution_count": 8,
      "outputs": [
        {
          "output_type": "stream",
          "name": "stdout",
          "text": [
            "On branch wm_experiments\n",
            "Your branch is up to date with 'origin/wm_experiments'.\n",
            "\n",
            "Untracked files:\n",
            "  (use \"git add <file>...\" to include in what will be committed)\n",
            "\n",
            "\t\u001b[31mmodel_a.pt\u001b[m\n",
            "\t\u001b[31mmodel_b.pt\u001b[m\n",
            "\n",
            "nothing added to commit but untracked files present (use \"git add\" to track)\n"
          ]
        }
      ]
    }
  ],
  "metadata": {
    "colab": {
      "provenance": []
    },
    "kernelspec": {
      "display_name": "Python 3.9.13 ('base')",
      "language": "python",
      "name": "python3"
    },
    "language_info": {
      "codemirror_mode": {
        "name": "ipython",
        "version": 3
      },
      "file_extension": ".py",
      "mimetype": "text/x-python",
      "name": "python",
      "nbconvert_exporter": "python",
      "pygments_lexer": "ipython3",
      "version": "3.9.13"
    },
    "vscode": {
      "interpreter": {
        "hash": "533dc1b5f6751e9c738350df3cd1b0ef5f569dd461507537431de13a6c09381e"
      }
    },
    "accelerator": "GPU",
    "gpuClass": "standard"
  },
  "nbformat": 4,
  "nbformat_minor": 5
}