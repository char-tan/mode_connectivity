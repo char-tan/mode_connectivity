{
 "cells": [
  {
   "cell_type": "code",
   "execution_count": null,
   "id": "999c2bc6",
   "metadata": {
    "id": "999c2bc6"
   },
   "outputs": [],
   "source": [
    "# don't run locally\n",
    "!git clone https://github.com/char-tan/mode_connectivity.git"
   ]
  },
  {
   "cell_type": "code",
   "execution_count": null,
   "id": "gXEVOnLrr73Y",
   "metadata": {
    "id": "gXEVOnLrr73Y"
   },
   "outputs": [],
   "source": [
    "!cp mode_connectivity/train/mlp_mnist_train.py mode_connectivity/"
   ]
  },
  {
   "cell_type": "code",
   "execution_count": null,
   "id": "W2HJR6NNsDqJ",
   "metadata": {
    "id": "W2HJR6NNsDqJ"
   },
   "outputs": [],
   "source": [
    "!python mode_connectivity/mlp_mnist_train.py --lr 0.001\n",
    "# I just picked a random learning rate"
   ]
  }
 ],
 "metadata": {
  "colab": {
   "provenance": []
  },
  "kernelspec": {
   "display_name": "Python 3",
   "language": "python",
   "name": "python3"
  },
  "language_info": {
   "codemirror_mode": {
    "name": "ipython",
    "version": 3
   },
   "file_extension": ".py",
   "mimetype": "text/x-python",
   "name": "python",
   "nbconvert_exporter": "python",
   "pygments_lexer": "ipython3",
   "version": "3.8.8"
  }
 },
 "nbformat": 4,
 "nbformat_minor": 5
}
