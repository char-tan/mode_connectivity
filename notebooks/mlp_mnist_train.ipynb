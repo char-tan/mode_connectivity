{
  "cells": [
    {
      "cell_type": "markdown",
      "source": [
        "# Setup"
      ],
      "metadata": {
        "id": "0ox72K94Tk_f"
      },
      "id": "0ox72K94Tk_f"
    },
    {
      "cell_type": "code",
      "source": [
        "# check GPU\n",
        "!nvidia-smi"
      ],
      "metadata": {
        "id": "EoU7-e4NcM4c",
        "outputId": "5b86e2d5-facc-40cd-c201-8205dca436d9",
        "colab": {
          "base_uri": "https://localhost:8080/"
        }
      },
      "id": "EoU7-e4NcM4c",
      "execution_count": null,
      "outputs": [
        {
          "output_type": "stream",
          "name": "stdout",
          "text": [
            "Sun Dec 18 11:55:40 2022       \n",
            "+-----------------------------------------------------------------------------+\n",
            "| NVIDIA-SMI 460.32.03    Driver Version: 460.32.03    CUDA Version: 11.2     |\n",
            "|-------------------------------+----------------------+----------------------+\n",
            "| GPU  Name        Persistence-M| Bus-Id        Disp.A | Volatile Uncorr. ECC |\n",
            "| Fan  Temp  Perf  Pwr:Usage/Cap|         Memory-Usage | GPU-Util  Compute M. |\n",
            "|                               |                      |               MIG M. |\n",
            "|===============================+======================+======================|\n",
            "|   0  Tesla T4            Off  | 00000000:00:04.0 Off |                    0 |\n",
            "| N/A   65C    P0    30W /  70W |      0MiB / 15109MiB |      0%      Default |\n",
            "|                               |                      |                  N/A |\n",
            "+-------------------------------+----------------------+----------------------+\n",
            "                                                                               \n",
            "+-----------------------------------------------------------------------------+\n",
            "| Processes:                                                                  |\n",
            "|  GPU   GI   CI        PID   Type   Process name                  GPU Memory |\n",
            "|        ID   ID                                                   Usage      |\n",
            "|=============================================================================|\n",
            "|  No running processes found                                                 |\n",
            "+-----------------------------------------------------------------------------+\n"
          ]
        }
      ]
    },
    {
      "cell_type": "code",
      "execution_count": null,
      "id": "999c2bc6",
      "metadata": {
        "id": "999c2bc6",
        "outputId": "a056cc6b-ac88-40d0-b61e-59095be5b672",
        "colab": {
          "base_uri": "https://localhost:8080/"
        }
      },
      "outputs": [
        {
          "output_type": "stream",
          "name": "stdout",
          "text": [
            "Cloning into 'mode_connectivity'...\n",
            "remote: Enumerating objects: 157, done.\u001b[K\n",
            "remote: Counting objects: 100% (157/157), done.\u001b[K\n",
            "remote: Compressing objects: 100% (88/88), done.\u001b[K\n",
            "remote: Total 157 (delta 83), reused 135 (delta 61), pack-reused 0\u001b[K\n",
            "Receiving objects: 100% (157/157), 72.71 KiB | 18.18 MiB/s, done.\n",
            "Resolving deltas: 100% (83/83), done.\n"
          ]
        }
      ],
      "source": [
        "# pull repo\n",
        "!git clone https://github.com/char-tan/mode_connectivity.git"
      ]
    },
    {
      "cell_type": "code",
      "source": [
        "# checkout branch\n",
        "!cd mode_connectivity && git checkout wm_experiments"
      ],
      "metadata": {
        "id": "a4K8AFJTcYtt",
        "outputId": "9fc30d96-8992-43ec-b62a-7a26d2a1295c",
        "colab": {
          "base_uri": "https://localhost:8080/"
        }
      },
      "id": "a4K8AFJTcYtt",
      "execution_count": null,
      "outputs": [
        {
          "output_type": "stream",
          "name": "stdout",
          "text": [
            "Branch 'wm_experiments' set up to track remote branch 'wm_experiments' from 'origin'.\n",
            "Switched to a new branch 'wm_experiments'\n"
          ]
        }
      ]
    },
    {
      "cell_type": "code",
      "execution_count": null,
      "id": "fe1fb111",
      "metadata": {
        "id": "fe1fb111",
        "outputId": "ff1331ce-b447-425b-bfa2-8f3a5bd8e35d",
        "colab": {
          "base_uri": "https://localhost:8080/"
        }
      },
      "outputs": [
        {
          "output_type": "stream",
          "name": "stdout",
          "text": [
            "Downloading http://yann.lecun.com/exdb/mnist/train-images-idx3-ubyte.gz\n",
            "Downloading http://yann.lecun.com/exdb/mnist/train-images-idx3-ubyte.gz to ./data/MNIST/raw/train-images-idx3-ubyte.gz\n",
            "\r  0% 0/9912422 [00:00<?, ?it/s]\r100% 9912422/9912422 [00:00<00:00, 412465636.66it/s]\n",
            "Extracting ./data/MNIST/raw/train-images-idx3-ubyte.gz to ./data/MNIST/raw\n",
            "\n",
            "Downloading http://yann.lecun.com/exdb/mnist/train-labels-idx1-ubyte.gz\n",
            "Downloading http://yann.lecun.com/exdb/mnist/train-labels-idx1-ubyte.gz to ./data/MNIST/raw/train-labels-idx1-ubyte.gz\n",
            "100% 28881/28881 [00:00<00:00, 119228045.10it/s]\n",
            "Extracting ./data/MNIST/raw/train-labels-idx1-ubyte.gz to ./data/MNIST/raw\n",
            "\n",
            "Downloading http://yann.lecun.com/exdb/mnist/t10k-images-idx3-ubyte.gz\n",
            "Downloading http://yann.lecun.com/exdb/mnist/t10k-images-idx3-ubyte.gz to ./data/MNIST/raw/t10k-images-idx3-ubyte.gz\n",
            "100% 1648877/1648877 [00:00<00:00, 202443984.44it/s]\n",
            "Extracting ./data/MNIST/raw/t10k-images-idx3-ubyte.gz to ./data/MNIST/raw\n",
            "\n",
            "Downloading http://yann.lecun.com/exdb/mnist/t10k-labels-idx1-ubyte.gz\n",
            "Downloading http://yann.lecun.com/exdb/mnist/t10k-labels-idx1-ubyte.gz to ./data/MNIST/raw/t10k-labels-idx1-ubyte.gz\n",
            "100% 4542/4542 [00:00<00:00, 32179947.24it/s]\n",
            "Extracting ./data/MNIST/raw/t10k-labels-idx1-ubyte.gz to ./data/MNIST/raw\n",
            "\n",
            "/content/mode_connectivity/models/mlp.py:20: UserWarning: Implicit dimension choice for log_softmax has been deprecated. Change the call to include dim=X as an argument.\n",
            "  return nn.functional.log_softmax(x)\n",
            "Train Epoch: 1, Train Accuracy: (90%) \n",
            "Average loss: 0.1298, Accuracy: (96%)\n",
            "Train Epoch: 2, Train Accuracy: (97%) \n",
            "Average loss: 0.0944, Accuracy: (97%)\n",
            "Train Epoch: 3, Train Accuracy: (98%) \n",
            "Average loss: 0.0724, Accuracy: (98%)\n",
            "Train Epoch: 4, Train Accuracy: (99%) \n",
            "Average loss: 0.0766, Accuracy: (98%)\n",
            "Train Epoch: 5, Train Accuracy: (99%) \n",
            "Average loss: 0.0804, Accuracy: (98%)\n",
            "Train Epoch: 6, Train Accuracy: (99%) \n",
            "Average loss: 0.0740, Accuracy: (98%)\n",
            "Train Epoch: 7, Train Accuracy: (99%) \n",
            "Average loss: 0.0777, Accuracy: (98%)\n",
            "Train Epoch: 8, Train Accuracy: (99%) \n",
            "Average loss: 0.0788, Accuracy: (98%)\n",
            "Train Epoch: 9, Train Accuracy: (99%) \n",
            "Average loss: 0.0820, Accuracy: (98%)\n",
            "Train Epoch: 10, Train Accuracy: (100%) \n",
            "Average loss: 0.0766, Accuracy: (98%)\n",
            "Train Epoch: 1, Train Accuracy: (90%) \n",
            "Average loss: 0.1377, Accuracy: (96%)\n",
            "Train Epoch: 2, Train Accuracy: (97%) \n",
            "Average loss: 0.0931, Accuracy: (97%)\n",
            "Train Epoch: 3, Train Accuracy: (98%) \n",
            "Average loss: 0.0795, Accuracy: (98%)\n",
            "Train Epoch: 4, Train Accuracy: (98%) \n",
            "Average loss: 0.0713, Accuracy: (98%)\n",
            "Train Epoch: 5, Train Accuracy: (99%) \n",
            "Average loss: 0.0845, Accuracy: (98%)\n",
            "Train Epoch: 6, Train Accuracy: (99%) \n",
            "Average loss: 0.0758, Accuracy: (98%)\n",
            "Train Epoch: 7, Train Accuracy: (99%) \n",
            "Average loss: 0.0911, Accuracy: (98%)\n",
            "Train Epoch: 8, Train Accuracy: (99%) \n",
            "Average loss: 0.0709, Accuracy: (98%)\n",
            "Train Epoch: 9, Train Accuracy: (99%) \n",
            "Average loss: 0.0797, Accuracy: (98%)\n",
            "Train Epoch: 10, Train Accuracy: (99%) \n",
            "Average loss: 0.0821, Accuracy: (98%)\n"
          ]
        }
      ],
      "source": [
        "!cd mode_connectivity && python run_train_experiments.py"
      ]
    },
    {
      "cell_type": "code",
      "execution_count": 43,
      "id": "c4151e8c",
      "metadata": {
        "id": "c4151e8c",
        "outputId": "ac8eafb6-91be-4bfc-b0bb-981330038d7a",
        "colab": {
          "base_uri": "https://localhost:8080/",
          "height": 1000
        }
      },
      "outputs": [
        {
          "output_type": "stream",
          "name": "stdout",
          "text": [
            "performing naive interpolation\n",
            "lam = 0.0\n"
          ]
        },
        {
          "output_type": "stream",
          "name": "stderr",
          "text": [
            "/content/mode_connectivity/models/mlp.py:20: UserWarning: Implicit dimension choice for log_softmax has been deprecated. Change the call to include dim=X as an argument.\n",
            "  return nn.functional.log_softmax(x)\n"
          ]
        },
        {
          "output_type": "stream",
          "name": "stdout",
          "text": [
            "Average loss: 0.0067, Accuracy: (100%)\n",
            "Average loss: 0.0766, Accuracy: (98%)\n",
            "lam = 0.1111111119389534\n",
            "Average loss: 0.0185, Accuracy: (100%)\n",
            "Average loss: 0.0664, Accuracy: (98%)\n",
            "lam = 0.2222222238779068\n",
            "Average loss: 0.1042, Accuracy: (99%)\n",
            "Average loss: 0.1353, Accuracy: (98%)\n",
            "lam = 0.3333333432674408\n",
            "Average loss: 0.5118, Accuracy: (98%)\n",
            "Average loss: 0.5258, Accuracy: (96%)\n",
            "lam = 0.4444444477558136\n",
            "Average loss: 1.1631, Accuracy: (93%)\n",
            "Average loss: 1.1653, Accuracy: (92%)\n",
            "lam = 0.5555555820465088\n",
            "Average loss: 1.1807, Accuracy: (92%)\n",
            "Average loss: 1.1804, Accuracy: (91%)\n",
            "lam = 0.6666666865348816\n",
            "Average loss: 0.5427, Accuracy: (97%)\n",
            "Average loss: 0.5539, Accuracy: (96%)\n",
            "lam = 0.7777777910232544\n",
            "Average loss: 0.1219, Accuracy: (99%)\n",
            "Average loss: 0.1507, Accuracy: (97%)\n",
            "lam = 0.8888888955116272\n",
            "Average loss: 0.0279, Accuracy: (99%)\n",
            "Average loss: 0.0724, Accuracy: (98%)\n",
            "lam = 1.0\n",
            "Average loss: 0.0148, Accuracy: (100%)\n",
            "Average loss: 0.0821, Accuracy: (98%)\n",
            "permuting model\n",
            "0/P_1: 56.65011215209961\n",
            "0/P_2: 20.29566192626953\n",
            "0/P_0: 111.33537292480469\n",
            "1/P_2: 0.0\n",
            "1/P_0: 0.0\n",
            "1/P_1: 54.71733474731445\n",
            "2/P_0: 7.598358154296875\n",
            "2/P_2: 30.412548065185547\n",
            "2/P_1: 10.816390991210938\n",
            "3/P_1: 0.0\n",
            "3/P_2: 5.8675689697265625\n",
            "3/P_0: 1.283294677734375\n",
            "4/P_0: 0.0\n",
            "4/P_1: 1.242889404296875\n",
            "4/P_2: 1.297607421875\n",
            "5/P_0: 0.316070556640625\n",
            "5/P_1: 0.26715087890625\n",
            "5/P_2: 0.5533828735351562\n",
            "6/P_2: 0.0\n",
            "6/P_0: 0.088531494140625\n",
            "6/P_1: 0.1060943603515625\n",
            "7/P_0: 0.044769287109375\n",
            "7/P_1: 0.046905517578125\n",
            "7/P_2: 0.3221282958984375\n",
            "8/P_0: 0.012451171875\n",
            "8/P_2: 0.0\n",
            "8/P_1: 0.017852783203125\n",
            "9/P_2: 0.134613037109375\n",
            "9/P_1: 0.0\n",
            "9/P_0: 0.0062103271484375\n",
            "10/P_1: 0.0043487548828125\n",
            "10/P_2: 0.0254058837890625\n",
            "10/P_0: 0.0\n",
            "11/P_1: 0.019744873046875\n",
            "11/P_2: 0.0539703369140625\n",
            "11/P_0: 0.0082855224609375\n",
            "12/P_1: 0.0\n",
            "12/P_0: 0.0\n",
            "12/P_2: 0.0\n",
            "performing permuted interpolation\n",
            "lam = 0.0\n",
            "Average loss: 0.0067, Accuracy: (100%)\n",
            "Average loss: 0.0766, Accuracy: (98%)\n",
            "lam = 0.1111111119389534\n",
            "Average loss: 0.0077, Accuracy: (100%)\n",
            "Average loss: 0.0665, Accuracy: (98%)\n",
            "lam = 0.2222222238779068\n",
            "Average loss: 0.0108, Accuracy: (100%)\n",
            "Average loss: 0.0616, Accuracy: (98%)\n",
            "lam = 0.3333333432674408\n",
            "Average loss: 0.0154, Accuracy: (100%)\n",
            "Average loss: 0.0608, Accuracy: (98%)\n",
            "lam = 0.4444444477558136\n",
            "Average loss: 0.0198, Accuracy: (99%)\n",
            "Average loss: 0.0625, Accuracy: (98%)\n",
            "lam = 0.5555555820465088\n",
            "Average loss: 0.0217, Accuracy: (99%)\n",
            "Average loss: 0.0647, Accuracy: (98%)\n",
            "lam = 0.6666666865348816\n",
            "Average loss: 0.0206, Accuracy: (99%)\n",
            "Average loss: 0.0663, Accuracy: (98%)\n",
            "lam = 0.7777777910232544\n",
            "Average loss: 0.0179, Accuracy: (99%)\n",
            "Average loss: 0.0687, Accuracy: (98%)\n",
            "lam = 0.8888888955116272\n",
            "Average loss: 0.0156, Accuracy: (100%)\n",
            "Average loss: 0.0737, Accuracy: (98%)\n",
            "lam = 1.0\n",
            "Average loss: 0.0148, Accuracy: (100%)\n",
            "Average loss: 0.0821, Accuracy: (98%)\n"
          ]
        },
        {
          "output_type": "display_data",
          "data": {
            "text/plain": [
              "<Figure size 432x288 with 1 Axes>"
            ],
            "image/png": "[encoded data removed]"
          },
          "metadata": {
            "needs_background": "light"
          }
        }
      ],
      "source": [
        "from wm_experiments import run_wm_experiment\n",
        "from models.mlp import MLP\n",
        "\n",
        "run_wm_experiment(MLP, 'model_a.pt','model_b.pt', \"mnist\", n_points = 10)"
      ]
    },
    {
      "cell_type": "code",
      "source": [
        "!git status"
      ],
      "metadata": {
        "colab": {
          "base_uri": "https://localhost:8080/"
        },
        "id": "2MUrkGHrUcKq",
        "outputId": "ed81510b-c51b-4803-efeb-318ea476b896"
      },
      "id": "2MUrkGHrUcKq",
      "execution_count": 45,
      "outputs": [
        {
          "output_type": "stream",
          "name": "stdout",
          "text": [
            "On branch wm_experiments\n",
            "Your branch is up to date with 'origin/wm_experiments'.\n",
            "\n",
            "Changes not staged for commit:\n",
            "  (use \"git add <file>...\" to update what will be committed)\n",
            "  (use \"git checkout -- <file>...\" to discard changes in working directory)\n",
            "\n",
            "\t\u001b[31mmodified:   run_wm_experiments.py\u001b[m\n",
            "\t\u001b[31mmodified:   utils/plot.py\u001b[m\n",
            "\t\u001b[31mmodified:   wm_experiments.py\u001b[m\n",
            "\n",
            "Untracked files:\n",
            "  (use \"git add <file>...\" to include in what will be committed)\n",
            "\n",
            "\t\u001b[31mmodel_a.pt\u001b[m\n",
            "\t\u001b[31mmodel_b.pt\u001b[m\n",
            "\n",
            "no changes added to commit (use \"git add\" and/or \"git commit -a\")\n"
          ]
        }
      ]
    }
  ],
  "metadata": {
    "colab": {
      "provenance": []
    },
    "kernelspec": {
      "display_name": "Python 3.9.13 ('base')",
      "language": "python",
      "name": "python3"
    },
    "language_info": {
      "codemirror_mode": {
        "name": "ipython",
        "version": 3
      },
      "file_extension": ".py",
      "mimetype": "text/x-python",
      "name": "python",
      "nbconvert_exporter": "python",
      "pygments_lexer": "ipython3",
      "version": "3.9.13"
    },
    "vscode": {
      "interpreter": {
        "hash": "533dc1b5f6751e9c738350df3cd1b0ef5f569dd461507537431de13a6c09381e"
      }
    },
    "accelerator": "GPU",
    "gpuClass": "standard"
  },
  "nbformat": 4,
  "nbformat_minor": 5
}