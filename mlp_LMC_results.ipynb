{
  "cells": [
    {
      "cell_type": "markdown",
      "id": "OHd3WZjq7pQB",
      "metadata": {
        "id": "OHd3WZjq7pQB"
      },
      "source": [
        "# Setup"
      ]
    },
    {
      "cell_type": "code",
      "execution_count": 1,
      "id": "fSdnaEXm8ad9",
      "metadata": {
        "colab": {
          "base_uri": "https://localhost:8080/"
        },
        "id": "fSdnaEXm8ad9",
        "outputId": "9629015f-21b7-4441-df01-417903baabb3"
      },
      "outputs": [
        {
          "output_type": "stream",
          "name": "stdout",
          "text": [
            "Sat Jan 14 19:21:45 2023       \n",
            "+-----------------------------------------------------------------------------+\n",
            "| NVIDIA-SMI 460.32.03    Driver Version: 460.32.03    CUDA Version: 11.2     |\n",
            "|-------------------------------+----------------------+----------------------+\n",
            "| GPU  Name        Persistence-M| Bus-Id        Disp.A | Volatile Uncorr. ECC |\n",
            "| Fan  Temp  Perf  Pwr:Usage/Cap|         Memory-Usage | GPU-Util  Compute M. |\n",
            "|                               |                      |               MIG M. |\n",
            "|===============================+======================+======================|\n",
            "|   0  Tesla T4            Off  | 00000000:00:04.0 Off |                    0 |\n",
            "| N/A   41C    P8     9W /  70W |      0MiB / 15109MiB |      0%      Default |\n",
            "|                               |                      |                  N/A |\n",
            "+-------------------------------+----------------------+----------------------+\n",
            "                                                                               \n",
            "+-----------------------------------------------------------------------------+\n",
            "| Processes:                                                                  |\n",
            "|  GPU   GI   CI        PID   Type   Process name                  GPU Memory |\n",
            "|        ID   ID                                                   Usage      |\n",
            "|=============================================================================|\n",
            "|  No running processes found                                                 |\n",
            "+-----------------------------------------------------------------------------+\n"
          ]
        }
      ],
      "source": [
        "# check GPU\n",
        "!nvidia-smi"
      ]
    },
    {
      "cell_type": "code",
      "execution_count": 2,
      "id": "999c2bc6",
      "metadata": {
        "colab": {
          "base_uri": "https://localhost:8080/"
        },
        "id": "999c2bc6",
        "outputId": "99c36474-3d21-4ab6-afab-db330a1f32fb"
      },
      "outputs": [
        {
          "output_type": "stream",
          "name": "stdout",
          "text": [
            "Cloning into 'mode_connectivity'...\n",
            "remote: Enumerating objects: 1002, done.\u001b[K\n",
            "remote: Counting objects: 100% (289/289), done.\u001b[K\n",
            "remote: Compressing objects: 100% (119/119), done.\u001b[K\n",
            "remote: Total 1002 (delta 188), reused 211 (delta 170), pack-reused 713\u001b[K\n",
            "Receiving objects: 100% (1002/1002), 38.23 MiB | 9.42 MiB/s, done.\n",
            "Resolving deltas: 100% (591/591), done.\n",
            "Already on 'main'\n",
            "Your branch is up to date with 'origin/main'.\n"
          ]
        }
      ],
      "source": [
        "# pulls repo to colab\n",
        "!git clone https://github.com/char-tan/mode_connectivity.git\n",
        "\n",
        "# checkout specific branch if needed\n",
        "!cd mode_connectivity; git checkout main"
      ]
    },
    {
      "cell_type": "code",
      "execution_count": 3,
      "id": "nhw2DqG-_8Vb",
      "metadata": {
        "id": "nhw2DqG-_8Vb"
      },
      "outputs": [],
      "source": [
        "# allows you to change the .py files and have the imports updated\n",
        "%load_ext autoreload\n",
        "%autoreload 2"
      ]
    },
    {
      "cell_type": "code",
      "execution_count": 4,
      "id": "fe1fb111",
      "metadata": {
        "id": "fe1fb111"
      },
      "outputs": [],
      "source": [
        "import sys, os\n",
        "SCRIPT_DIR = os.path.dirname(os.path.abspath('.'))\n",
        "sys.path.append(os.path.dirname(SCRIPT_DIR))\n",
        "\n",
        "sys.path.append(\"mode_connectivity\")\n",
        "\n",
        "from mode_connectivity.training import *\n",
        "from mode_connectivity.lmc import *\n",
        "from mode_connectivity.training_config import *\n",
        "\n",
        "from mode_connectivity.models.mlp import MLP\n",
        "from mode_connectivity.models.vgg import VGG\n",
        "from mode_connectivity.models.resnet import ResNet\n",
        "\n",
        "from mode_connectivity.utils import weight_matching, data, training_utils, plot, utils\n",
        "\n",
        "import torch\n",
        "from torchvision import transforms\n",
        "import copy\n",
        "from tqdm import tqdm\n",
        "import matplotlib.pyplot as plt\n",
        "import numpy as np"
      ]
    },
    {
      "cell_type": "markdown",
      "id": "dc779844",
      "metadata": {
        "id": "dc779844"
      },
      "source": [
        "# Training"
      ]
    },
    {
      "cell_type": "code",
      "execution_count": 6,
      "id": "6694778a",
      "metadata": {
        "colab": {
          "base_uri": "https://localhost:8080/"
        },
        "id": "6694778a",
        "outputId": "1b53b17f-53b5-4007-c5c9-dbbc0be80d78"
      },
      "outputs": [
        {
          "output_type": "stream",
          "name": "stdout",
          "text": [
            "Train Epoch: 1, Train Accuracy: (90%) \n",
            "Average loss: 0.1301, Accuracy: (96%)\n",
            "Train Epoch: 2, Train Accuracy: (97%) \n",
            "Average loss: 0.0942, Accuracy: (97%)\n",
            "Train Epoch: 3, Train Accuracy: (98%) \n",
            "Average loss: 0.0708, Accuracy: (98%)\n",
            "Train Epoch: 4, Train Accuracy: (99%) \n",
            "Average loss: 0.0864, Accuracy: (97%)\n",
            "Train Epoch: 5, Train Accuracy: (99%) \n",
            "Average loss: 0.0811, Accuracy: (97%)\n",
            "Train Epoch: 6, Train Accuracy: (99%) \n",
            "Average loss: 0.0794, Accuracy: (98%)\n",
            "Train Epoch: 7, Train Accuracy: (99%) \n",
            "Average loss: 0.0721, Accuracy: (98%)\n",
            "Train Epoch: 8, Train Accuracy: (99%) \n",
            "Average loss: 0.0732, Accuracy: (98%)\n",
            "Train Epoch: 9, Train Accuracy: (99%) \n",
            "Average loss: 0.0811, Accuracy: (98%)\n",
            "Train Epoch: 10, Train Accuracy: (99%) \n",
            "Average loss: 0.0778, Accuracy: (98%)\n",
            "Train Epoch: 1, Train Accuracy: (90%) \n",
            "Average loss: 0.1392, Accuracy: (96%)\n",
            "Train Epoch: 2, Train Accuracy: (97%) \n",
            "Average loss: 0.0911, Accuracy: (97%)\n",
            "Train Epoch: 3, Train Accuracy: (98%) \n",
            "Average loss: 0.0784, Accuracy: (98%)\n",
            "Train Epoch: 4, Train Accuracy: (98%) \n",
            "Average loss: 0.0707, Accuracy: (98%)\n",
            "Train Epoch: 5, Train Accuracy: (99%) \n",
            "Average loss: 0.0840, Accuracy: (98%)\n",
            "Train Epoch: 6, Train Accuracy: (99%) \n",
            "Average loss: 0.0713, Accuracy: (98%)\n",
            "Train Epoch: 7, Train Accuracy: (99%) \n",
            "Average loss: 0.0814, Accuracy: (98%)\n",
            "Train Epoch: 8, Train Accuracy: (99%) \n",
            "Average loss: 0.0892, Accuracy: (98%)\n",
            "Train Epoch: 9, Train Accuracy: (99%) \n",
            "Average loss: 0.0936, Accuracy: (98%)\n",
            "Train Epoch: 10, Train Accuracy: (99%) \n",
            "Average loss: 0.0868, Accuracy: (98%)\n"
          ]
        }
      ],
      "source": [
        "training_config = MLP_MNIST_DEFAULT\n",
        "training_config.epochs = 10\n",
        "training_config.seed = 7\n",
        "\n",
        "# train model a\n",
        "model_a = train_model(*setup_train(training_config), verbose = 1)\n",
        "torch.save(model_a.state_dict(), 'model_a.pt')\n",
        "\n",
        "# change seed to get different model\n",
        "training_config.seed = 42\n",
        "\n",
        "# train model b\n",
        "model_b = train_model(*setup_train(training_config), verbose = 1)\n",
        "torch.save(model_b.state_dict(), 'model_b.pt')  "
      ]
    },
    {
      "cell_type": "markdown",
      "id": "u1WMQgF68xZA",
      "metadata": {
        "id": "u1WMQgF68xZA"
      },
      "source": [
        "# LMC"
      ]
    },
    {
      "cell_type": "code",
      "execution_count": 10,
      "id": "c4151e8c",
      "metadata": {
        "colab": {
          "base_uri": "https://localhost:8080/"
        },
        "id": "c4151e8c",
        "outputId": "6d8d613b-8e65-41d4-d5cc-2cb08120105d"
      },
      "outputs": [
        {
          "output_type": "stream",
          "name": "stdout",
          "text": [
            "\n",
            "performing naive interpolation\n"
          ]
        },
        {
          "output_type": "stream",
          "name": "stderr",
          "text": [
            "\r  0%|          | 0/20 [00:00<?, ?it/s]"
          ]
        },
        {
          "output_type": "stream",
          "name": "stdout",
          "text": [
            "Average loss: 0.0121, Accuracy: (100%)\n"
          ]
        },
        {
          "output_type": "stream",
          "name": "stderr",
          "text": [
            "\r  5%|▌         | 1/20 [00:11<03:46, 11.91s/it]"
          ]
        },
        {
          "output_type": "stream",
          "name": "stdout",
          "text": [
            "Average loss: 0.0778, Accuracy: (98%)\n",
            "point 1/20. lam = 0.0, train loss = 0.012114213720957438, test loss = 0.07779785842895508\n",
            "Average loss: 0.0150, Accuracy: (100%)\n"
          ]
        },
        {
          "output_type": "stream",
          "name": "stderr",
          "text": [
            "\r 10%|█         | 2/20 [00:23<03:33, 11.88s/it]"
          ]
        },
        {
          "output_type": "stream",
          "name": "stdout",
          "text": [
            "Average loss: 0.0684, Accuracy: (98%)\n",
            "point 2/20. lam = 0.05263157933950424, train loss = 0.014956254736582438, test loss = 0.06838651275634766\n",
            "Average loss: 0.0232, Accuracy: (100%)\n"
          ]
        },
        {
          "output_type": "stream",
          "name": "stderr",
          "text": [
            "\r 15%|█▌        | 3/20 [00:35<03:20, 11.79s/it]"
          ]
        },
        {
          "output_type": "stream",
          "name": "stdout",
          "text": [
            "Average loss: 0.0670, Accuracy: (98%)\n",
            "point 3/20. lam = 0.10526315867900848, train loss = 0.02323101234436035, test loss = 0.06699419250488281\n",
            "Average loss: 0.0448, Accuracy: (99%)\n"
          ]
        },
        {
          "output_type": "stream",
          "name": "stderr",
          "text": [
            "\r 20%|██        | 4/20 [00:47<03:07, 11.75s/it]"
          ]
        },
        {
          "output_type": "stream",
          "name": "stdout",
          "text": [
            "Average loss: 0.0804, Accuracy: (98%)\n",
            "point 4/20. lam = 0.15789473056793213, train loss = 0.044757090504964195, test loss = 0.0803874481201172\n",
            "Average loss: 0.0985, Accuracy: (99%)\n"
          ]
        },
        {
          "output_type": "stream",
          "name": "stderr",
          "text": [
            "\r 25%|██▌       | 5/20 [00:58<02:56, 11.75s/it]"
          ]
        },
        {
          "output_type": "stream",
          "name": "stdout",
          "text": [
            "Average loss: 0.1266, Accuracy: (98%)\n",
            "point 5/20. lam = 0.21052631735801697, train loss = 0.09851376139322916, test loss = 0.12657018890380858\n",
            "Average loss: 0.2202, Accuracy: (99%)\n"
          ]
        },
        {
          "output_type": "stream",
          "name": "stderr",
          "text": [
            "\r 30%|███       | 6/20 [01:10<02:44, 11.75s/it]"
          ]
        },
        {
          "output_type": "stream",
          "name": "stdout",
          "text": [
            "Average loss: 0.2408, Accuracy: (97%)\n",
            "point 6/20. lam = 0.2631579041481018, train loss = 0.2202243398030599, test loss = 0.24077186584472657\n",
            "Average loss: 0.4465, Accuracy: (98%)\n"
          ]
        },
        {
          "output_type": "stream",
          "name": "stderr",
          "text": [
            "\r 35%|███▌      | 7/20 [01:23<02:36, 12.00s/it]"
          ]
        },
        {
          "output_type": "stream",
          "name": "stdout",
          "text": [
            "Average loss: 0.4606, Accuracy: (97%)\n",
            "point 7/20. lam = 0.31578946113586426, train loss = 0.44651542561848956, test loss = 0.4605854370117187\n",
            "Average loss: 0.7642, Accuracy: (97%)\n"
          ]
        },
        {
          "output_type": "stream",
          "name": "stderr",
          "text": [
            "\r 40%|████      | 8/20 [01:34<02:22, 11.87s/it]"
          ]
        },
        {
          "output_type": "stream",
          "name": "stdout",
          "text": [
            "Average loss: 0.7732, Accuracy: (96%)\n",
            "point 8/20. lam = 0.3684210479259491, train loss = 0.7641924641927084, test loss = 0.7732403686523438\n",
            "Average loss: 1.0804, Accuracy: (94%)\n"
          ]
        },
        {
          "output_type": "stream",
          "name": "stderr",
          "text": [
            "\r 45%|████▌     | 9/20 [01:46<02:08, 11.71s/it]"
          ]
        },
        {
          "output_type": "stream",
          "name": "stdout",
          "text": [
            "Average loss: 1.0851, Accuracy: (93%)\n",
            "point 9/20. lam = 0.42105263471603394, train loss = 1.0804134114583333, test loss = 1.0851455932617187\n",
            "Average loss: 1.2716, Accuracy: (90%)\n"
          ]
        },
        {
          "output_type": "stream",
          "name": "stderr",
          "text": [
            "\r 50%|█████     | 10/20 [01:57<01:56, 11.64s/it]"
          ]
        },
        {
          "output_type": "stream",
          "name": "stdout",
          "text": [
            "Average loss: 1.2729, Accuracy: (89%)\n",
            "point 10/20. lam = 0.4736842215061188, train loss = 1.2715779174804687, test loss = 1.2729312255859375\n",
            "Average loss: 1.2538, Accuracy: (91%)\n"
          ]
        },
        {
          "output_type": "stream",
          "name": "stderr",
          "text": [
            "\r 55%|█████▌    | 11/20 [02:09<01:44, 11.60s/it]"
          ]
        },
        {
          "output_type": "stream",
          "name": "stdout",
          "text": [
            "Average loss: 1.2540, Accuracy: (91%)\n",
            "point 11/20. lam = 0.5263158082962036, train loss = 1.2538445841471355, test loss = 1.2540463623046876\n",
            "Average loss: 1.0333, Accuracy: (95%)\n"
          ]
        },
        {
          "output_type": "stream",
          "name": "stderr",
          "text": [
            "\r 60%|██████    | 12/20 [02:20<01:32, 11.61s/it]"
          ]
        },
        {
          "output_type": "stream",
          "name": "stdout",
          "text": [
            "Average loss: 1.0365, Accuracy: (94%)\n",
            "point 12/20. lam = 0.5789473652839661, train loss = 1.0333264892578125, test loss = 1.0365122314453126\n",
            "Average loss: 0.7021, Accuracy: (97%)\n"
          ]
        },
        {
          "output_type": "stream",
          "name": "stderr",
          "text": [
            "\r 65%|██████▌   | 13/20 [02:32<01:20, 11.52s/it]"
          ]
        },
        {
          "output_type": "stream",
          "name": "stdout",
          "text": [
            "Average loss: 0.7127, Accuracy: (96%)\n",
            "point 13/20. lam = 0.6315789222717285, train loss = 0.7020847717285156, test loss = 0.7126624145507813\n",
            "Average loss: 0.3915, Accuracy: (98%)\n"
          ]
        },
        {
          "output_type": "stream",
          "name": "stderr",
          "text": [
            "\r 70%|███████   | 14/20 [02:43<01:08, 11.48s/it]"
          ]
        },
        {
          "output_type": "stream",
          "name": "stdout",
          "text": [
            "Average loss: 0.4115, Accuracy: (97%)\n",
            "point 14/20. lam = 0.6842105388641357, train loss = 0.3915018341064453, test loss = 0.41147821655273437\n",
            "Average loss: 0.1862, Accuracy: (99%)\n"
          ]
        },
        {
          "output_type": "stream",
          "name": "stderr",
          "text": [
            "\r 75%|███████▌  | 15/20 [02:54<00:57, 11.46s/it]"
          ]
        },
        {
          "output_type": "stream",
          "name": "stdout",
          "text": [
            "Average loss: 0.2147, Accuracy: (97%)\n",
            "point 15/20. lam = 0.7368420958518982, train loss = 0.18615200449625652, test loss = 0.21473290405273437\n",
            "Average loss: 0.0828, Accuracy: (99%)\n"
          ]
        },
        {
          "output_type": "stream",
          "name": "stderr",
          "text": [
            "\r 80%|████████  | 16/20 [03:06<00:46, 11.54s/it]"
          ]
        },
        {
          "output_type": "stream",
          "name": "stdout",
          "text": [
            "Average loss: 0.1183, Accuracy: (98%)\n",
            "point 16/20. lam = 0.7894736528396606, train loss = 0.08277079442342122, test loss = 0.11825478820800782\n",
            "Average loss: 0.0389, Accuracy: (99%)\n"
          ]
        },
        {
          "output_type": "stream",
          "name": "stderr",
          "text": [
            "\r 85%|████████▌ | 17/20 [03:18<00:34, 11.51s/it]"
          ]
        },
        {
          "output_type": "stream",
          "name": "stdout",
          "text": [
            "Average loss: 0.0810, Accuracy: (98%)\n",
            "point 17/20. lam = 0.8421052694320679, train loss = 0.03894484977722168, test loss = 0.08095183639526367\n",
            "Average loss: 0.0220, Accuracy: (99%)\n"
          ]
        },
        {
          "output_type": "stream",
          "name": "stderr",
          "text": [
            "\r 90%|█████████ | 18/20 [03:29<00:23, 11.53s/it]"
          ]
        },
        {
          "output_type": "stream",
          "name": "stdout",
          "text": [
            "Average loss: 0.0715, Accuracy: (98%)\n",
            "point 18/20. lam = 0.8947368264198303, train loss = 0.02195169868469238, test loss = 0.07153456954956054\n",
            "Average loss: 0.0162, Accuracy: (99%)\n"
          ]
        },
        {
          "output_type": "stream",
          "name": "stderr",
          "text": [
            "\r 95%|█████████▌| 19/20 [03:41<00:11, 11.51s/it]"
          ]
        },
        {
          "output_type": "stream",
          "name": "stdout",
          "text": [
            "Average loss: 0.0750, Accuracy: (98%)\n",
            "point 19/20. lam = 0.9473684430122375, train loss = 0.016154358037312827, test loss = 0.07502334365844726\n",
            "Average loss: 0.0156, Accuracy: (99%)\n"
          ]
        },
        {
          "output_type": "stream",
          "name": "stderr",
          "text": [
            "100%|██████████| 20/20 [03:52<00:00, 11.63s/it]"
          ]
        },
        {
          "output_type": "stream",
          "name": "stdout",
          "text": [
            "Average loss: 0.0868, Accuracy: (98%)\n",
            "point 20/20. lam = 1.0, train loss = 0.015551488049825032, test loss = 0.08681171035766602\n",
            "\n",
            "permuting model\n",
            "iteration 0 P_1: progress 55.32993698120117\n",
            "iteration 0 P_2: progress 19.304779052734375\n",
            "iteration 0 P_0: progress 115.89991760253906\n",
            "iteration 1 P_0: progress 0.0\n",
            "iteration 1 P_2: progress 0.0\n"
          ]
        },
        {
          "output_type": "stream",
          "name": "stderr",
          "text": [
            "\n"
          ]
        },
        {
          "output_type": "stream",
          "name": "stdout",
          "text": [
            "iteration 1 P_1: progress 52.476524353027344\n",
            "iteration 2 P_1: progress 0.0\n",
            "iteration 2 P_0: progress 7.0185546875\n",
            "iteration 2 P_2: progress 28.850433349609375\n",
            "iteration 3 P_0: progress 0.0\n",
            "iteration 3 P_2: progress 0.0\n",
            "iteration 3 P_1: progress 8.782196044921875\n",
            "iteration 4 P_0: progress 1.232208251953125\n",
            "iteration 4 P_1: progress 0.5490570068359375\n",
            "iteration 4 P_2: progress 6.74786376953125\n",
            "iteration 5 P_0: progress 0.1798553466796875\n",
            "iteration 5 P_1: progress 0.729339599609375\n",
            "iteration 5 P_2: progress 0.8659744262695312\n",
            "iteration 6 P_2: progress 0.0\n",
            "iteration 6 P_1: progress 0.193634033203125\n",
            "iteration 6 P_0: progress 0.215057373046875\n",
            "iteration 7 P_0: progress 0.0\n",
            "iteration 7 P_1: progress 0.0587615966796875\n",
            "iteration 7 P_2: progress 0.4488983154296875\n",
            "iteration 8 P_0: progress 0.01470947265625\n",
            "iteration 8 P_1: progress 0.023895263671875\n",
            "iteration 8 P_2: progress 0.1148681640625\n",
            "iteration 9 P_2: progress 0.0\n",
            "iteration 9 P_0: progress 0.0032196044921875\n",
            "iteration 9 P_1: progress 0.0714111328125\n",
            "iteration 10 P_1: progress 0.0\n",
            "iteration 10 P_0: progress 0.0161895751953125\n",
            "iteration 10 P_2: progress 0.09930419921875\n",
            "iteration 11 P_1: progress 0.00762939453125\n",
            "iteration 11 P_0: progress 0.0074462890625\n",
            "iteration 11 P_2: progress 0.12850189208984375\n",
            "iteration 12 P_2: progress 0.0\n",
            "iteration 12 P_1: progress 0.0297698974609375\n",
            "iteration 12 P_0: progress 0.0121002197265625\n",
            "iteration 13 P_0: progress 0.0\n",
            "iteration 13 P_2: progress 0.02048492431640625\n",
            "iteration 13 P_1: progress 0.0\n",
            "iteration 14 P_2: progress 0.0\n",
            "iteration 14 P_0: progress 0.0\n",
            "iteration 14 P_1: progress 0.0\n",
            "\n",
            "performing permuted interpolation\n"
          ]
        },
        {
          "output_type": "stream",
          "name": "stderr",
          "text": [
            "\r  0%|          | 0/20 [00:00<?, ?it/s]"
          ]
        },
        {
          "output_type": "stream",
          "name": "stdout",
          "text": [
            "Average loss: 0.0121, Accuracy: (100%)\n"
          ]
        },
        {
          "output_type": "stream",
          "name": "stderr",
          "text": [
            "\r  5%|▌         | 1/20 [00:12<03:49, 12.07s/it]"
          ]
        },
        {
          "output_type": "stream",
          "name": "stdout",
          "text": [
            "Average loss: 0.0778, Accuracy: (98%)\n",
            "point 1/20. lam = 0.0, train loss = 0.012114213720957438, test loss = 0.07779785842895508\n",
            "Average loss: 0.0113, Accuracy: (100%)\n"
          ]
        },
        {
          "output_type": "stream",
          "name": "stderr",
          "text": [
            "\r 10%|█         | 2/20 [00:23<03:31, 11.76s/it]"
          ]
        },
        {
          "output_type": "stream",
          "name": "stdout",
          "text": [
            "Average loss: 0.0719, Accuracy: (98%)\n",
            "point 2/20. lam = 0.05263157933950424, train loss = 0.011288798554738362, test loss = 0.07193320846557617\n",
            "Average loss: 0.0110, Accuracy: (100%)\n"
          ]
        },
        {
          "output_type": "stream",
          "name": "stderr",
          "text": [
            "\r 15%|█▌        | 3/20 [00:35<03:17, 11.63s/it]"
          ]
        },
        {
          "output_type": "stream",
          "name": "stdout",
          "text": [
            "Average loss: 0.0673, Accuracy: (98%)\n",
            "point 3/20. lam = 0.10526315867900848, train loss = 0.011020974445343017, test loss = 0.06730995788574219\n",
            "Average loss: 0.0112, Accuracy: (100%)\n"
          ]
        },
        {
          "output_type": "stream",
          "name": "stderr",
          "text": [
            "\r 20%|██        | 4/20 [00:46<03:03, 11.48s/it]"
          ]
        },
        {
          "output_type": "stream",
          "name": "stdout",
          "text": [
            "Average loss: 0.0638, Accuracy: (98%)\n",
            "point 4/20. lam = 0.15789473056793213, train loss = 0.011239524332682292, test loss = 0.06379631881713867\n",
            "Average loss: 0.0119, Accuracy: (100%)\n"
          ]
        },
        {
          "output_type": "stream",
          "name": "stderr",
          "text": [
            "\r 25%|██▌       | 5/20 [00:57<02:50, 11.37s/it]"
          ]
        },
        {
          "output_type": "stream",
          "name": "stdout",
          "text": [
            "Average loss: 0.0614, Accuracy: (98%)\n",
            "point 5/20. lam = 0.21052631735801697, train loss = 0.011862649917602539, test loss = 0.06137152709960938\n",
            "Average loss: 0.0128, Accuracy: (100%)\n"
          ]
        },
        {
          "output_type": "stream",
          "name": "stderr",
          "text": [
            "\r 30%|███       | 6/20 [01:08<02:37, 11.27s/it]"
          ]
        },
        {
          "output_type": "stream",
          "name": "stdout",
          "text": [
            "Average loss: 0.0598, Accuracy: (98%)\n",
            "point 6/20. lam = 0.2631579041481018, train loss = 0.012767449760437012, test loss = 0.059836766815185544\n",
            "Average loss: 0.0138, Accuracy: (100%)\n"
          ]
        },
        {
          "output_type": "stream",
          "name": "stderr",
          "text": [
            "\r 35%|███▌      | 7/20 [01:20<02:27, 11.34s/it]"
          ]
        },
        {
          "output_type": "stream",
          "name": "stdout",
          "text": [
            "Average loss: 0.0590, Accuracy: (98%)\n",
            "point 7/20. lam = 0.31578946113586426, train loss = 0.013800198332468669, test loss = 0.059042738342285156\n",
            "Average loss: 0.0148, Accuracy: (100%)\n"
          ]
        },
        {
          "output_type": "stream",
          "name": "stderr",
          "text": [
            "\r 40%|████      | 8/20 [01:31<02:16, 11.41s/it]"
          ]
        },
        {
          "output_type": "stream",
          "name": "stdout",
          "text": [
            "Average loss: 0.0588, Accuracy: (98%)\n",
            "point 8/20. lam = 0.3684210479259491, train loss = 0.014779967180887858, test loss = 0.05878398742675781\n",
            "Average loss: 0.0155, Accuracy: (100%)\n"
          ]
        },
        {
          "output_type": "stream",
          "name": "stderr",
          "text": [
            "\r 45%|████▌     | 9/20 [01:43<02:06, 11.49s/it]"
          ]
        },
        {
          "output_type": "stream",
          "name": "stdout",
          "text": [
            "Average loss: 0.0590, Accuracy: (98%)\n",
            "point 9/20. lam = 0.42105263471603394, train loss = 0.015541853141784669, test loss = 0.058991439056396484\n",
            "Average loss: 0.0159, Accuracy: (100%)\n"
          ]
        },
        {
          "output_type": "stream",
          "name": "stderr",
          "text": [
            "\r 50%|█████     | 10/20 [01:54<01:55, 11.55s/it]"
          ]
        },
        {
          "output_type": "stream",
          "name": "stdout",
          "text": [
            "Average loss: 0.0594, Accuracy: (98%)\n",
            "point 10/20. lam = 0.4736842215061188, train loss = 0.015948631540934243, test loss = 0.059381369781494144\n",
            "Average loss: 0.0159, Accuracy: (100%)\n"
          ]
        },
        {
          "output_type": "stream",
          "name": "stderr",
          "text": [
            "\r 55%|█████▌    | 11/20 [02:06<01:44, 11.62s/it]"
          ]
        },
        {
          "output_type": "stream",
          "name": "stdout",
          "text": [
            "Average loss: 0.0599, Accuracy: (98%)\n",
            "point 11/20. lam = 0.5263158082962036, train loss = 0.01589630610148112, test loss = 0.05985619277954102\n",
            "Average loss: 0.0154, Accuracy: (100%)\n"
          ]
        },
        {
          "output_type": "stream",
          "name": "stderr",
          "text": [
            "\r 60%|██████    | 12/20 [02:18<01:33, 11.63s/it]"
          ]
        },
        {
          "output_type": "stream",
          "name": "stdout",
          "text": [
            "Average loss: 0.0604, Accuracy: (98%)\n",
            "point 12/20. lam = 0.5789473652839661, train loss = 0.015397860018412273, test loss = 0.060420584869384765\n",
            "Average loss: 0.0146, Accuracy: (100%)\n"
          ]
        },
        {
          "output_type": "stream",
          "name": "stderr",
          "text": [
            "\r 65%|██████▌   | 13/20 [02:29<01:21, 11.62s/it]"
          ]
        },
        {
          "output_type": "stream",
          "name": "stdout",
          "text": [
            "Average loss: 0.0610, Accuracy: (98%)\n",
            "point 13/20. lam = 0.6315789222717285, train loss = 0.01456061134338379, test loss = 0.061039244842529296\n",
            "Average loss: 0.0136, Accuracy: (100%)\n"
          ]
        },
        {
          "output_type": "stream",
          "name": "stderr",
          "text": [
            "\r 70%|███████   | 14/20 [02:41<01:09, 11.61s/it]"
          ]
        },
        {
          "output_type": "stream",
          "name": "stdout",
          "text": [
            "Average loss: 0.0619, Accuracy: (98%)\n",
            "point 14/20. lam = 0.6842105388641357, train loss = 0.01357810427347819, test loss = 0.06191634521484375\n",
            "Average loss: 0.0127, Accuracy: (100%)\n"
          ]
        },
        {
          "output_type": "stream",
          "name": "stderr",
          "text": [
            "\r 75%|███████▌  | 15/20 [02:53<00:58, 11.78s/it]"
          ]
        },
        {
          "output_type": "stream",
          "name": "stdout",
          "text": [
            "Average loss: 0.0633, Accuracy: (98%)\n",
            "point 15/20. lam = 0.7368420958518982, train loss = 0.012667367394765218, test loss = 0.06329855041503907\n",
            "Average loss: 0.0120, Accuracy: (100%)\n"
          ]
        },
        {
          "output_type": "stream",
          "name": "stderr",
          "text": [
            "\r 80%|████████  | 16/20 [03:05<00:47, 11.76s/it]"
          ]
        },
        {
          "output_type": "stream",
          "name": "stdout",
          "text": [
            "Average loss: 0.0654, Accuracy: (98%)\n",
            "point 16/20. lam = 0.7894736528396606, train loss = 0.012014726924896241, test loss = 0.06539159927368164\n",
            "Average loss: 0.0118, Accuracy: (100%)\n"
          ]
        },
        {
          "output_type": "stream",
          "name": "stderr",
          "text": [
            "\r 85%|████████▌ | 17/20 [03:17<00:35, 11.76s/it]"
          ]
        },
        {
          "output_type": "stream",
          "name": "stdout",
          "text": [
            "Average loss: 0.0684, Accuracy: (98%)\n",
            "point 17/20. lam = 0.8421052694320679, train loss = 0.011773567644755045, test loss = 0.06842026138305664\n",
            "Average loss: 0.0121, Accuracy: (100%)\n"
          ]
        },
        {
          "output_type": "stream",
          "name": "stderr",
          "text": [
            "\r 90%|█████████ | 18/20 [03:29<00:23, 11.77s/it]"
          ]
        },
        {
          "output_type": "stream",
          "name": "stdout",
          "text": [
            "Average loss: 0.0728, Accuracy: (98%)\n",
            "point 18/20. lam = 0.8947368264198303, train loss = 0.012117343425750732, test loss = 0.07279180603027344\n",
            "Average loss: 0.0133, Accuracy: (100%)\n"
          ]
        },
        {
          "output_type": "stream",
          "name": "stderr",
          "text": [
            "\r 95%|█████████▌| 19/20 [03:40<00:11, 11.78s/it]"
          ]
        },
        {
          "output_type": "stream",
          "name": "stdout",
          "text": [
            "Average loss: 0.0788, Accuracy: (98%)\n",
            "point 19/20. lam = 0.9473684430122375, train loss = 0.013273764769236246, test loss = 0.07879379043579102\n",
            "Average loss: 0.0156, Accuracy: (99%)\n"
          ]
        },
        {
          "output_type": "stream",
          "name": "stderr",
          "text": [
            "100%|██████████| 20/20 [03:52<00:00, 11.64s/it]"
          ]
        },
        {
          "output_type": "stream",
          "name": "stdout",
          "text": [
            "Average loss: 0.0868, Accuracy: (98%)\n",
            "point 20/20. lam = 1.0, train loss = 0.015551488176981609, test loss = 0.08681171264648438\n",
            "[99.57666666666667, 99.54166666666667, 99.51166666666667, 99.41333333333333, 99.23166666666667, 98.935, 98.31833333333333, 96.91166666666666, 93.94166666666666, 90.36666666666666, 91.08666666666667, 94.765, 97.12333333333333, 98.33166666666666, 98.94166666666666, 99.25833333333334, 99.425, 99.48166666666667, 99.49166666666666, 99.48666666666666]\n",
            "[97.94, 97.97, 97.9, 97.91, 97.74, 97.45, 96.97, 95.75, 92.81, 89.43, 90.6, 93.71, 95.74, 96.82, 97.28, 97.52, 97.63, 97.79, 97.88, 97.93]\n",
            "[99.57666666666667, 99.54166666666667, 99.51166666666667, 99.41333333333333, 99.23166666666667, 98.935, 98.31833333333333, 96.91166666666666, 93.94166666666666, 90.36666666666666, 91.08666666666667, 94.765, 97.12333333333333, 98.33166666666666, 98.94166666666666, 99.25833333333334, 99.425, 99.48166666666667, 99.49166666666666, 99.48666666666666]\n",
            "[97.94, 97.97, 97.9, 97.91, 97.74, 97.45, 96.97, 95.75, 92.81, 89.43, 90.6, 93.71, 95.74, 96.82, 97.28, 97.52, 97.63, 97.79, 97.88, 97.93]\n"
          ]
        },
        {
          "output_type": "stream",
          "name": "stderr",
          "text": [
            "\n"
          ]
        }
      ],
      "source": [
        "# n_points = 20\n",
        "# (\n",
        "#     permuted_params,\n",
        "#     train_acc_naive,\n",
        "#     test_acc_naive,\n",
        "#     train_acc_perm,\n",
        "#     test_acc_perm,\n",
        "# ) = linear_mode_connect(\n",
        "#     MLP, \"model_a.pt\", \"model_b.pt\", \"mnist\", n_points=n_points, verbose=2\n",
        "# )\n",
        "\n",
        "print(train_acc_naive)\n",
        "print(test_acc_naive)\n",
        "print(train_acc_perm)\n",
        "print(test_acc_perm)"
      ]
    },
    {
      "cell_type": "code",
      "execution_count": 11,
      "id": "da0aafdf",
      "metadata": {
        "id": "da0aafdf",
        "outputId": "45606075-0de2-4c73-ac42-802605d26c0c",
        "colab": {
          "base_uri": "https://localhost:8080/",
          "height": 577
        }
      },
      "outputs": [
        {
          "output_type": "execute_result",
          "data": {
            "text/plain": [
              "<Figure size 432x288 with 1 Axes>"
            ],
            "image/png": "[encoded data removed]"
          },
          "metadata": {},
          "execution_count": 11
        },
        {
          "output_type": "display_data",
          "data": {
            "text/plain": [
              "<Figure size 432x288 with 1 Axes>"
            ],
            "image/png": "[encoded data removed]"
          },
          "metadata": {
            "needs_background": "light"
          }
        }
      ],
      "source": [
        "# First we do the basic linear interpolation plot\n",
        "lambdas = torch.linspace(0, 1, steps=n_points)\n",
        "plot.plot_interp_metric(\"accuracy\", lambdas, train_acc_naive, test_acc_naive, train_acc_perm, test_acc_perm)"
      ]
    },
    {
      "cell_type": "code",
      "execution_count": 13,
      "id": "3fb4e95c",
      "metadata": {
        "id": "3fb4e95c",
        "outputId": "3850e25b-49bb-4c90-d1aa-4df1617c418c",
        "colab": {
          "base_uri": "https://localhost:8080/"
        }
      },
      "outputs": [
        {
          "output_type": "stream",
          "name": "stderr",
          "text": [
            "11it [20:49, 113.58s/it]\n"
          ]
        }
      ],
      "source": [
        "# Now we generate the contour plot\n",
        "a_params = torch.load(\"model_a.pt\") \n",
        "b_params = torch.load(\"model_b.pt\") \n",
        "v1, v2, v3 = (\n",
        "    utils.state_dict_to_numpy_array(p) for p in [a_params, b_params, permuted_params]\n",
        ")\n",
        "contour_plane = utils.generate_orthogonal_basis(v1, v2, v3)\n",
        "train_loader, test_loader = data.get_data_loaders(\n",
        "    dataset=\"mnist\", train_kwargs={\"batch_size\":512}, test_kwargs={\"batch_size\":512}\n",
        ")\n",
        "device, _ = get_device()\n",
        "(\n",
        "    t1s,\n",
        "    t2s,\n",
        "    test_acc_grid,\n",
        "    test_loss_grid,\n",
        "    train_acc_grid,\n",
        "    train_loss_grid,\n",
        ") = utils.generate_loss_landscape_contour(\n",
        "    model_a, device, train_loader, test_loader, contour_plane, granularity=10,\n",
        ")\n"
      ]
    },
    {
      "cell_type": "code",
      "execution_count": 15,
      "id": "8bf3aa96",
      "metadata": {
        "id": "8bf3aa96",
        "outputId": "80db6d1c-1701-4844-ed79-fe20e10620ba",
        "colab": {
          "base_uri": "https://localhost:8080/",
          "height": 486
        }
      },
      "outputs": [
        {
          "output_type": "display_data",
          "data": {
            "text/plain": [
              "<Figure size 600x500 with 2 Axes>"
            ],
            "image/png": "[encoded data removed]"
          },
          "metadata": {}
        }
      ],
      "source": [
        "plot.plot_metric_contour(\n",
        "    \"accuracy\",\n",
        "    t1s,\n",
        "    t2s,\n",
        "    test_acc_grid,\n",
        "    model_vectors_dict={\n",
        "        \"A\": utils.projection(v1, contour_plane),\n",
        "        \"B\": utils.projection(v2, contour_plane),\n",
        "        \"B permuted\": utils.projection(v3, contour_plane),\n",
        "    },\n",
        ")\n"
      ]
    },
    {
      "cell_type": "code",
      "execution_count": null,
      "id": "1c5bacd8",
      "metadata": {
        "id": "1c5bacd8"
      },
      "outputs": [],
      "source": []
    },
    {
      "cell_type": "code",
      "source": [
        "print(train_acc_naive)\n",
        "print(test_acc_naive)\n",
        "print(train_acc_perm)\n",
        "print(test_acc_perm)"
      ],
      "metadata": {
        "id": "bLwXUiVp3Qux",
        "outputId": "631f1816-f61d-4d9b-ea51-738ce6be3158",
        "colab": {
          "base_uri": "https://localhost:8080/"
        }
      },
      "id": "bLwXUiVp3Qux",
      "execution_count": 14,
      "outputs": [
        {
          "output_type": "stream",
          "name": "stdout",
          "text": [
            "[99.57666666666667, 99.54166666666667, 99.51166666666667, 99.41333333333333, 99.23166666666667, 98.935, 98.31833333333333, 96.91166666666666, 93.94166666666666, 90.36666666666666, 91.08666666666667, 94.765, 97.12333333333333, 98.33166666666666, 98.94166666666666, 99.25833333333334, 99.425, 99.48166666666667, 99.49166666666666, 99.48666666666666]\n",
            "[97.94, 97.97, 97.9, 97.91, 97.74, 97.45, 96.97, 95.75, 92.81, 89.43, 90.6, 93.71, 95.74, 96.82, 97.28, 97.52, 97.63, 97.79, 97.88, 97.93]\n",
            "[99.57666666666667, 99.61666666666666, 99.65833333333333, 99.67166666666667, 99.69666666666667, 99.68333333333334, 99.67166666666667, 99.63666666666667, 99.61666666666666, 99.61, 99.59666666666666, 99.61333333333333, 99.63333333333334, 99.64333333333333, 99.64833333333333, 99.65666666666667, 99.65, 99.61, 99.55166666666666, 99.48666666666666]\n",
            "[97.94, 98.08, 98.15, 98.19, 98.24, 98.26, 98.29, 98.27, 98.21, 98.21, 98.16, 98.17, 98.18, 98.15, 98.08, 98.08, 98.09, 98.08, 98.03, 97.93]\n"
          ]
        }
      ]
    }
  ],
  "metadata": {
    "accelerator": "GPU",
    "colab": {
      "provenance": []
    },
    "gpuClass": "standard",
    "kernelspec": {
      "display_name": "Python 3.9.13 ('base')",
      "language": "python",
      "name": "python3"
    },
    "language_info": {
      "codemirror_mode": {
        "name": "ipython",
        "version": 3
      },
      "file_extension": ".py",
      "mimetype": "text/x-python",
      "name": "python",
      "nbconvert_exporter": "python",
      "pygments_lexer": "ipython3",
      "version": "3.9.13"
    },
    "vscode": {
      "interpreter": {
        "hash": "533dc1b5f6751e9c738350df3cd1b0ef5f569dd461507537431de13a6c09381e"
      }
    }
  },
  "nbformat": 4,
  "nbformat_minor": 5
}