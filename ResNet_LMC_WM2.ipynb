{
 "cells": [
  {
   "cell_type": "markdown",
   "id": "OHd3WZjq7pQB",
   "metadata": {
    "id": "OHd3WZjq7pQB"
   },
   "source": [
    "# Setup"
   ]
  },
  {
   "cell_type": "code",
   "execution_count": 1,
   "id": "fSdnaEXm8ad9",
   "metadata": {
    "colab": {
     "base_uri": "https://localhost:8080/"
    },
    "id": "fSdnaEXm8ad9",
    "outputId": "77e661bf-b041-444f-da70-836449cd6656"
   },
   "outputs": [
    {
     "name": "stdout",
     "output_type": "stream",
     "text": [
      "Sat Jan 14 17:31:29 2023       \n",
      "+-----------------------------------------------------------------------------+\n",
      "| NVIDIA-SMI 460.32.03    Driver Version: 460.32.03    CUDA Version: 11.2     |\n",
      "|-------------------------------+----------------------+----------------------+\n",
      "| GPU  Name        Persistence-M| Bus-Id        Disp.A | Volatile Uncorr. ECC |\n",
      "| Fan  Temp  Perf  Pwr:Usage/Cap|         Memory-Usage | GPU-Util  Compute M. |\n",
      "|                               |                      |               MIG M. |\n",
      "|===============================+======================+======================|\n",
      "|   0  Tesla T4            Off  | 00000000:00:04.0 Off |                    0 |\n",
      "| N/A   39C    P8     9W /  70W |      0MiB / 15109MiB |      0%      Default |\n",
      "|                               |                      |                  N/A |\n",
      "+-------------------------------+----------------------+----------------------+\n",
      "                                                                               \n",
      "+-----------------------------------------------------------------------------+\n",
      "| Processes:                                                                  |\n",
      "|  GPU   GI   CI        PID   Type   Process name                  GPU Memory |\n",
      "|        ID   ID                                                   Usage      |\n",
      "|=============================================================================|\n",
      "|  No running processes found                                                 |\n",
      "+-----------------------------------------------------------------------------+\n"
     ]
    }
   ],
   "source": [
    "# check GPU\n",
    "!nvidia-smi"
   ]
  },
  {
   "cell_type": "code",
   "execution_count": 2,
   "id": "999c2bc6",
   "metadata": {
    "colab": {
     "base_uri": "https://localhost:8080/"
    },
    "id": "999c2bc6",
    "outputId": "cee6c937-0d9f-4691-ee28-358b099a1148"
   },
   "outputs": [
    {
     "name": "stdout",
     "output_type": "stream",
     "text": [
      "Cloning into 'mode_connectivity'...\n",
      "remote: Enumerating objects: 961, done.\u001b[K\n",
      "remote: Counting objects: 100% (171/171), done.\u001b[K\n",
      "remote: Compressing objects: 100% (84/84), done.\u001b[K\n",
      "remote: Total 961 (delta 97), reused 104 (delta 87), pack-reused 790\u001b[K\n",
      "Receiving objects: 100% (961/961), 37.54 MiB | 26.42 MiB/s, done.\n",
      "Resolving deltas: 100% (575/575), done.\n",
      "Branch 'resnet_perm_spec' set up to track remote branch 'resnet_perm_spec' from 'origin'.\n",
      "Switched to a new branch 'resnet_perm_spec'\n"
     ]
    }
   ],
   "source": [
    "# pulls repo to colab\n",
    "!git clone https://github.com/char-tan/mode_connectivity.git\n",
    "\n",
    "# checkout specific branch if needed\n",
    "!cd mode_connectivity; git checkout resnet_perm_spec"
   ]
  },
  {
   "cell_type": "code",
   "execution_count": 3,
   "id": "nhw2DqG-_8Vb",
   "metadata": {
    "id": "nhw2DqG-_8Vb"
   },
   "outputs": [],
   "source": [
    "# allows you to change the .py files and have the imports updated\n",
    "%load_ext autoreload\n",
    "%autoreload 2"
   ]
  },
  {
   "cell_type": "code",
   "execution_count": 4,
   "id": "fe1fb111",
   "metadata": {
    "id": "fe1fb111"
   },
   "outputs": [],
   "source": [
    "import sys, os\n",
    "SCRIPT_DIR = os.path.dirname(os.path.abspath('.'))\n",
    "sys.path.append(os.path.dirname(SCRIPT_DIR))\n",
    "\n",
    "from mode_connectivity.training import *\n",
    "from mode_connectivity.lmc import *\n",
    "from mode_connectivity.training_config import *\n",
    "\n",
    "from mode_connectivity.models.mlp import MLP\n",
    "from mode_connectivity.models.vgg import VGG\n",
    "from mode_connectivity.models.resnet import ResNet\n",
    "\n",
    "from mode_connectivity.utils import weight_matching, data, training_utils, plot, utils\n",
    "\n",
    "import torch\n",
    "from torchvision import transforms\n",
    "import copy\n",
    "from tqdm import tqdm\n",
    "import matplotlib.pyplot as plt\n",
    "import numpy as np"
   ]
  },
  {
   "cell_type": "markdown",
   "id": "u1WMQgF68xZA",
   "metadata": {
    "id": "u1WMQgF68xZA"
   },
   "source": [
    "# VGG LMC"
   ]
  },
  {
   "cell_type": "code",
   "execution_count": 5,
   "id": "QAdC8I8TVVOx",
   "metadata": {
    "colab": {
     "base_uri": "https://localhost:8080/"
    },
    "id": "QAdC8I8TVVOx",
    "outputId": "1db22ad1-eb68-4d53-fca5-34f1cdd470b4"
   },
   "outputs": [
    {
     "name": "stdout",
     "output_type": "stream",
     "text": [
      "Git LFS: (1 of 1 files) 4.16 MB / 4.16 MB\n",
      "Git LFS: (1 of 1 files) 4.16 MB / 4.16 MB\n",
      "Git LFS: (1 of 1 files) 4.16 MB / 4.16 MB\n"
     ]
    }
   ],
   "source": [
    "# pull the required model files\n",
    "!cd mode_connectivity && git lfs pull -I model_files/resnet_wm2_a.pt \n",
    "!cd mode_connectivity && git lfs pull -I model_files/resnet_wm2_b.pt\n",
    "!cd mode_connectivity && git lfs pull -I model_files/resnet_wm2_b_permuted.pt"
   ]
  },
  {
   "cell_type": "code",
   "execution_count": 6,
   "id": "AscW7IXSr-Li",
   "metadata": {
    "colab": {
     "base_uri": "https://localhost:8080/",
     "height": 118,
     "referenced_widgets": [
      "87cc6251bfc844ea9b8ddcfb8e574207",
      "6fd0a6ebb3d34794b8395c75ecee211f",
      "253ec03314464e64a1e936d8ac7a445b",
      "c35d01734b3c44f589a511543f09ce8a",
      "e7c6ad857e5a4589b10fbb41f06115d9",
      "cc25915841954a3db9b4e0225c3cf833",
      "1dd60274f980425ba47a524c3fbf0606",
      "b571947fe3aa49198575038b3939501d",
      "ca2eb65fc16348db8a45b1f165acc03c",
      "da5c3bccb5034001b8886e33ff575777",
      "4de01c2810d34cd5b9fd1ab8fd46b85a"
     ]
    },
    "id": "AscW7IXSr-Li",
    "outputId": "33b43392-2865-48bd-f6f2-c441482b9a28"
   },
   "outputs": [
    {
     "name": "stdout",
     "output_type": "stream",
     "text": [
      "Downloading https://www.cs.toronto.edu/~kriz/cifar-10-python.tar.gz to ./data/cifar-10-python.tar.gz\n"
     ]
    },
    {
     "data": {
      "application/vnd.jupyter.widget-view+json": {
       "model_id": "87cc6251bfc844ea9b8ddcfb8e574207",
       "version_major": 2,
       "version_minor": 0
      },
      "text/plain": [
       "  0%|          | 0/170498071 [00:00<?, ?it/s]"
      ]
     },
     "metadata": {},
     "output_type": "display_data"
    },
    {
     "name": "stdout",
     "output_type": "stream",
     "text": [
      "Extracting ./data/cifar-10-python.tar.gz to ./data\n",
      "Files already downloaded and verified\n"
     ]
    },
    {
     "name": "stderr",
     "output_type": "stream",
     "text": [
      "11it [05:36, 30.55s/it]\n"
     ]
    }
   ],
   "source": [
    "wm=2\n",
    "\n",
    "# Now we generate the contour plot\n",
    "a_params = torch.load(f\"mode_connectivity/model_files/resnet_wm{wm}_a.pt\") \n",
    "b_params = torch.load(f\"mode_connectivity/model_files/resnet_wm{wm}_b.pt\") \n",
    "permuted_params = torch.load(f\"mode_connectivity/model_files/resnet_wm{wm}_b_permuted.pt\") \n",
    "v1, v2, v3 = (\n",
    "    utils.state_dict_to_numpy_array(p) for p in [a_params, b_params, permuted_params]\n",
    ")\n",
    "\n",
    "model_a = ResNet(width_multiplier=wm)\n",
    "model_a.load_state_dict(a_params)\n",
    "\n",
    "contour_plane = utils.generate_orthogonal_basis(v1, v2, v3)\n",
    "train_loader, test_loader = data.get_data_loaders(\n",
    "    dataset=\"cifar10\", train_kwargs={\"batch_size\":512}, test_kwargs={\"batch_size\":512}\n",
    ")\n",
    "device, _ = get_device()\n",
    "(\n",
    "    t1s,\n",
    "    t2s,\n",
    "    test_acc_grid,\n",
    "    test_loss_grid,\n",
    "    train_acc_grid,\n",
    "    train_loss_grid,\n",
    ") = utils.generate_loss_landscape_contour(\n",
    "    model_a, device, train_loader, test_loader, contour_plane, granularity=10, return_train=False,\n",
    ")"
   ]
  },
  {
   "cell_type": "code",
   "execution_count": 7,
   "id": "jcB741IusA-i",
   "metadata": {
    "colab": {
     "base_uri": "https://localhost:8080/",
     "height": 486
    },
    "id": "jcB741IusA-i",
    "outputId": "4d4a3754-f037-46ac-ef6a-12da580a22ec"
   },
   "outputs": [
    {
     "data": {
      "image/png": "[encoded data removed]",
      "text/plain": [
       "<Figure size 600x500 with 2 Axes>"
      ]
     },
     "metadata": {},
     "output_type": "display_data"
    }
   ],
   "source": [
    "plot.plot_metric_contour(\n",
    "    \"accuracy\",\n",
    "    t1s,\n",
    "    t2s,\n",
    "    test_acc_grid,\n",
    "    model_vectors_dict={\n",
    "        \"A\": utils.projection(v1, contour_plane),\n",
    "        \"B\": utils.projection(v2, contour_plane),\n",
    "        \"B permuted\": utils.projection(v3, contour_plane),\n",
    "    },\n",
    ")"
   ]
  },
  {
   "cell_type": "code",
   "execution_count": 8,
   "id": "vyX8FP4rB3U-",
   "metadata": {
    "id": "vyX8FP4rB3U-"
   },
   "outputs": [],
   "source": [
    "np.save(f'resnet_wm{wm}_test_acc_grid.npy', test_acc_grid)\n",
    "np.save(f'resnet_wm{wm}_test_loss_grid.npy', test_loss_grid)"
   ]
  }
 ],
 "metadata": {
  "accelerator": "GPU",
  "colab": {
   "provenance": []
  },
  "gpuClass": "standard",
  "kernelspec": {
   "display_name": "Python 3",
   "language": "python",
   "name": "python3"
  },
  "language_info": {
   "codemirror_mode": {
    "name": "ipython",
    "version": 3
   },
   "file_extension": ".py",
   "mimetype": "text/x-python",
   "name": "python",
   "nbconvert_exporter": "python",
   "pygments_lexer": "ipython3",
   "version": "3.8.8"
  },
  "vscode": {
   "interpreter": {
    "hash": "533dc1b5f6751e9c738350df3cd1b0ef5f569dd461507537431de13a6c09381e"
   }
  },
  "widgets": {
   "application/vnd.jupyter.widget-state+json": {
    "1dd60274f980425ba47a524c3fbf0606": {
     "model_module": "@jupyter-widgets/controls",
     "model_module_version": "1.5.0",
     "model_name": "DescriptionStyleModel",
     "state": {
      "_model_module": "@jupyter-widgets/controls",
      "_model_module_version": "1.5.0",
      "_model_name": "DescriptionStyleModel",
      "_view_count": null,
      "_view_module": "@jupyter-widgets/base",
      "_view_module_version": "1.2.0",
      "_view_name": "StyleView",
      "description_width": ""
     }
    },
    "253ec03314464e64a1e936d8ac7a445b": {
     "model_module": "@jupyter-widgets/controls",
     "model_module_version": "1.5.0",
     "model_name": "FloatProgressModel",
     "state": {
      "_dom_classes": [],
      "_model_module": "@jupyter-widgets/controls",
      "_model_module_version": "1.5.0",
      "_model_name": "FloatProgressModel",
      "_view_count": null,
      "_view_module": "@jupyter-widgets/controls",
      "_view_module_version": "1.5.0",
      "_view_name": "ProgressView",
      "bar_style": "success",
      "description": "",
      "description_tooltip": null,
      "layout": "IPY_MODEL_b571947fe3aa49198575038b3939501d",
      "max": 170498071,
      "min": 0,
      "orientation": "horizontal",
      "style": "IPY_MODEL_ca2eb65fc16348db8a45b1f165acc03c",
      "value": 170498071
     }
    },
    "4de01c2810d34cd5b9fd1ab8fd46b85a": {
     "model_module": "@jupyter-widgets/controls",
     "model_module_version": "1.5.0",
     "model_name": "DescriptionStyleModel",
     "state": {
      "_model_module": "@jupyter-widgets/controls",
      "_model_module_version": "1.5.0",
      "_model_name": "DescriptionStyleModel",
      "_view_count": null,
      "_view_module": "@jupyter-widgets/base",
      "_view_module_version": "1.2.0",
      "_view_name": "StyleView",
      "description_width": ""
     }
    },
    "6fd0a6ebb3d34794b8395c75ecee211f": {
     "model_module": "@jupyter-widgets/controls",
     "model_module_version": "1.5.0",
     "model_name": "HTMLModel",
     "state": {
      "_dom_classes": [],
      "_model_module": "@jupyter-widgets/controls",
      "_model_module_version": "1.5.0",
      "_model_name": "HTMLModel",
      "_view_count": null,
      "_view_module": "@jupyter-widgets/controls",
      "_view_module_version": "1.5.0",
      "_view_name": "HTMLView",
      "description": "",
      "description_tooltip": null,
      "layout": "IPY_MODEL_cc25915841954a3db9b4e0225c3cf833",
      "placeholder": "​",
      "style": "IPY_MODEL_1dd60274f980425ba47a524c3fbf0606",
      "value": "100%"
     }
    },
    "87cc6251bfc844ea9b8ddcfb8e574207": {
     "model_module": "@jupyter-widgets/controls",
     "model_module_version": "1.5.0",
     "model_name": "HBoxModel",
     "state": {
      "_dom_classes": [],
      "_model_module": "@jupyter-widgets/controls",
      "_model_module_version": "1.5.0",
      "_model_name": "HBoxModel",
      "_view_count": null,
      "_view_module": "@jupyter-widgets/controls",
      "_view_module_version": "1.5.0",
      "_view_name": "HBoxView",
      "box_style": "",
      "children": [
       "IPY_MODEL_6fd0a6ebb3d34794b8395c75ecee211f",
       "IPY_MODEL_253ec03314464e64a1e936d8ac7a445b",
       "IPY_MODEL_c35d01734b3c44f589a511543f09ce8a"
      ],
      "layout": "IPY_MODEL_e7c6ad857e5a4589b10fbb41f06115d9"
     }
    },
    "b571947fe3aa49198575038b3939501d": {
     "model_module": "@jupyter-widgets/base",
     "model_module_version": "1.2.0",
     "model_name": "LayoutModel",
     "state": {
      "_model_module": "@jupyter-widgets/base",
      "_model_module_version": "1.2.0",
      "_model_name": "LayoutModel",
      "_view_count": null,
      "_view_module": "@jupyter-widgets/base",
      "_view_module_version": "1.2.0",
      "_view_name": "LayoutView",
      "align_content": null,
      "align_items": null,
      "align_self": null,
      "border": null,
      "bottom": null,
      "display": null,
      "flex": null,
      "flex_flow": null,
      "grid_area": null,
      "grid_auto_columns": null,
      "grid_auto_flow": null,
      "grid_auto_rows": null,
      "grid_column": null,
      "grid_gap": null,
      "grid_row": null,
      "grid_template_areas": null,
      "grid_template_columns": null,
      "grid_template_rows": null,
      "height": null,
      "justify_content": null,
      "justify_items": null,
      "left": null,
      "margin": null,
      "max_height": null,
      "max_width": null,
      "min_height": null,
      "min_width": null,
      "object_fit": null,
      "object_position": null,
      "order": null,
      "overflow": null,
      "overflow_x": null,
      "overflow_y": null,
      "padding": null,
      "right": null,
      "top": null,
      "visibility": null,
      "width": null
     }
    },
    "c35d01734b3c44f589a511543f09ce8a": {
     "model_module": "@jupyter-widgets/controls",
     "model_module_version": "1.5.0",
     "model_name": "HTMLModel",
     "state": {
      "_dom_classes": [],
      "_model_module": "@jupyter-widgets/controls",
      "_model_module_version": "1.5.0",
      "_model_name": "HTMLModel",
      "_view_count": null,
      "_view_module": "@jupyter-widgets/controls",
      "_view_module_version": "1.5.0",
      "_view_name": "HTMLView",
      "description": "",
      "description_tooltip": null,
      "layout": "IPY_MODEL_da5c3bccb5034001b8886e33ff575777",
      "placeholder": "​",
      "style": "IPY_MODEL_4de01c2810d34cd5b9fd1ab8fd46b85a",
      "value": " 170498071/170498071 [00:05&lt;00:00, 33121253.46it/s]"
     }
    },
    "ca2eb65fc16348db8a45b1f165acc03c": {
     "model_module": "@jupyter-widgets/controls",
     "model_module_version": "1.5.0",
     "model_name": "ProgressStyleModel",
     "state": {
      "_model_module": "@jupyter-widgets/controls",
      "_model_module_version": "1.5.0",
      "_model_name": "ProgressStyleModel",
      "_view_count": null,
      "_view_module": "@jupyter-widgets/base",
      "_view_module_version": "1.2.0",
      "_view_name": "StyleView",
      "bar_color": null,
      "description_width": ""
     }
    },
    "cc25915841954a3db9b4e0225c3cf833": {
     "model_module": "@jupyter-widgets/base",
     "model_module_version": "1.2.0",
     "model_name": "LayoutModel",
     "state": {
      "_model_module": "@jupyter-widgets/base",
      "_model_module_version": "1.2.0",
      "_model_name": "LayoutModel",
      "_view_count": null,
      "_view_module": "@jupyter-widgets/base",
      "_view_module_version": "1.2.0",
      "_view_name": "LayoutView",
      "align_content": null,
      "align_items": null,
      "align_self": null,
      "border": null,
      "bottom": null,
      "display": null,
      "flex": null,
      "flex_flow": null,
      "grid_area": null,
      "grid_auto_columns": null,
      "grid_auto_flow": null,
      "grid_auto_rows": null,
      "grid_column": null,
      "grid_gap": null,
      "grid_row": null,
      "grid_template_areas": null,
      "grid_template_columns": null,
      "grid_template_rows": null,
      "height": null,
      "justify_content": null,
      "justify_items": null,
      "left": null,
      "margin": null,
      "max_height": null,
      "max_width": null,
      "min_height": null,
      "min_width": null,
      "object_fit": null,
      "object_position": null,
      "order": null,
      "overflow": null,
      "overflow_x": null,
      "overflow_y": null,
      "padding": null,
      "right": null,
      "top": null,
      "visibility": null,
      "width": null
     }
    },
    "da5c3bccb5034001b8886e33ff575777": {
     "model_module": "@jupyter-widgets/base",
     "model_module_version": "1.2.0",
     "model_name": "LayoutModel",
     "state": {
      "_model_module": "@jupyter-widgets/base",
      "_model_module_version": "1.2.0",
      "_model_name": "LayoutModel",
      "_view_count": null,
      "_view_module": "@jupyter-widgets/base",
      "_view_module_version": "1.2.0",
      "_view_name": "LayoutView",
      "align_content": null,
      "align_items": null,
      "align_self": null,
      "border": null,
      "bottom": null,
      "display": null,
      "flex": null,
      "flex_flow": null,
      "grid_area": null,
      "grid_auto_columns": null,
      "grid_auto_flow": null,
      "grid_auto_rows": null,
      "grid_column": null,
      "grid_gap": null,
      "grid_row": null,
      "grid_template_areas": null,
      "grid_template_columns": null,
      "grid_template_rows": null,
      "height": null,
      "justify_content": null,
      "justify_items": null,
      "left": null,
      "margin": null,
      "max_height": null,
      "max_width": null,
      "min_height": null,
      "min_width": null,
      "object_fit": null,
      "object_position": null,
      "order": null,
      "overflow": null,
      "overflow_x": null,
      "overflow_y": null,
      "padding": null,
      "right": null,
      "top": null,
      "visibility": null,
      "width": null
     }
    },
    "e7c6ad857e5a4589b10fbb41f06115d9": {
     "model_module": "@jupyter-widgets/base",
     "model_module_version": "1.2.0",
     "model_name": "LayoutModel",
     "state": {
      "_model_module": "@jupyter-widgets/base",
      "_model_module_version": "1.2.0",
      "_model_name": "LayoutModel",
      "_view_count": null,
      "_view_module": "@jupyter-widgets/base",
      "_view_module_version": "1.2.0",
      "_view_name": "LayoutView",
      "align_content": null,
      "align_items": null,
      "align_self": null,
      "border": null,
      "bottom": null,
      "display": null,
      "flex": null,
      "flex_flow": null,
      "grid_area": null,
      "grid_auto_columns": null,
      "grid_auto_flow": null,
      "grid_auto_rows": null,
      "grid_column": null,
      "grid_gap": null,
      "grid_row": null,
      "grid_template_areas": null,
      "grid_template_columns": null,
      "grid_template_rows": null,
      "height": null,
      "justify_content": null,
      "justify_items": null,
      "left": null,
      "margin": null,
      "max_height": null,
      "max_width": null,
      "min_height": null,
      "min_width": null,
      "object_fit": null,
      "object_position": null,
      "order": null,
      "overflow": null,
      "overflow_x": null,
      "overflow_y": null,
      "padding": null,
      "right": null,
      "top": null,
      "visibility": null,
      "width": null
     }
    }
   }
  }
 },
 "nbformat": 4,
 "nbformat_minor": 5
}
